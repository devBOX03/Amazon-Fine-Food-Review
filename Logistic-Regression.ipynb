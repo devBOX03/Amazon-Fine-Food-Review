{
 "cells": [
  {
   "cell_type": "markdown",
   "metadata": {
    "colab_type": "text",
    "id": "Ik1r59tEnLJV"
   },
   "source": [
    "# Objective : \n",
    "Apply logistic regression on Amazon review dataset to find accuracy and error of diffrent models."
   ]
  },
  {
   "cell_type": "markdown",
   "metadata": {
    "colab_type": "text",
    "id": "EKveM4DdnLJc"
   },
   "source": [
    "## Workflow:\n",
    "1. Sort data based on time.\n",
    "2. Split data into train and test.\n",
    "3. Convert reviews of \"Amazon Fine Food Review\" dataset into vectors using :-\n",
    "    * Bag of words.\n",
    "    * TF-IDF\n",
    "    * Average Word2vec\n",
    "    * TF-IDF Word2ves \n",
    "4. Perform standardization on every vectorized data.\n",
    "5. Find best hyperparameter(lamda) by GridSearchCV and RandomizedSearchCV.\n",
    "6. Apply Logistic Regression in diffrent models using L1 and L2 regularizer.\n",
    "7. Find accuracy and error of the model.\n",
    "8. Print confusion matrix and plot error plots for every model. \n",
    "9. Find colinearity between features.\n",
    "10. Find top n important feature as per their weight vector."
   ]
  },
  {
   "cell_type": "code",
   "execution_count": 1,
   "metadata": {
    "colab": {},
    "colab_type": "code",
    "id": "nGaobD0KnLJf"
   },
   "outputs": [
    {
     "name": "stderr",
     "output_type": "stream",
     "text": [
      "/home/dev/anaconda3/lib/python3.6/site-packages/sklearn/cross_validation.py:41: DeprecationWarning: This module was deprecated in version 0.18 in favor of the model_selection module into which all the refactored classes and functions are moved. Also note that the interface of the new CV iterators are different from that of this module. This module will be removed in 0.20.\n",
      "  \"This module will be removed in 0.20.\", DeprecationWarning)\n",
      "/home/dev/anaconda3/lib/python3.6/site-packages/sklearn/grid_search.py:42: DeprecationWarning: This module was deprecated in version 0.18 in favor of the model_selection module into which all the refactored classes and functions are moved. This module will be removed in 0.20.\n",
      "  DeprecationWarning)\n"
     ]
    }
   ],
   "source": [
    "%matplotlib inline\n",
    "\n",
    "import sqlite3\n",
    "import pandas as pd\n",
    "import numpy as np\n",
    "import nltk\n",
    "import matplotlib.pyplot as plt\n",
    "import seaborn as sns\n",
    "from sklearn.feature_extraction.text import TfidfTransformer\n",
    "from sklearn.feature_extraction.text import TfidfVectorizer\n",
    "import re, gensim\n",
    "import string\n",
    "from nltk.corpus import stopwords\n",
    "from nltk.stem.wordnet import WordNetLemmatizer\n",
    "from sklearn.feature_extraction.text import CountVectorizer\n",
    "from sklearn.manifold import TSNE\n",
    "from sklearn.preprocessing import StandardScaler\n",
    "from sklearn.decomposition import TruncatedSVD\n",
    "from sklearn.cross_validation import train_test_split\n",
    "from sklearn.neighbors import KNeighborsClassifier\n",
    "from sklearn.metrics import accuracy_score\n",
    "from sklearn.cross_validation import cross_val_score\n",
    "from collections import Counter\n",
    "from sklearn.metrics import accuracy_score, f1_score, make_scorer\n",
    "from sklearn import cross_validation\n",
    "from sklearn.metrics import classification_report, confusion_matrix\n",
    "from sklearn.naive_bayes import BernoulliNB\n",
    "from sklearn.feature_selection import chi2, mutual_info_classif\n",
    "from sklearn.feature_selection import mutual_info_classif\n",
    "from sklearn.grid_search import GridSearchCV\n",
    "from sklearn.model_selection import RandomizedSearchCV\n",
    "from sklearn.linear_model import LogisticRegression\n",
    "from scipy.stats import uniform\n",
    "import copy"
   ]
  },
  {
   "cell_type": "markdown",
   "metadata": {
    "colab_type": "text",
    "id": "0ExrafrFnLJ2"
   },
   "source": [
    "## Importing data"
   ]
  },
  {
   "cell_type": "code",
   "execution_count": 2,
   "metadata": {
    "colab": {},
    "colab_type": "code",
    "id": "FnRKKNXanLJ6"
   },
   "outputs": [],
   "source": [
    "\"\"\"\n",
    "Reading data from .sqlite file,\n",
    "choosing only positive and negative reviews not neutral reviews.\n",
    "\"\"\"\n",
    "# using the SQLite Table to read data.\n",
    "con = sqlite3.connect('database.sqlite') \n",
    "\n",
    "#filtering only positive and negative reviews i.e. \n",
    "# not taking into consideration those reviews with Score=3\n",
    "filtered_data = pd.read_sql_query(\"SELECT * FROM Reviews WHERE Score != 3\", con) \n",
    "\n",
    "# Give reviews with Score>3 a positive rating, and reviews with a score<3 a negative rating.\n",
    "def partition(x):\n",
    "    if x < 3:\n",
    "        return 'negative'\n",
    "    return 'positive'\n",
    "\n",
    "#changing reviews with score less than 3 to be positive and vice-versa\n",
    "actualScore = filtered_data['Score']\n",
    "positiveNegative = actualScore.map(partition) \n",
    "filtered_data['Score'] = positiveNegative"
   ]
  },
  {
   "cell_type": "markdown",
   "metadata": {
    "colab_type": "text",
    "id": "UDNeJhtjnLKF"
   },
   "source": [
    "## Cleansing data"
   ]
  },
  {
   "cell_type": "code",
   "execution_count": 3,
   "metadata": {
    "colab": {
     "base_uri": "https://localhost:8080/",
     "height": 35
    },
    "colab_type": "code",
    "executionInfo": {
     "elapsed": 5498,
     "status": "ok",
     "timestamp": 1534505996973,
     "user": {
      "displayName": "Debasish Padhi",
      "photoUrl": "//lh3.googleusercontent.com/-vcn0hxkFbTw/AAAAAAAAAAI/AAAAAAAAAHM/9ggzi4wqYg0/s50-c-k-no/photo.jpg",
      "userId": "112236557723789007632"
     },
     "user_tz": -330
    },
    "id": "LwWSHFbCnLKJ",
    "outputId": "12863953-de18-413f-9d19-99d4e76c1063"
   },
   "outputs": [
    {
     "data": {
      "text/plain": [
       "(364171, 10)"
      ]
     },
     "execution_count": 3,
     "metadata": {},
     "output_type": "execute_result"
    }
   ],
   "source": [
    "\"\"\"\n",
    "Below code snippet removes duplicate data from dataset that are repeatedly mentioned.\n",
    "\"\"\"\n",
    "#Sorting data according to ProductId in ascending order\n",
    "sorted_data=filtered_data.sort_values('ProductId', axis=0, ascending=True,\\\n",
    "                                      inplace=False, kind='quicksort',\\\n",
    "                                      na_position='last')\n",
    "#Deduplication of entries\n",
    "final=sorted_data.drop_duplicates(subset={\"UserId\",\"ProfileName\",\"Time\",\"Text\"},\\\n",
    "                                  keep='first', inplace=False)\n",
    "final=final[final.HelpfulnessNumerator<=final.HelpfulnessDenominator]\n",
    "final.shape"
   ]
  },
  {
   "cell_type": "code",
   "execution_count": 4,
   "metadata": {
    "colab": {
     "base_uri": "https://localhost:8080/",
     "height": 35
    },
    "colab_type": "code",
    "executionInfo": {
     "elapsed": 1213,
     "status": "ok",
     "timestamp": 1534505998305,
     "user": {
      "displayName": "Debasish Padhi",
      "photoUrl": "//lh3.googleusercontent.com/-vcn0hxkFbTw/AAAAAAAAAAI/AAAAAAAAAHM/9ggzi4wqYg0/s50-c-k-no/photo.jpg",
      "userId": "112236557723789007632"
     },
     "user_tz": -330
    },
    "id": "YmZ4wNFGnLKU",
    "outputId": "38d07a7b-d4ed-4a2f-dcdb-819254af7e6b"
   },
   "outputs": [
    {
     "data": {
      "text/plain": [
       "(100000, 10)"
      ]
     },
     "execution_count": 4,
     "metadata": {},
     "output_type": "execute_result"
    }
   ],
   "source": [
    "\"\"\"\n",
    "Sorting data on the basis of TIME\n",
    "\"\"\"\n",
    "final = final[:100000]\n",
    "final = final.sort_values(by=['Time'], axis=0)\n",
    "final.shape"
   ]
  },
  {
   "cell_type": "markdown",
   "metadata": {
    "colab_type": "text",
    "id": "SJzs85DfnLKf"
   },
   "source": [
    "## Text preprocessing"
   ]
  },
  {
   "cell_type": "code",
   "execution_count": 5,
   "metadata": {
    "colab": {},
    "colab_type": "code",
    "id": "-BQ2InwWnLKj"
   },
   "outputs": [],
   "source": [
    "\"\"\"\n",
    "This code snippet does text preprocessing\n",
    "\"\"\"\n",
    "def cleanhtml(sentence): #function to clean the word of any html-tags\n",
    "    cleanr = re.compile('<.*?>')\n",
    "    cleantext = re.sub(cleanr, ' ', sentence)\n",
    "    return cleantext\n",
    "def cleanpunc(sentence): #function to clean the word of any punctuation or special characters\n",
    "    cleaned = re.sub(r'[?|!|\\'|\"|#]',r'',sentence)\n",
    "    cleaned = re.sub(r'[.|,|)|(|\\|/]',r' ',cleaned)\n",
    "    return  cleaned\n",
    "stop = set(stopwords.words('english')) #set of stopwords\n",
    "sno = nltk.stem.SnowballStemmer('english') #initialising the snowball stemmer\n",
    "final_text = []\n",
    "for index in range(len(final['Text'])):\n",
    "    filtered_sentence=[]\n",
    "    sent=cleanhtml(final['Text'].iloc[index]) # remove HTMl tags\n",
    "    for w in sent.split():\n",
    "        for cleaned_words in cleanpunc(w).split():# clean punctuation marks from words\n",
    "            if((cleaned_words.isalpha()) & (len(cleaned_words)>2)):# verifying word must be a alphabet and atleat two character long\n",
    "                cleaned_words = cleaned_words.lower()\n",
    "                if(cleaned_words not in stop):# blocks stopwords\n",
    "                    s=(sno.stem(cleaned_words))# stemming in process\n",
    "                    filtered_sentence.append(s)\n",
    "                else:\n",
    "                    continue\n",
    "            else:\n",
    "                continue \n",
    "    str1 = \" \".join(filtered_sentence) #final cleaned string of words\n",
    "    final_text.append(str1)"
   ]
  },
  {
   "cell_type": "code",
   "execution_count": 6,
   "metadata": {
    "colab": {
     "base_uri": "https://localhost:8080/",
     "height": 54
    },
    "colab_type": "code",
    "executionInfo": {
     "elapsed": 969,
     "status": "ok",
     "timestamp": 1534506003351,
     "user": {
      "displayName": "Debasish Padhi",
      "photoUrl": "//lh3.googleusercontent.com/-vcn0hxkFbTw/AAAAAAAAAAI/AAAAAAAAAHM/9ggzi4wqYg0/s50-c-k-no/photo.jpg",
      "userId": "112236557723789007632"
     },
     "user_tz": -330
    },
    "id": "8qEB1jkVnLKv",
    "outputId": "b60a09f5-8739-45b9-f499-33c7d5223e68"
   },
   "outputs": [
    {
     "name": "stdout",
     "output_type": "stream",
     "text": [
      "(100000,)\n",
      "(100000,)\n"
     ]
    }
   ],
   "source": [
    "amazon_data_text = pd.Series(final_text)\n",
    "amazon_data_label = pd.Series(final['Score'])\n",
    "print(amazon_data_text.shape)\n",
    "print(amazon_data_label.shape)"
   ]
  },
  {
   "cell_type": "code",
   "execution_count": 7,
   "metadata": {
    "colab": {},
    "colab_type": "code",
    "id": "MPC2VRqPnLK7"
   },
   "outputs": [],
   "source": [
    "\"\"\"\n",
    "Spliting sample data into train_data and test_data (75:25)\n",
    "\"\"\"\n",
    "x_train, x_test, y_train, y_test = cross_validation.train_test_split(\\\n",
    "                                                                     amazon_data_text,\\\n",
    "                                                                     amazon_data_label,\\\n",
    "                                                                     test_size = 0.25,\\\n",
    "                                                                     random_state=0)"
   ]
  },
  {
   "cell_type": "code",
   "execution_count": 8,
   "metadata": {
    "colab": {
     "base_uri": "https://localhost:8080/",
     "height": 72
    },
    "colab_type": "code",
    "executionInfo": {
     "elapsed": 1136,
     "status": "ok",
     "timestamp": 1534506006235,
     "user": {
      "displayName": "Debasish Padhi",
      "photoUrl": "//lh3.googleusercontent.com/-vcn0hxkFbTw/AAAAAAAAAAI/AAAAAAAAAHM/9ggzi4wqYg0/s50-c-k-no/photo.jpg",
      "userId": "112236557723789007632"
     },
     "user_tz": -330
    },
    "id": "2nDkouQYnLLO",
    "outputId": "fc55eec3-ffff-4e09-d27c-b14f73ef6df6"
   },
   "outputs": [
    {
     "name": "stdout",
     "output_type": "stream",
     "text": [
      "positive    21253\n",
      "negative     3747\n",
      "Name: Score, dtype: int64\n"
     ]
    }
   ],
   "source": [
    "print(y_test.value_counts())"
   ]
  },
  {
   "cell_type": "markdown",
   "metadata": {
    "colab_type": "text",
    "id": "eq4jZcSVnLLc"
   },
   "source": [
    "### Bag of words."
   ]
  },
  {
   "cell_type": "code",
   "execution_count": 27,
   "metadata": {
    "colab": {
     "base_uri": "https://localhost:8080/",
     "height": 35
    },
    "colab_type": "code",
    "executionInfo": {
     "elapsed": 1565,
     "status": "ok",
     "timestamp": 1534509119774,
     "user": {
      "displayName": "Debasish Padhi",
      "photoUrl": "//lh3.googleusercontent.com/-vcn0hxkFbTw/AAAAAAAAAAI/AAAAAAAAAHM/9ggzi4wqYg0/s50-c-k-no/photo.jpg",
      "userId": "112236557723789007632"
     },
     "user_tz": -330
    },
    "id": "3dLYIQC0nLLe",
    "outputId": "03bd8588-1595-4e28-b04a-421ee2a33251"
   },
   "outputs": [
    {
     "data": {
      "text/plain": [
       "(75000, 32711)"
      ]
     },
     "execution_count": 27,
     "metadata": {},
     "output_type": "execute_result"
    }
   ],
   "source": [
    "\"\"\"\n",
    "This code snippet converts train data from text to vectors by BOW.\n",
    "\"\"\"\n",
    "count_vect = CountVectorizer(analyzer='word', dtype = 'float64') #in scikit-learn\n",
    "bow_text_train_vector = count_vect.fit_transform(x_train)\n",
    "bow_text_train_vector = bow_text_train_vector\n",
    "bow_text_train_vector.shape"
   ]
  },
  {
   "cell_type": "code",
   "execution_count": 28,
   "metadata": {
    "colab": {
     "base_uri": "https://localhost:8080/",
     "height": 35
    },
    "colab_type": "code",
    "executionInfo": {
     "elapsed": 1103,
     "status": "ok",
     "timestamp": 1534509121298,
     "user": {
      "displayName": "Debasish Padhi",
      "photoUrl": "//lh3.googleusercontent.com/-vcn0hxkFbTw/AAAAAAAAAAI/AAAAAAAAAHM/9ggzi4wqYg0/s50-c-k-no/photo.jpg",
      "userId": "112236557723789007632"
     },
     "user_tz": -330
    },
    "id": "6Y-ozTVLnLL3",
    "outputId": "59527ce6-2daf-4ed1-b403-bed9bccd9fbd"
   },
   "outputs": [
    {
     "name": "stdout",
     "output_type": "stream",
     "text": [
      "(25000, 32711)\n"
     ]
    }
   ],
   "source": [
    "\"\"\"\n",
    "This code snippet converts test data from text to vectors by BOW.\n",
    "\"\"\"\n",
    "bow_text_test_vector = count_vect.transform(x_test)\n",
    "bow_text_test_vector = bow_text_test_vector\n",
    "print(bow_text_test_vector.shape)"
   ]
  },
  {
   "cell_type": "code",
   "execution_count": 29,
   "metadata": {
    "colab": {
     "base_uri": "https://localhost:8080/",
     "height": 54
    },
    "colab_type": "code",
    "executionInfo": {
     "elapsed": 943,
     "status": "ok",
     "timestamp": 1534509123674,
     "user": {
      "displayName": "Debasish Padhi",
      "photoUrl": "//lh3.googleusercontent.com/-vcn0hxkFbTw/AAAAAAAAAAI/AAAAAAAAAHM/9ggzi4wqYg0/s50-c-k-no/photo.jpg",
      "userId": "112236557723789007632"
     },
     "user_tz": -330
    },
    "id": "r9zYx4m9e1sv",
    "outputId": "336070b3-6e03-408c-bc0d-35059a66ea03"
   },
   "outputs": [
    {
     "name": "stdout",
     "output_type": "stream",
     "text": [
      "Train data shape : (75000, 32711)\n",
      "Test data shape : (25000, 32711)\n"
     ]
    }
   ],
   "source": [
    "\"\"\"\n",
    "Standardize both training and test data\n",
    "\"\"\"\n",
    "scale = StandardScaler(with_mean = False)\n",
    "bow_text_train_vector = scale.fit_transform(bow_text_train_vector)\n",
    "bow_text_test_vector  = scale.transform(bow_text_test_vector)\n",
    "print(\"Train data shape :\",bow_text_train_vector.shape)\n",
    "print(\"Test data shape :\",bow_text_test_vector.shape)"
   ]
  },
  {
   "cell_type": "code",
   "execution_count": 30,
   "metadata": {
    "colab": {
     "base_uri": "https://localhost:8080/",
     "height": 109
    },
    "colab_type": "code",
    "executionInfo": {
     "elapsed": 2129,
     "status": "ok",
     "timestamp": 1534509126243,
     "user": {
      "displayName": "Debasish Padhi",
      "photoUrl": "//lh3.googleusercontent.com/-vcn0hxkFbTw/AAAAAAAAAAI/AAAAAAAAAHM/9ggzi4wqYg0/s50-c-k-no/photo.jpg",
      "userId": "112236557723789007632"
     },
     "user_tz": -330
    },
    "id": "CBoU2k-tgUZT",
    "outputId": "c4bbe6fb-ced6-4882-a3dd-caf4eadf8534"
   },
   "outputs": [
    {
     "name": "stdout",
     "output_type": "stream",
     "text": [
      "LogisticRegression(C=0.001, class_weight=None, dual=False, fit_intercept=True,\n",
      "          intercept_scaling=1, max_iter=100, multi_class='ovr', n_jobs=1,\n",
      "          penalty='l2', random_state=None, solver='liblinear', tol=0.0001,\n",
      "          verbose=0, warm_start=False)\n",
      "F1 Score :  0.9820719286586403\n"
     ]
    }
   ],
   "source": [
    "\"\"\"\n",
    "This code snippet deals with GridSearchCV\n",
    "\"\"\"\n",
    "tuned_parameters = [{ 'C' : [10**-4, 10**-3, 10**-2,\\\n",
    "                             10**-1, 10**0, 10**1,\\\n",
    "                             10**2,10**3, 10**4]}]\n",
    "f1_scorer = make_scorer(f1_score, pos_label=\"positive\")\n",
    "model = GridSearchCV(LogisticRegression(), tuned_parameters,\\\n",
    "                     scoring = f1_scorer, cv=5 )\n",
    "model.fit(bow_text_train_vector, y_train)\n",
    "print(model.best_estimator_)\n",
    "print(\"F1 Score : \",model.score(bow_text_train_vector, y_train))"
   ]
  },
  {
   "cell_type": "code",
   "execution_count": 38,
   "metadata": {
    "colab": {
     "base_uri": "https://localhost:8080/",
     "height": 109
    },
    "colab_type": "code",
    "executionInfo": {
     "elapsed": 2417,
     "status": "ok",
     "timestamp": 1534509129047,
     "user": {
      "displayName": "Debasish Padhi",
      "photoUrl": "//lh3.googleusercontent.com/-vcn0hxkFbTw/AAAAAAAAAAI/AAAAAAAAAHM/9ggzi4wqYg0/s50-c-k-no/photo.jpg",
      "userId": "112236557723789007632"
     },
     "user_tz": -330
    },
    "id": "74GNMDGasWxr",
    "outputId": "b7ad8f8f-f565-4d90-ca29-2fc55e99e61d"
   },
   "outputs": [
    {
     "name": "stdout",
     "output_type": "stream",
     "text": [
      "LogisticRegression(C=46.67064188978246, class_weight=None, dual=False,\n",
      "          fit_intercept=True, intercept_scaling=1, max_iter=100,\n",
      "          multi_class='ovr', n_jobs=1, penalty='l2', random_state=None,\n",
      "          solver='liblinear', tol=0.0001, verbose=0, warm_start=False)\n",
      "F1 Score :  0.9922409217222968\n"
     ]
    }
   ],
   "source": [
    "\"\"\"\n",
    "This code snippet deals with RandomizedSearchCV\n",
    "\"\"\"\n",
    "parameters = { 'C' : uniform(10**-2,10**2)}\n",
    "f1_scorer = make_scorer(f1_score, pos_label=\"positive\")\n",
    "model = RandomizedSearchCV(LogisticRegression(), parameters, scoring = f1_scorer, cv=5 )\n",
    "model.fit(bow_text_train_vector, y_train)\n",
    "print(model.best_estimator_)\n",
    "print(\"F1 Score : \",model.score(bow_text_train_vector, y_train))"
   ]
  },
  {
   "cell_type": "code",
   "execution_count": 36,
   "metadata": {
    "colab": {},
    "colab_type": "code",
    "id": "lcKm2YXM1xv3"
   },
   "outputs": [
    {
     "name": "stdout",
     "output_type": "stream",
     "text": [
      "Sparsity :  32711\n",
      "Error : 14.24\n"
     ]
    },
    {
     "data": {
      "text/plain": [
       "Text(0.5,1,'CONFUSION MATRIX')"
      ]
     },
     "execution_count": 36,
     "metadata": {},
     "output_type": "execute_result"
    },
    {
     "data": {
      "image/png": "[encoded data removed]",
      "text/plain": [
       "<matplotlib.figure.Figure at 0x7fa4d595eeb8>"
      ]
     },
     "metadata": {},
     "output_type": "display_data"
    }
   ],
   "source": [
    "\"\"\"\n",
    "In this code snippet finds sparsity and erorr using lamda from GridSearchCV.\n",
    "\"\"\"\n",
    "clf = LogisticRegression(C=1000, penalty='l2');\n",
    "clf.fit(bow_text_train_vector, y_train);\n",
    "w = clf.coef_\n",
    "print(\"Sparsity : \",np.count_nonzero(w))\n",
    "# response prediction\n",
    "pred = clf.predict(bow_text_test_vector)\n",
    "# evaluate error\n",
    "acc = accuracy_score(y_test, pred)*100\n",
    "print(\"Error : %.2f\"%(100-acc))\n",
    "conf_matrix = confusion_matrix(y_test, pred)\n",
    "confusion_matrix_df = pd.DataFrame(conf_matrix,\n",
    "                                   [\"Negative\", \"Positive\"],\\\n",
    "                                   [\"Negative\", \"Positive\"],\\\n",
    "                                   dtype=int)\n",
    "sns.heatmap(confusion_matrix_df, annot=True, fmt=\"d\")\n",
    "plt.title(\"CONFUSION MATRIX\")"
   ]
  },
  {
   "cell_type": "code",
   "execution_count": 37,
   "metadata": {
    "colab": {},
    "colab_type": "code",
    "id": "EdoFyiPP4Ujf"
   },
   "outputs": [
    {
     "name": "stdout",
     "output_type": "stream",
     "text": [
      "Sparsity :  19941\n",
      "Error : 13.19\n"
     ]
    },
    {
     "data": {
      "text/plain": [
       "Text(0.5,1,'CONFUSION MATRIX')"
      ]
     },
     "execution_count": 37,
     "metadata": {},
     "output_type": "execute_result"
    },
    {
     "data": {
      "image/png": "[encoded data removed]",
      "text/plain": [
       "<matplotlib.figure.Figure at 0x7fa4e37755f8>"
      ]
     },
     "metadata": {},
     "output_type": "display_data"
    }
   ],
   "source": [
    "\"\"\"\n",
    "In this code snippet finds sparsity and erorr using lamda from GridSearchCV.\n",
    "\"\"\"\n",
    "clf = LogisticRegression(C=1000, penalty='l1');\n",
    "clf.fit(bow_text_train_vector, y_train);\n",
    "w = clf.coef_\n",
    "print(\"Sparsity : \",np.count_nonzero(w))\n",
    "# response prediction\n",
    "pred = clf.predict(bow_text_test_vector)\n",
    "# evaluate error\n",
    "acc = accuracy_score(y_test, pred)*100\n",
    "print(\"Error : %.2f\"%(100-acc))\n",
    "conf_matrix = confusion_matrix(y_test, pred)\n",
    "confusion_matrix_df = pd.DataFrame(conf_matrix,\n",
    "                                   [\"Negative\", \"Positive\"],\\\n",
    "                                   [\"Negative\", \"Positive\"],\\\n",
    "                                   dtype=int)\n",
    "sns.heatmap(confusion_matrix_df, annot=True, fmt=\"d\")\n",
    "plt.title(\"CONFUSION MATRIX\")"
   ]
  },
  {
   "cell_type": "code",
   "execution_count": 47,
   "metadata": {
    "colab": {},
    "colab_type": "code",
    "id": "N7etPrNL4oxs"
   },
   "outputs": [
    {
     "name": "stdout",
     "output_type": "stream",
     "text": [
      "Sparsity :  32711\n",
      "Error : 10.53\n"
     ]
    },
    {
     "data": {
      "text/plain": [
       "Text(0.5,1,'CONFUSION MATRIX')"
      ]
     },
     "execution_count": 47,
     "metadata": {},
     "output_type": "execute_result"
    },
    {
     "data": {
      "image/png": "[encoded data removed]",
      "text/plain": [
       "<matplotlib.figure.Figure at 0x7fa4d6e10668>"
      ]
     },
     "metadata": {},
     "output_type": "display_data"
    }
   ],
   "source": [
    "\"\"\"\n",
    "In this code snippet finds sparsity and erorr using lamda from RandomizedSearchCV.\n",
    "\"\"\"\n",
    "clf = LogisticRegression(C=0.02, penalty='l2');\n",
    "clf.fit(bow_text_train_vector, y_train);\n",
    "w = clf.coef_\n",
    "print(\"Sparsity : \",np.count_nonzero(w))\n",
    "# response prediction\n",
    "pred = clf.predict(bow_text_test_vector)\n",
    "# evaluate error\n",
    "acc = accuracy_score(y_test, pred)*100\n",
    "print(\"Error : %.2f\"%(100-acc))\n",
    "conf_matrix = confusion_matrix(y_test, pred)\n",
    "confusion_matrix_df = pd.DataFrame(conf_matrix,\n",
    "                                   [\"Negative\", \"Positive\"],\\\n",
    "                                   [\"Negative\", \"Positive\"],\\\n",
    "                                   dtype=int)\n",
    "sns.heatmap(confusion_matrix_df, annot=True, fmt=\"d\")\n",
    "plt.title(\"CONFUSION MATRIX\")"
   ]
  },
  {
   "cell_type": "code",
   "execution_count": 87,
   "metadata": {},
   "outputs": [],
   "source": [
    "\"\"\"Lists to store lambda and error values\"\"\"\n",
    "lambda_list = [0.02,0.002,0.0002]\n",
    "train_error = []\n",
    "test_error = []"
   ]
  },
  {
   "cell_type": "code",
   "execution_count": 88,
   "metadata": {
    "colab": {},
    "colab_type": "code",
    "id": "1PdUlvdv44zp"
   },
   "outputs": [
    {
     "name": "stdout",
     "output_type": "stream",
     "text": [
      "Sparsity :  6351\n",
      "Error : 8.31\n"
     ]
    },
    {
     "data": {
      "text/plain": [
       "Text(0.5,1,'CONFUSION MATRIX')"
      ]
     },
     "execution_count": 88,
     "metadata": {},
     "output_type": "execute_result"
    },
    {
     "data": {
      "image/png": "[encoded data removed]",
      "text/plain": [
       "<matplotlib.figure.Figure at 0x7fa4cf914da0>"
      ]
     },
     "metadata": {},
     "output_type": "display_data"
    }
   ],
   "source": [
    "\"\"\"\n",
    "In this code snippet finds sparsity and test erorr using lamda from RandomizedSearchCV.\n",
    "\"\"\"\n",
    "clf = LogisticRegression(C=0.02, penalty='l1');\n",
    "clf.fit(bow_text_train_vector, y_train);\n",
    "w = clf.coef_\n",
    "print(\"Sparsity : \",np.count_nonzero(w))\n",
    "# response prediction\n",
    "pred = clf.predict(bow_text_test_vector)\n",
    "# evaluate error\n",
    "acc = accuracy_score(y_test, pred)*100\n",
    "print(\"Error : %.2f\"%(100-acc))\n",
    "test_error.append(100-acc)\n",
    "conf_matrix = confusion_matrix(y_test, pred)\n",
    "confusion_matrix_df = pd.DataFrame(conf_matrix,\n",
    "                                   [\"Negative\", \"Positive\"],\\\n",
    "                                   [\"Negative\", \"Positive\"],\\\n",
    "                                   dtype=int)\n",
    "sns.heatmap(confusion_matrix_df, annot=True, fmt=\"d\")\n",
    "plt.title(\"CONFUSION MATRIX\")"
   ]
  },
  {
   "cell_type": "code",
   "execution_count": 89,
   "metadata": {},
   "outputs": [
    {
     "name": "stdout",
     "output_type": "stream",
     "text": [
      "Error : 4.41\n"
     ]
    },
    {
     "data": {
      "text/plain": [
       "Text(0.5,1,'CONFUSION MATRIX')"
      ]
     },
     "execution_count": 89,
     "metadata": {},
     "output_type": "execute_result"
    },
    {
     "data": {
      "image/png": "[encoded data removed]",
      "text/plain": [
       "<matplotlib.figure.Figure at 0x7fa4c6a78b00>"
      ]
     },
     "metadata": {},
     "output_type": "display_data"
    }
   ],
   "source": [
    "\"\"\"\n",
    "In this code snippet finds sparsity and train erorr using lamda value from RandomizedSearchCV.\n",
    "\"\"\"\n",
    "# response prediction\n",
    "pred = clf.predict(bow_text_train_vector)\n",
    "# evaluate error\n",
    "acc = accuracy_score(y_train, pred)*100\n",
    "print(\"Error : %.2f\"%(100-acc))\n",
    "train_error.append(100-acc)\n",
    "conf_matrix = confusion_matrix(y_train, pred)\n",
    "confusion_matrix_df = pd.DataFrame(conf_matrix,\n",
    "                                   [\"Negative\", \"Positive\"],\\\n",
    "                                   [\"Negative\", \"Positive\"],\\\n",
    "                                   dtype=int)\n",
    "sns.heatmap(confusion_matrix_df, annot=True, fmt=\"d\")\n",
    "plt.title(\"CONFUSION MATRIX\")"
   ]
  },
  {
   "cell_type": "code",
   "execution_count": 90,
   "metadata": {
    "colab": {},
    "colab_type": "code",
    "id": "Esx8KeijnLMN"
   },
   "outputs": [
    {
     "name": "stdout",
     "output_type": "stream",
     "text": [
      "Sparsity :  216\n",
      "Error : 10.90\n"
     ]
    },
    {
     "data": {
      "text/plain": [
       "Text(0.5,1,'CONFUSION MATRIX')"
      ]
     },
     "execution_count": 90,
     "metadata": {},
     "output_type": "execute_result"
    },
    {
     "data": {
      "image/png": "[encoded data removed]",
      "text/plain": [
       "<matplotlib.figure.Figure at 0x7fa4cf4eb550>"
      ]
     },
     "metadata": {},
     "output_type": "display_data"
    }
   ],
   "source": [
    "\"\"\"\n",
    "In this code snippet finds sparsity and test erorr using lamda from RandomizedSearchCV.\n",
    "\"\"\"\n",
    "clf = LogisticRegression(C=0.002, penalty='l1');\n",
    "clf.fit(bow_text_train_vector, y_train);\n",
    "w = clf.coef_\n",
    "print(\"Sparsity : \",np.count_nonzero(w))\n",
    "# response prediction\n",
    "pred = clf.predict(bow_text_test_vector)\n",
    "# evaluate error\n",
    "acc = accuracy_score(y_test, pred)*100\n",
    "print(\"Error : %.2f\"%(100-acc))\n",
    "test_error.append(100-acc)\n",
    "conf_matrix = confusion_matrix(y_test, pred)\n",
    "confusion_matrix_df = pd.DataFrame(conf_matrix,\n",
    "                                   [\"Negative\", \"Positive\"],\\\n",
    "                                   [\"Negative\", \"Positive\"],\\\n",
    "                                   dtype=int)\n",
    "sns.heatmap(confusion_matrix_df, annot=True, fmt=\"d\")\n",
    "plt.title(\"CONFUSION MATRIX\")"
   ]
  },
  {
   "cell_type": "code",
   "execution_count": 91,
   "metadata": {},
   "outputs": [
    {
     "name": "stdout",
     "output_type": "stream",
     "text": [
      "Error : 10.70\n"
     ]
    },
    {
     "data": {
      "text/plain": [
       "Text(0.5,1,'CONFUSION MATRIX')"
      ]
     },
     "execution_count": 91,
     "metadata": {},
     "output_type": "execute_result"
    },
    {
     "data": {
      "image/png": "[encoded data removed]",
      "text/plain": [
       "<matplotlib.figure.Figure at 0x7fa4c590d4a8>"
      ]
     },
     "metadata": {},
     "output_type": "display_data"
    }
   ],
   "source": [
    "\"\"\"\n",
    "In this code snippet finds sparsity and train erorr using lamda value from RandomizedSearchCV.\n",
    "\"\"\"\n",
    "# response prediction\n",
    "pred = clf.predict(bow_text_train_vector)\n",
    "# evaluate error\n",
    "acc = accuracy_score(y_train, pred)*100\n",
    "print(\"Error : %.2f\"%(100-acc))\n",
    "train_error.append(100-acc)\n",
    "conf_matrix = confusion_matrix(y_train, pred)\n",
    "confusion_matrix_df = pd.DataFrame(conf_matrix,\n",
    "                                   [\"Negative\", \"Positive\"],\\\n",
    "                                   [\"Negative\", \"Positive\"],\\\n",
    "                                   dtype=int)\n",
    "sns.heatmap(confusion_matrix_df, annot=True, fmt=\"d\")\n",
    "plt.title(\"CONFUSION MATRIX\")"
   ]
  },
  {
   "cell_type": "code",
   "execution_count": 92,
   "metadata": {
    "colab": {},
    "colab_type": "code",
    "id": "6o-l3LUYRXF3"
   },
   "outputs": [
    {
     "name": "stdout",
     "output_type": "stream",
     "text": [
      "Sparsity :  2\n",
      "Error : 14.99\n"
     ]
    },
    {
     "data": {
      "text/plain": [
       "Text(0.5,1,'CONFUSION MATRIX')"
      ]
     },
     "execution_count": 92,
     "metadata": {},
     "output_type": "execute_result"
    },
    {
     "data": {
      "image/png": "[encoded data removed]",
      "text/plain": [
       "<matplotlib.figure.Figure at 0x7fa4c6940278>"
      ]
     },
     "metadata": {},
     "output_type": "display_data"
    }
   ],
   "source": [
    "\"\"\"\n",
    "In this code snippet finds sparsity and test erorr using lamda from RandomizedSearchCV.\n",
    "\"\"\"\n",
    "clf = LogisticRegression(C=0.0002, penalty='l1');\n",
    "clf.fit(bow_text_train_vector, y_train);\n",
    "w = clf.coef_\n",
    "print(\"Sparsity : \",np.count_nonzero(w))\n",
    "# response prediction\n",
    "pred = clf.predict(bow_text_test_vector)\n",
    "# evaluate error\n",
    "acc = accuracy_score(y_test, pred)*100\n",
    "print(\"Error : %.2f\"%(100-acc))\n",
    "test_error.append(100-acc)\n",
    "conf_matrix = confusion_matrix(y_test, pred)\n",
    "confusion_matrix_df = pd.DataFrame(conf_matrix,\n",
    "                                   [\"Negative\", \"Positive\"],\\\n",
    "                                   [\"Negative\", \"Positive\"],\\\n",
    "                                   dtype=int)\n",
    "sns.heatmap(confusion_matrix_df, annot=True, fmt=\"d\")\n",
    "plt.title(\"CONFUSION MATRIX\")"
   ]
  },
  {
   "cell_type": "code",
   "execution_count": 93,
   "metadata": {},
   "outputs": [
    {
     "name": "stdout",
     "output_type": "stream",
     "text": [
      "Error : 14.74\n"
     ]
    },
    {
     "data": {
      "text/plain": [
       "Text(0.5,1,'CONFUSION MATRIX')"
      ]
     },
     "execution_count": 93,
     "metadata": {},
     "output_type": "execute_result"
    },
    {
     "data": {
      "image/png": "[encoded data removed]",
      "text/plain": [
       "<matplotlib.figure.Figure at 0x7fa4cffdbe80>"
      ]
     },
     "metadata": {},
     "output_type": "display_data"
    }
   ],
   "source": [
    "\"\"\"\n",
    "In this code snippet finds sparsity and train erorr using lamda value from RandomizedSearchCV.\n",
    "\"\"\"\n",
    "# response prediction\n",
    "pred = clf.predict(bow_text_train_vector)\n",
    "# evaluate error\n",
    "acc = accuracy_score(y_train, pred)*100\n",
    "print(\"Error : %.2f\"%(100-acc))\n",
    "train_error.append(100-acc)\n",
    "conf_matrix = confusion_matrix(y_train, pred)\n",
    "confusion_matrix_df = pd.DataFrame(conf_matrix,\n",
    "                                   [\"Negative\", \"Positive\"],\\\n",
    "                                   [\"Negative\", \"Positive\"],\\\n",
    "                                   dtype=int)\n",
    "sns.heatmap(confusion_matrix_df, annot=True, fmt=\"d\")\n",
    "plt.title(\"CONFUSION MATRIX\")"
   ]
  },
  {
   "cell_type": "code",
   "execution_count": 114,
   "metadata": {},
   "outputs": [
    {
     "data": {
      "image/png": "[encoded data removed]",
      "text/plain": [
       "<matplotlib.figure.Figure at 0x7fa4c4e146d8>"
      ]
     },
     "metadata": {},
     "output_type": "display_data"
    }
   ],
   "source": [
    "Train_Error, = plt.plot( lambda_list, train_error, marker='o',\\\n",
    "                        markerfacecolor='blue', markersize=12,\\\n",
    "                        color='skyblue', linewidth=4)\n",
    "Test_Error,  = plt.plot( lambda_list, test_error, marker='',\\\n",
    "                        color='olive', linewidth=2)\n",
    "plt.xlabel('Lambda Values')\n",
    "plt.ylabel('Error')\n",
    "plt.title('Train and Test error plot')\n",
    "plt.legend([Train_Error,Test_Error], [\"Train_Error\",\"Test_Error\"])\n",
    "plt.show()"
   ]
  },
  {
   "cell_type": "code",
   "execution_count": 51,
   "metadata": {
    "colab": {
     "base_uri": "https://localhost:8080/",
     "height": 54
    },
    "colab_type": "code",
    "executionInfo": {
     "elapsed": 5729,
     "status": "ok",
     "timestamp": 1534509144270,
     "user": {
      "displayName": "Debasish Padhi",
      "photoUrl": "//lh3.googleusercontent.com/-vcn0hxkFbTw/AAAAAAAAAAI/AAAAAAAAAHM/9ggzi4wqYg0/s50-c-k-no/photo.jpg",
      "userId": "112236557723789007632"
     },
     "user_tz": -330
    },
    "id": "ubl3Jhiho2N9",
    "outputId": "3246f2da-7b3d-4dd3-c905-e1dd2126c66d"
   },
   "outputs": [
    {
     "name": "stdout",
     "output_type": "stream",
     "text": [
      "Weight vector before perturbation : 0.00113 0.00005 -0.02143 0.00931 0.00431 -0.00209 -0.01079 0.00251 -0.00432 0.01037 0.00018 -0.00800 -0.00491 0.00759 -0.00194 0.00195 0.00301 0.00473 -0.03265 0.01044 \n",
      "\n",
      "Weight vector after perturbation : 0.00304 -0.02144 0.00932 0.00430 -0.00209 -0.01079 0.00250 -0.00432 0.01036 0.00066 -0.00801 -0.00491 0.00757 -0.00193 0.00192 0.01056 0.00473 -0.03264 0.01044 0.00734 "
     ]
    }
   ],
   "source": [
    "\"\"\"\n",
    "This code snippet shows effect of colinearity of on weight vectors\n",
    "\"\"\"\n",
    "x = copy.deepcopy(bow_text_train_vector)\n",
    "\n",
    "clf = LogisticRegression(C=0.02, penalty='l1');\n",
    "clf.fit(bow_text_train_vector, y_train);\n",
    "w = clf.coef_\n",
    "a = np.transpose(np.nonzero(w))\n",
    "print(\"Weight vector before perturbation :\", end=\" \")\n",
    "for i,j in a[:20]:\n",
    "    print(\"%.5f\"%w[i,j], end=\" \")\n",
    "    \n",
    "print(\"\\n\")\n",
    "\n",
    "# perturbation technique start\n",
    "epsilon = np.random.normal(loc=0.0, scale=0.01)\n",
    "a = np.transpose(np.nonzero(x))\n",
    "for i,j in a:\n",
    "    x[i,j] += epsilon\n",
    "# perturbation technique end\n",
    "\n",
    "clf = LogisticRegression(C=0.02, penalty='l1');\n",
    "clf.fit(x, y_train);\n",
    "w = clf.coef_\n",
    "a = np.transpose(np.nonzero(w))\n",
    "print(\"Weight vector after perturbation :\", end=\" \")\n",
    "for i,j in a[:20]:\n",
    "    print(\"%.5f\"%w[i,j], end=\" \")\n",
    "\n",
    "# deleting the variable to free RAM\n",
    "del x"
   ]
  },
  {
   "cell_type": "code",
   "execution_count": 72,
   "metadata": {},
   "outputs": [
    {
     "name": "stdout",
     "output_type": "stream",
     "text": [
      "FeatureIndex  FeatureWeight\n",
      "\n",
      "(12204, 0.7289452936016304)\n",
      "(16718, 0.5963629686574519)\n",
      "(2604, 0.5603180499523812)\n",
      "(7368, 0.44692751917682194)\n",
      "(11931, 0.3870590135613957)\n",
      "(21179, 0.3845441773177839)\n",
      "(9631, 0.38398177379327353)\n",
      "(19256, 0.26993894477896646)\n",
      "(899, 0.26085363814539275)\n",
      "(10053, 0.25132080217345454)\n"
     ]
    }
   ],
   "source": [
    "\"\"\"\n",
    "This code snippet prints top 10 important features along with there index no\n",
    "\"\"\"\n",
    "clf = LogisticRegression(C=0.02, penalty='l1');\n",
    "clf.fit(bow_text_train_vector, y_train);\n",
    "w = clf.coef_\n",
    "a = [i for i in sorted(enumerate(w[0]),key=lambda pair: pair[1], reverse = True) if i[1] != 0.0]\n",
    "print(\"FeatureIndex  FeatureWeight\\n\")\n",
    "print(*a[:10],sep = '\\n')"
   ]
  },
  {
   "cell_type": "markdown",
   "metadata": {
    "colab_type": "text",
    "id": "zEuHpPX1nLMt"
   },
   "source": [
    "#### Observation :\n",
    "* Here we have applied Bag of words to convert text to vector.\n",
    "* We got hyperparameter(lambda) from GridSearchCV is 0.001 and from RandomizedSearchCV is 46.67.\n",
    "* I got best result from a model where C = 0.02 (i.e. lambda = 46.67), sparsity = 6351 and the minimum test error 8.31.\n",
    "* Colinearity is also not affecting much to features."
   ]
  },
  {
   "cell_type": "markdown",
   "metadata": {
    "colab_type": "text",
    "id": "VEPKGLwmnLMw"
   },
   "source": [
    "### TF IDF."
   ]
  },
  {
   "cell_type": "code",
   "execution_count": 22,
   "metadata": {
    "colab": {
     "base_uri": "https://localhost:8080/",
     "height": 35
    },
    "colab_type": "code",
    "executionInfo": {
     "elapsed": 2430,
     "status": "ok",
     "timestamp": 1534509146823,
     "user": {
      "displayName": "Debasish Padhi",
      "photoUrl": "//lh3.googleusercontent.com/-vcn0hxkFbTw/AAAAAAAAAAI/AAAAAAAAAHM/9ggzi4wqYg0/s50-c-k-no/photo.jpg",
      "userId": "112236557723789007632"
     },
     "user_tz": -330
    },
    "id": "MpYU7d2vnLM5",
    "outputId": "0c688172-6709-4134-e0c7-43ecfbc5eb37"
   },
   "outputs": [
    {
     "data": {
      "text/plain": [
       "(75000, 1002260)"
      ]
     },
     "execution_count": 22,
     "metadata": {},
     "output_type": "execute_result"
    }
   ],
   "source": [
    "\"\"\"\n",
    "This code snippet converts train data from text to vectors by TF_IDF.\n",
    "\"\"\"\n",
    "tf_idf_vect = TfidfVectorizer(ngram_range=(1,2))\n",
    "final_tf_idf_train = tf_idf_vect.fit_transform(x_train)\n",
    "final_tf_idf_train.shape"
   ]
  },
  {
   "cell_type": "code",
   "execution_count": 23,
   "metadata": {
    "colab": {
     "base_uri": "https://localhost:8080/",
     "height": 35
    },
    "colab_type": "code",
    "executionInfo": {
     "elapsed": 1107,
     "status": "ok",
     "timestamp": 1534509148058,
     "user": {
      "displayName": "Debasish Padhi",
      "photoUrl": "//lh3.googleusercontent.com/-vcn0hxkFbTw/AAAAAAAAAAI/AAAAAAAAAHM/9ggzi4wqYg0/s50-c-k-no/photo.jpg",
      "userId": "112236557723789007632"
     },
     "user_tz": -330
    },
    "id": "XP8TtS76nLNJ",
    "outputId": "5f7da73b-2521-4a61-ba0b-5f33c6a67b9a"
   },
   "outputs": [
    {
     "data": {
      "text/plain": [
       "(25000, 1002260)"
      ]
     },
     "execution_count": 23,
     "metadata": {},
     "output_type": "execute_result"
    }
   ],
   "source": [
    "\"\"\"\n",
    "This code snippet converts test data from text to vectors by TF_IDF.\n",
    "\"\"\"\n",
    "final_tf_idf_test = tf_idf_vect.transform(x_test)\n",
    "final_tf_idf_test.shape"
   ]
  },
  {
   "cell_type": "code",
   "execution_count": 24,
   "metadata": {
    "colab": {
     "base_uri": "https://localhost:8080/",
     "height": 54
    },
    "colab_type": "code",
    "executionInfo": {
     "elapsed": 1064,
     "status": "ok",
     "timestamp": 1534509228639,
     "user": {
      "displayName": "Debasish Padhi",
      "photoUrl": "//lh3.googleusercontent.com/-vcn0hxkFbTw/AAAAAAAAAAI/AAAAAAAAAHM/9ggzi4wqYg0/s50-c-k-no/photo.jpg",
      "userId": "112236557723789007632"
     },
     "user_tz": -330
    },
    "id": "2Afb5Iz2nLNZ",
    "outputId": "c20c2220-7c6b-4f37-a2bf-51aaa51a20ec"
   },
   "outputs": [
    {
     "name": "stdout",
     "output_type": "stream",
     "text": [
      "Train data shape :  (75000, 1002260)\n",
      "Test data shape :  (25000, 1002260)\n"
     ]
    }
   ],
   "source": [
    "\"\"\"\n",
    "Standardize both training and test data\n",
    "\"\"\"\n",
    "scale = StandardScaler(with_mean = False)\n",
    "final_tf_idf_train = scale.fit_transform(final_tf_idf_train)\n",
    "final_tf_idf_test  = scale.transform(final_tf_idf_test)\n",
    "print(\"Train data shape : \",final_tf_idf_train.shape)\n",
    "print(\"Test data shape : \",final_tf_idf_test.shape)"
   ]
  },
  {
   "cell_type": "code",
   "execution_count": 25,
   "metadata": {
    "colab": {
     "base_uri": "https://localhost:8080/",
     "height": 109
    },
    "colab_type": "code",
    "executionInfo": {
     "elapsed": 3000,
     "status": "ok",
     "timestamp": 1534509305766,
     "user": {
      "displayName": "Debasish Padhi",
      "photoUrl": "//lh3.googleusercontent.com/-vcn0hxkFbTw/AAAAAAAAAAI/AAAAAAAAAHM/9ggzi4wqYg0/s50-c-k-no/photo.jpg",
      "userId": "112236557723789007632"
     },
     "user_tz": -330
    },
    "id": "Y1hQUKU5nLNk",
    "outputId": "67995558-f53c-47ba-ba55-065277a2a8a2"
   },
   "outputs": [
    {
     "name": "stdout",
     "output_type": "stream",
     "text": [
      "LogisticRegression(C=1000, class_weight=None, dual=False, fit_intercept=True,\n",
      "          intercept_scaling=1, max_iter=100, multi_class='ovr', n_jobs=1,\n",
      "          penalty='l2', random_state=None, solver='liblinear', tol=0.0001,\n",
      "          verbose=0, warm_start=False)\n",
      "F1 Score :  1.0\n"
     ]
    }
   ],
   "source": [
    "\"\"\"\n",
    "This code snippet deals with GridSearchCV\n",
    "\"\"\"\n",
    "tuned_parameters = [{ 'C' : [10**-4, 10**-3, 10**-2,\\\n",
    "                             10**-1, 10**0, 10**1,\\\n",
    "                             10**2,10**3, 10**4]}]\n",
    "f1_scorer = make_scorer(f1_score, pos_label=\"positive\")\n",
    "model = GridSearchCV(LogisticRegression(), tuned_parameters, scoring = f1_scorer, cv=5 )\n",
    "model.fit(final_tf_idf_train, y_train)\n",
    "print(model.best_estimator_)\n",
    "print(\"F1 Score : \",model.score(final_tf_idf_train, y_train))"
   ]
  },
  {
   "cell_type": "code",
   "execution_count": 41,
   "metadata": {
    "colab": {
     "base_uri": "https://localhost:8080/",
     "height": 109
    },
    "colab_type": "code",
    "executionInfo": {
     "elapsed": 5540,
     "status": "ok",
     "timestamp": 1534509384601,
     "user": {
      "displayName": "Debasish Padhi",
      "photoUrl": "//lh3.googleusercontent.com/-vcn0hxkFbTw/AAAAAAAAAAI/AAAAAAAAAHM/9ggzi4wqYg0/s50-c-k-no/photo.jpg",
      "userId": "112236557723789007632"
     },
     "user_tz": -330
    },
    "id": "bXc0lMf6nLNt",
    "outputId": "b8be625c-85c7-4387-aeb4-b8c025502b46"
   },
   "outputs": [
    {
     "name": "stdout",
     "output_type": "stream",
     "text": [
      "LogisticRegression(C=59.673280620372125, class_weight=None, dual=False,\n",
      "          fit_intercept=True, intercept_scaling=1, max_iter=100,\n",
      "          multi_class='ovr', n_jobs=1, penalty='l2', random_state=None,\n",
      "          solver='liblinear', tol=0.0001, verbose=0, warm_start=False)\n",
      "F1 Score :  1.0\n"
     ]
    }
   ],
   "source": [
    "\"\"\"\n",
    "This code snippet deals with RandomizedSearchCV\n",
    "\"\"\"\n",
    "parameters = { 'C' : uniform(10**-2,10**2)}\n",
    "f1_scorer = make_scorer(f1_score, pos_label=\"positive\")\n",
    "model = RandomizedSearchCV(LogisticRegression(), parameters, scoring = f1_scorer, cv=5 )\n",
    "model.fit(final_tf_idf_train, y_train)\n",
    "print(model.best_estimator_)\n",
    "print(\"F1 Score : \",model.score(final_tf_idf_train, y_train))"
   ]
  },
  {
   "cell_type": "code",
   "execution_count": 39,
   "metadata": {},
   "outputs": [
    {
     "name": "stdout",
     "output_type": "stream",
     "text": [
      "Sparsity :  1002260\n",
      "Error : 11.91\n"
     ]
    },
    {
     "data": {
      "text/plain": [
       "Text(0.5,1,'CONFUSION MATRIX')"
      ]
     },
     "execution_count": 39,
     "metadata": {},
     "output_type": "execute_result"
    },
    {
     "data": {
      "image/png": "[encoded data removed]",
      "text/plain": [
       "<matplotlib.figure.Figure at 0x7fa4d2f0bd68>"
      ]
     },
     "metadata": {},
     "output_type": "display_data"
    }
   ],
   "source": [
    "\"\"\"\n",
    "In this code snippet finds sparsity and erorr using lamda from GridSearchCV.\n",
    "\"\"\"\n",
    "clf = LogisticRegression(C=0.001, penalty='l2');\n",
    "clf.fit(final_tf_idf_train, y_train);\n",
    "w = clf.coef_\n",
    "print(\"Sparsity : \",np.count_nonzero(w))\n",
    "# response prediction\n",
    "pred = clf.predict(final_tf_idf_test)\n",
    "# evaluate error\n",
    "acc = accuracy_score(y_test, pred)*100\n",
    "print(\"Error : %.2f\"%(100-acc))\n",
    "conf_matrix = confusion_matrix(y_test, pred)\n",
    "confusion_matrix_df = pd.DataFrame(conf_matrix,\n",
    "                                   [\"Negative\", \"Positive\"],\\\n",
    "                                   [\"Negative\", \"Positive\"],\\\n",
    "                                   dtype=int)\n",
    "sns.heatmap(confusion_matrix_df, annot=True, fmt=\"d\")\n",
    "plt.title(\"CONFUSION MATRIX\")"
   ]
  },
  {
   "cell_type": "code",
   "execution_count": 40,
   "metadata": {},
   "outputs": [
    {
     "name": "stdout",
     "output_type": "stream",
     "text": [
      "Sparsity :  108\n",
      "Error : 11.88\n"
     ]
    },
    {
     "data": {
      "text/plain": [
       "Text(0.5,1,'CONFUSION MATRIX')"
      ]
     },
     "execution_count": 40,
     "metadata": {},
     "output_type": "execute_result"
    },
    {
     "data": {
      "image/png": "[encoded data removed]",
      "text/plain": [
       "<matplotlib.figure.Figure at 0x7fa4d2f0b630>"
      ]
     },
     "metadata": {},
     "output_type": "display_data"
    }
   ],
   "source": [
    "\"\"\"\n",
    "In this code snippet finds sparsity and erorr using lamda from GridSearchCV.\n",
    "\"\"\"\n",
    "clf = LogisticRegression(C=0.001, penalty='l1');\n",
    "clf.fit(final_tf_idf_train, y_train);\n",
    "w = clf.coef_\n",
    "print(\"Sparsity : \",np.count_nonzero(w))\n",
    "# response prediction\n",
    "pred = clf.predict(final_tf_idf_test)\n",
    "# evaluate error\n",
    "acc = accuracy_score(y_test, pred)*100\n",
    "print(\"Error : %.2f\"%(100-acc))\n",
    "conf_matrix = confusion_matrix(y_test, pred)\n",
    "confusion_matrix_df = pd.DataFrame(conf_matrix,\n",
    "                                   [\"Negative\", \"Positive\"],\\\n",
    "                                   [\"Negative\", \"Positive\"],\\\n",
    "                                   dtype=int)\n",
    "sns.heatmap(confusion_matrix_df, annot=True, fmt=\"d\")\n",
    "plt.title(\"CONFUSION MATRIX\")"
   ]
  },
  {
   "cell_type": "code",
   "execution_count": 53,
   "metadata": {},
   "outputs": [
    {
     "name": "stdout",
     "output_type": "stream",
     "text": [
      "Sparsity :  1002260\n",
      "Error : 11.69\n"
     ]
    },
    {
     "data": {
      "text/plain": [
       "Text(0.5,1,'CONFUSION MATRIX')"
      ]
     },
     "execution_count": 53,
     "metadata": {},
     "output_type": "execute_result"
    },
    {
     "data": {
      "image/png": "[encoded data removed]",
      "text/plain": [
       "<matplotlib.figure.Figure at 0x7fa49db0e588>"
      ]
     },
     "metadata": {},
     "output_type": "display_data"
    }
   ],
   "source": [
    "\"\"\"\n",
    "In this code snippet finds sparsity and erorr using lamda from RandomizedSearchCV.\n",
    "\"\"\"\n",
    "clf = LogisticRegression(C=0.016, penalty='l2');\n",
    "clf.fit(final_tf_idf_train, y_train);\n",
    "w = clf.coef_\n",
    "print(\"Sparsity : \",np.count_nonzero(w))\n",
    "# response prediction\n",
    "pred = clf.predict(final_tf_idf_test)\n",
    "# evaluate error\n",
    "acc = accuracy_score(y_test, pred)*100\n",
    "print(\"Error : %.2f\"%(100-acc))\n",
    "conf_matrix = confusion_matrix(y_test, pred)\n",
    "confusion_matrix_df = pd.DataFrame(conf_matrix,\n",
    "                                   [\"Negative\", \"Positive\"],\\\n",
    "                                   [\"Negative\", \"Positive\"],\\\n",
    "                                   dtype=int)\n",
    "sns.heatmap(confusion_matrix_df, annot=True, fmt=\"d\")\n",
    "plt.title(\"CONFUSION MATRIX\")"
   ]
  },
  {
   "cell_type": "code",
   "execution_count": 156,
   "metadata": {},
   "outputs": [],
   "source": [
    "\"\"\"Lists to store lambda and error values\"\"\"\n",
    "lambda_list = [0.02,0.002,0.0002]\n",
    "train_error = []\n",
    "test_error = []"
   ]
  },
  {
   "cell_type": "code",
   "execution_count": 157,
   "metadata": {},
   "outputs": [
    {
     "name": "stdout",
     "output_type": "stream",
     "text": [
      "Sparsity :  32487\n",
      "Error : 8.21\n"
     ]
    },
    {
     "data": {
      "text/plain": [
       "Text(0.5,1,'CONFUSION MATRIX')"
      ]
     },
     "execution_count": 157,
     "metadata": {},
     "output_type": "execute_result"
    },
    {
     "data": {
      "image/png": "[encoded data removed]",
      "text/plain": [
       "<matplotlib.figure.Figure at 0x7fa49ea42128>"
      ]
     },
     "metadata": {},
     "output_type": "display_data"
    }
   ],
   "source": [
    "\"\"\"\n",
    "In this code snippet finds sparsity and erorr using lamda from RandomizedSearchCV.\n",
    "\"\"\"\n",
    "clf = LogisticRegression(C=0.016, penalty='l1');\n",
    "clf.fit(final_tf_idf_train, y_train);\n",
    "w = clf.coef_\n",
    "print(\"Sparsity : \",np.count_nonzero(w))\n",
    "# response prediction\n",
    "pred = clf.predict(final_tf_idf_test)\n",
    "# evaluate error\n",
    "acc = accuracy_score(y_test, pred)*100\n",
    "print(\"Error : %.2f\"%(100-acc))\n",
    "train_error.append(100-acc)\n",
    "conf_matrix = confusion_matrix(y_test, pred)\n",
    "confusion_matrix_df = pd.DataFrame(conf_matrix,\n",
    "                                   [\"Negative\", \"Positive\"],\\\n",
    "                                   [\"Negative\", \"Positive\"],\\\n",
    "                                   dtype=int)\n",
    "sns.heatmap(confusion_matrix_df, annot=True, fmt=\"d\")\n",
    "plt.title(\"CONFUSION MATRIX\")"
   ]
  },
  {
   "cell_type": "code",
   "execution_count": 158,
   "metadata": {},
   "outputs": [
    {
     "name": "stdout",
     "output_type": "stream",
     "text": [
      "Error : 0.00\n"
     ]
    },
    {
     "data": {
      "text/plain": [
       "Text(0.5,1,'CONFUSION MATRIX')"
      ]
     },
     "execution_count": 158,
     "metadata": {},
     "output_type": "execute_result"
    },
    {
     "data": {
      "image/png": "[encoded data removed]",
      "text/plain": [
       "<matplotlib.figure.Figure at 0x7fa4989aa320>"
      ]
     },
     "metadata": {},
     "output_type": "display_data"
    }
   ],
   "source": [
    "\"\"\"\n",
    "In this code snippet finds sparsity and train erorr using lamda value from RandomizedSearchCV.\n",
    "\"\"\"\n",
    "# response prediction\n",
    "pred = clf.predict(final_tf_idf_train)\n",
    "# evaluate error\n",
    "acc = accuracy_score(y_train, pred)*100\n",
    "print(\"Error : %.2f\"%(100-acc))\n",
    "test_error.append(100-acc)\n",
    "conf_matrix = confusion_matrix(y_train, pred)\n",
    "confusion_matrix_df = pd.DataFrame(conf_matrix,\n",
    "                                   [\"Negative\", \"Positive\"],\\\n",
    "                                   [\"Negative\", \"Positive\"],\\\n",
    "                                   dtype=int)\n",
    "sns.heatmap(confusion_matrix_df, annot=True, fmt=\"d\")\n",
    "plt.title(\"CONFUSION MATRIX\")"
   ]
  },
  {
   "cell_type": "code",
   "execution_count": 159,
   "metadata": {},
   "outputs": [
    {
     "name": "stdout",
     "output_type": "stream",
     "text": [
      "Sparsity :  10722\n",
      "Error : 8.07\n"
     ]
    },
    {
     "data": {
      "text/plain": [
       "Text(0.5,1,'CONFUSION MATRIX')"
      ]
     },
     "execution_count": 159,
     "metadata": {},
     "output_type": "execute_result"
    },
    {
     "data": {
      "image/png": "[encoded data removed]",
      "text/plain": [
       "<matplotlib.figure.Figure at 0x7fa499e27940>"
      ]
     },
     "metadata": {},
     "output_type": "display_data"
    }
   ],
   "source": [
    "\"\"\"\n",
    "In this code snippet finds sparsity and erorr using lamda from RandomizedSearchCV.\n",
    "\"\"\"\n",
    "clf = LogisticRegression(C=0.005, penalty='l1');\n",
    "clf.fit(final_tf_idf_train, y_train);\n",
    "w = clf.coef_\n",
    "print(\"Sparsity : \",np.count_nonzero(w))\n",
    "# response prediction\n",
    "pred = clf.predict(final_tf_idf_test)\n",
    "# evaluate error\n",
    "acc = accuracy_score(y_test, pred)*100\n",
    "print(\"Error : %.2f\"%(100-acc))\n",
    "train_error.append(100-acc)\n",
    "conf_matrix = confusion_matrix(y_test, pred)\n",
    "confusion_matrix_df = pd.DataFrame(conf_matrix,\n",
    "                                   [\"Negative\", \"Positive\"],\\\n",
    "                                   [\"Negative\", \"Positive\"],\\\n",
    "                                   dtype=int)\n",
    "sns.heatmap(confusion_matrix_df, annot=True, fmt=\"d\")\n",
    "plt.title(\"CONFUSION MATRIX\")"
   ]
  },
  {
   "cell_type": "code",
   "execution_count": 160,
   "metadata": {},
   "outputs": [
    {
     "name": "stdout",
     "output_type": "stream",
     "text": [
      "Error : 6.27\n"
     ]
    },
    {
     "data": {
      "text/plain": [
       "Text(0.5,1,'CONFUSION MATRIX')"
      ]
     },
     "execution_count": 160,
     "metadata": {},
     "output_type": "execute_result"
    },
    {
     "data": {
      "image/png": "[encoded data removed]",
      "text/plain": [
       "<matplotlib.figure.Figure at 0x7fa49adac390>"
      ]
     },
     "metadata": {},
     "output_type": "display_data"
    }
   ],
   "source": [
    "\"\"\"\n",
    "In this code snippet finds sparsity and train erorr using lamda value from RandomizedSearchCV.\n",
    "\"\"\"\n",
    "# response prediction\n",
    "pred = clf.predict(final_tf_idf_train)\n",
    "# evaluate error\n",
    "acc = accuracy_score(y_train, pred)*100\n",
    "print(\"Error : %.2f\"%(100-acc))\n",
    "test_error.append(100-acc)\n",
    "conf_matrix = confusion_matrix(y_train, pred)\n",
    "confusion_matrix_df = pd.DataFrame(conf_matrix,\n",
    "                                   [\"Negative\", \"Positive\"],\\\n",
    "                                   [\"Negative\", \"Positive\"],\\\n",
    "                                   dtype=int)\n",
    "sns.heatmap(confusion_matrix_df, annot=True, fmt=\"d\")\n",
    "plt.title(\"CONFUSION MATRIX\")"
   ]
  },
  {
   "cell_type": "code",
   "execution_count": 161,
   "metadata": {},
   "outputs": [
    {
     "name": "stdout",
     "output_type": "stream",
     "text": [
      "Sparsity :  108\n",
      "Error : 11.88\n"
     ]
    },
    {
     "data": {
      "text/plain": [
       "Text(0.5,1,'CONFUSION MATRIX')"
      ]
     },
     "execution_count": 161,
     "metadata": {},
     "output_type": "execute_result"
    },
    {
     "data": {
      "image/png": "[encoded data removed]",
      "text/plain": [
       "<matplotlib.figure.Figure at 0x7fa49ea48b00>"
      ]
     },
     "metadata": {},
     "output_type": "display_data"
    }
   ],
   "source": [
    "\"\"\"\n",
    "In this code snippet finds sparsity and erorr using lamda from RandomizedSearchCV.\n",
    "\"\"\"\n",
    "clf = LogisticRegression(C=0.001, penalty='l1');\n",
    "clf.fit(final_tf_idf_train, y_train);\n",
    "w = clf.coef_\n",
    "print(\"Sparsity : \",np.count_nonzero(w))\n",
    "# response prediction\n",
    "pred = clf.predict(final_tf_idf_test)\n",
    "# evaluate error\n",
    "acc = accuracy_score(y_test, pred)*100\n",
    "print(\"Error : %.2f\"%(100-acc))\n",
    "train_error.append(100-acc)\n",
    "conf_matrix = confusion_matrix(y_test, pred)\n",
    "confusion_matrix_df = pd.DataFrame(conf_matrix,\n",
    "                                   [\"Negative\", \"Positive\"],\\\n",
    "                                   [\"Negative\", \"Positive\"],\\\n",
    "                                   dtype=int)\n",
    "sns.heatmap(confusion_matrix_df, annot=True, fmt=\"d\")\n",
    "plt.title(\"CONFUSION MATRIX\")"
   ]
  },
  {
   "cell_type": "code",
   "execution_count": 162,
   "metadata": {},
   "outputs": [
    {
     "name": "stdout",
     "output_type": "stream",
     "text": [
      "Error : 12.09\n"
     ]
    },
    {
     "data": {
      "text/plain": [
       "Text(0.5,1,'CONFUSION MATRIX')"
      ]
     },
     "execution_count": 162,
     "metadata": {},
     "output_type": "execute_result"
    },
    {
     "data": {
      "image/png": "[encoded data removed]",
      "text/plain": [
       "<matplotlib.figure.Figure at 0x7fa49ad97a90>"
      ]
     },
     "metadata": {},
     "output_type": "display_data"
    }
   ],
   "source": [
    "\"\"\"\n",
    "In this code snippet finds sparsity and train erorr using lamda value from RandomizedSearchCV.\n",
    "\"\"\"\n",
    "# response prediction\n",
    "pred = clf.predict(final_tf_idf_train)\n",
    "# evaluate error\n",
    "acc = accuracy_score(y_train, pred)*100\n",
    "print(\"Error : %.2f\"%(100-acc))\n",
    "test_error.append(100-acc)\n",
    "conf_matrix = confusion_matrix(y_train, pred)\n",
    "confusion_matrix_df = pd.DataFrame(conf_matrix,\n",
    "                                   [\"Negative\", \"Positive\"],\\\n",
    "                                   [\"Negative\", \"Positive\"],\\\n",
    "                                   dtype=int)\n",
    "sns.heatmap(confusion_matrix_df, annot=True, fmt=\"d\")\n",
    "plt.title(\"CONFUSION MATRIX\")"
   ]
  },
  {
   "cell_type": "code",
   "execution_count": 163,
   "metadata": {},
   "outputs": [
    {
     "data": {
      "image/png": "[encoded data removed]",
      "text/plain": [
       "<matplotlib.figure.Figure at 0x7fa49cc66cc0>"
      ]
     },
     "metadata": {},
     "output_type": "display_data"
    }
   ],
   "source": [
    "Train_Error, = plt.plot( lambda_list, train_error, marker='o',\\\n",
    "                        markerfacecolor='blue', markersize=12,\\\n",
    "                        color='skyblue', linewidth=4)\n",
    "Test_Error,  = plt.plot( lambda_list, test_error, marker='',\\\n",
    "                        color='olive', linewidth=2)\n",
    "plt.xlabel('Lambda Values')\n",
    "plt.ylabel('Error')\n",
    "plt.title('Train and Test error plot')\n",
    "plt.legend([Train_Error,Test_Error], [\"Train_Error\",\"Test_Error\"])\n",
    "plt.show()"
   ]
  },
  {
   "cell_type": "code",
   "execution_count": 57,
   "metadata": {
    "colab": {
     "base_uri": "https://localhost:8080/",
     "height": 54
    },
    "colab_type": "code",
    "executionInfo": {
     "elapsed": 10423,
     "status": "ok",
     "timestamp": 1534509471114,
     "user": {
      "displayName": "Debasish Padhi",
      "photoUrl": "//lh3.googleusercontent.com/-vcn0hxkFbTw/AAAAAAAAAAI/AAAAAAAAAHM/9ggzi4wqYg0/s50-c-k-no/photo.jpg",
      "userId": "112236557723789007632"
     },
     "user_tz": -330
    },
    "id": "RutXoYgPnLN0",
    "outputId": "4e333484-477a-4cec-e118-71b59b6951d2"
   },
   "outputs": [
    {
     "name": "stdout",
     "output_type": "stream",
     "text": [
      "Weight vector before perturbation : -0.00000 0.00063 -0.00002 -0.00190 -0.00002 -0.00111 -0.00042 -0.00001 -0.00678 -0.00096 -0.00185 -0.00769 -0.00086 -0.00534 -0.00043 -0.00478 0.00114 -0.00001 -0.00059 0.00021 \n",
      "\n",
      "Weight vector after perturbation : 0.00001 0.00045 -0.00019 -0.00011 -0.00029 -0.00049 -0.00003 -0.00165 -0.00149 -0.00677 0.00002 -0.00709 -0.00197 -0.00777 -0.00097 -0.00023 -0.00532 -0.00465 0.00068 -0.00033 "
     ]
    }
   ],
   "source": [
    "\"\"\"\n",
    "This code snippet shows effect of colinearity of on weight vectors\n",
    "\"\"\"\n",
    "x = copy.deepcopy(final_tf_idf_train)\n",
    "\n",
    "clf = LogisticRegression(C=0.016, penalty='l1');\n",
    "clf.fit(final_tf_idf_train, y_train);\n",
    "w = clf.coef_\n",
    "a = np.transpose(np.nonzero(w))\n",
    "print(\"Weight vector before perturbation :\", end=\" \")\n",
    "for i,j in a[:20]:\n",
    "    print(\"%.5f\"%w[i,j], end=\" \")\n",
    "\n",
    "print(\"\\n\")\n",
    "\n",
    "# perturbation technique start\n",
    "epsilon = np.random.normal(loc=0.0, scale=0.01)\n",
    "a = np.transpose(np.nonzero(x))\n",
    "for i,j in a:\n",
    "    x[i,j] += epsilon\n",
    "# perturbation technique end\n",
    "\n",
    "clf = LogisticRegression(C=0.016, penalty='l1');\n",
    "clf.fit(x, y_train);\n",
    "w = clf.coef_\n",
    "a = np.transpose(np.nonzero(w))\n",
    "print(\"Weight vector after perturbation :\", end=\" \")\n",
    "for i,j in a[:20]:\n",
    "    print(\"%.5f\"%w[i,j], end=\" \")\n",
    "\n",
    "# deleting the variable to free RAM\n",
    "del x"
   ]
  },
  {
   "cell_type": "code",
   "execution_count": 58,
   "metadata": {},
   "outputs": [
    {
     "name": "stdout",
     "output_type": "stream",
     "text": [
      "FeatureIndex  FeatureWeight\n",
      "\n",
      "(387933, 0.785934372969754)\n",
      "(516162, 0.6364985687573737)\n",
      "(78206, 0.5743342190942607)\n",
      "(230440, 0.4394084060182864)\n",
      "(377923, 0.3935776519903513)\n",
      "(641873, 0.3700703693077426)\n",
      "(298018, 0.33521021298916326)\n",
      "(418383, 0.30591197107353496)\n",
      "(584950, 0.25422810437674453)\n",
      "(316225, 0.24908671617036693)\n"
     ]
    }
   ],
   "source": [
    "\"\"\"\n",
    "This code snippet prints top 10 important features along with there index no\n",
    "\"\"\"\n",
    "clf = LogisticRegression(C=0.016, penalty='l1');\n",
    "clf.fit(final_tf_idf_train, y_train);\n",
    "w = clf.coef_\n",
    "a = [i for i in sorted(enumerate(w[0]),key=lambda pair: pair[1], reverse = True) if i[1] != 0.0]\n",
    "print(\"FeatureIndex  FeatureWeight\\n\")\n",
    "print(*a[:10],sep = '\\n')"
   ]
  },
  {
   "cell_type": "markdown",
   "metadata": {
    "colab_type": "text",
    "id": "f4gMllucnLN7"
   },
   "source": [
    "#### Observation:\n",
    "* Here we have applied TF IDF to convert text to vector.\n",
    "* We got hyperparameter(lambda) from GridSearchCV is 1000 and from RandomizedSearchCV is 59.67 .\n",
    "* I got best result from a model where C = 0.016 (i.e. lambda = 59.67), sparsity = 32846 and the minimum error 8.21 .\n",
    "* Colinearity is also not affecting much to features."
   ]
  },
  {
   "cell_type": "markdown",
   "metadata": {
    "colab_type": "text",
    "id": "CM1U_Yg6nLN7"
   },
   "source": [
    "## 3) Word2Vec"
   ]
  },
  {
   "cell_type": "code",
   "execution_count": 10,
   "metadata": {
    "colab": {},
    "colab_type": "code",
    "id": "3nsgXOkPnLN8"
   },
   "outputs": [],
   "source": [
    "\"\"\"\n",
    "Creating own vocabulary of words from reviews.\n",
    "\"\"\"\n",
    "i=0\n",
    "list_of_train_sent=[]\n",
    "for sent in x_train:\n",
    "    filtered_sentence=[]\n",
    "    sent=cleanhtml(sent)\n",
    "    for w in sent.split():\n",
    "        for cleaned_words in cleanpunc(w).split():\n",
    "            if(cleaned_words.isalpha()):    \n",
    "                filtered_sentence.append(cleaned_words.lower())\n",
    "            else:\n",
    "                continue \n",
    "    list_of_train_sent.append(filtered_sentence)\n",
    "w2v_train_model=gensim.models.Word2Vec(list_of_train_sent,\n",
    "                                       min_count=5,size=50,\n",
    "                                       workers=4)\n",
    "i=0\n",
    "list_of_test_sent=[]\n",
    "for sent in x_test:\n",
    "    filtered_sentence=[]\n",
    "    sent=cleanhtml(sent)\n",
    "    for w in sent.split():\n",
    "        for cleaned_words in cleanpunc(w).split():\n",
    "            if(cleaned_words.isalpha()):    \n",
    "                filtered_sentence.append(cleaned_words.lower())\n",
    "            else:\n",
    "                continue \n",
    "    list_of_test_sent.append(filtered_sentence)\n",
    "w2v_test_model=gensim.models.Word2Vec(list_of_test_sent,min_count=5,size=50, workers=4) "
   ]
  },
  {
   "cell_type": "markdown",
   "metadata": {
    "colab_type": "text",
    "id": "fViZfEcTnLOL"
   },
   "source": [
    "### a) Average Word2Vec"
   ]
  },
  {
   "cell_type": "code",
   "execution_count": 17,
   "metadata": {
    "colab": {
     "base_uri": "https://localhost:8080/",
     "height": 35
    },
    "colab_type": "code",
    "executionInfo": {
     "elapsed": 1153,
     "status": "ok",
     "timestamp": 1534509160395,
     "user": {
      "displayName": "Debasish Padhi",
      "photoUrl": "//lh3.googleusercontent.com/-vcn0hxkFbTw/AAAAAAAAAAI/AAAAAAAAAHM/9ggzi4wqYg0/s50-c-k-no/photo.jpg",
      "userId": "112236557723789007632"
     },
     "user_tz": -330
    },
    "id": "_aLxvEwTnLOM",
    "outputId": "e171c243-f180-48c0-eede-27541f3c392f"
   },
   "outputs": [
    {
     "data": {
      "text/plain": [
       "(75000, 50)"
      ]
     },
     "execution_count": 17,
     "metadata": {},
     "output_type": "execute_result"
    }
   ],
   "source": [
    "\"\"\"\n",
    "This code snippet converts train data from text to vectors by Average Word2Vec\n",
    "\"\"\"\n",
    "# compute average word2vec for each review.\n",
    "tain_vectors = []; # the avg-w2v for each sentence/review is stored in this list\n",
    "for sent in list_of_train_sent: # for each review/sentence\n",
    "    sent_vec = np.zeros(50) # as word vectors are of zero length\n",
    "    cnt_words =0; # num of words with a valid vector in the sentence/review\n",
    "    for word in sent: # for each word in a review/sentence\n",
    "        try:\n",
    "            vec = w2v_train_model.wv[word]\n",
    "            sent_vec += vec\n",
    "            cnt_words += 1\n",
    "        except:\n",
    "            pass\n",
    "    if cnt_words == 0:\n",
    "        cnt_words = 1\n",
    "    sent_vec /= cnt_words\n",
    "    tain_vectors.append(sent_vec)\n",
    "train_avg_w2v = np.asmatrix(tain_vectors)\n",
    "train_avg_w2v.shape"
   ]
  },
  {
   "cell_type": "code",
   "execution_count": 18,
   "metadata": {
    "colab": {
     "base_uri": "https://localhost:8080/",
     "height": 35
    },
    "colab_type": "code",
    "executionInfo": {
     "elapsed": 1203,
     "status": "ok",
     "timestamp": 1534509161826,
     "user": {
      "displayName": "Debasish Padhi",
      "photoUrl": "//lh3.googleusercontent.com/-vcn0hxkFbTw/AAAAAAAAAAI/AAAAAAAAAHM/9ggzi4wqYg0/s50-c-k-no/photo.jpg",
      "userId": "112236557723789007632"
     },
     "user_tz": -330
    },
    "id": "foNyY-5pnLOU",
    "outputId": "4b3d8c4e-4ce2-4ce3-86fb-65f485b9c3d2"
   },
   "outputs": [
    {
     "data": {
      "text/plain": [
       "(25000, 50)"
      ]
     },
     "execution_count": 18,
     "metadata": {},
     "output_type": "execute_result"
    }
   ],
   "source": [
    "\"\"\"\n",
    "This code snippet converts test data from text to vectors by Average Word2Vec\n",
    "\"\"\"\n",
    "# compute average word2vec for each review.\n",
    "test_vectors = []; # the avg-w2v for each sentence/review is stored in this list\n",
    "for sent in list_of_test_sent: # for each review/sentence\n",
    "    sent_vec = np.zeros(50) # as word vectors are of zero length\n",
    "    cnt_words =0; # num of words with a valid vector in the sentence/review\n",
    "    for word in sent: # for each word in a review/sentence\n",
    "        try:\n",
    "            vec = w2v_test_model.wv[word]\n",
    "            sent_vec += vec\n",
    "            cnt_words += 1\n",
    "        except:\n",
    "            pass\n",
    "    if cnt_words == 0:\n",
    "        cnt_words = 1\n",
    "    sent_vec /= cnt_words\n",
    "    test_vectors.append(sent_vec)\n",
    "test_avg_w2v = np.asmatrix(test_vectors)\n",
    "test_avg_w2v.shape"
   ]
  },
  {
   "cell_type": "code",
   "execution_count": 19,
   "metadata": {
    "colab": {
     "base_uri": "https://localhost:8080/",
     "height": 54
    },
    "colab_type": "code",
    "executionInfo": {
     "elapsed": 1496,
     "status": "ok",
     "timestamp": 1534509650290,
     "user": {
      "displayName": "Debasish Padhi",
      "photoUrl": "//lh3.googleusercontent.com/-vcn0hxkFbTw/AAAAAAAAAAI/AAAAAAAAAHM/9ggzi4wqYg0/s50-c-k-no/photo.jpg",
      "userId": "112236557723789007632"
     },
     "user_tz": -330
    },
    "id": "u8LNdN4CnLOc",
    "outputId": "6c1f7c74-8067-4da9-a562-b188539eb76b"
   },
   "outputs": [
    {
     "name": "stdout",
     "output_type": "stream",
     "text": [
      "Train data shape :  (75000, 50)\n",
      "Test data shape :  (25000, 50)\n"
     ]
    }
   ],
   "source": [
    "\"\"\"\n",
    "Standardize both training and test data\n",
    "\"\"\"\n",
    "scale = StandardScaler(with_mean = False)\n",
    "train_avg_w2v = scale.fit_transform(train_avg_w2v)\n",
    "test_avg_w2v  = scale.transform(test_avg_w2v)\n",
    "print(\"Train data shape : \",train_avg_w2v.shape)\n",
    "print(\"Test data shape : \",test_avg_w2v.shape)"
   ]
  },
  {
   "cell_type": "code",
   "execution_count": 32,
   "metadata": {},
   "outputs": [],
   "source": [
    "import pickle\n",
    "pickle_out = open(\"train_avg_w2v.pkl\", \"wb\")\n",
    "pickle.dump(train_avg_w2v, pickle_out)\n",
    "pickle_out.close()\n",
    "pickle_out = open(\"test_avg_w2v.pkl\", \"wb\")\n",
    "pickle.dump(test_avg_w2v, pickle_out)\n",
    "pickle_out.close()"
   ]
  },
  {
   "cell_type": "code",
   "execution_count": 20,
   "metadata": {
    "colab": {
     "base_uri": "https://localhost:8080/",
     "height": 109
    },
    "colab_type": "code",
    "executionInfo": {
     "elapsed": 1384,
     "status": "ok",
     "timestamp": 1534509783381,
     "user": {
      "displayName": "Debasish Padhi",
      "photoUrl": "//lh3.googleusercontent.com/-vcn0hxkFbTw/AAAAAAAAAAI/AAAAAAAAAHM/9ggzi4wqYg0/s50-c-k-no/photo.jpg",
      "userId": "112236557723789007632"
     },
     "user_tz": -330
    },
    "id": "kVlsvccinLOk",
    "outputId": "f2c8d41b-150c-4046-b93b-ee9e9d34b17d"
   },
   "outputs": [
    {
     "name": "stdout",
     "output_type": "stream",
     "text": [
      "LogisticRegression(C=1, class_weight=None, dual=False, fit_intercept=True,\n",
      "          intercept_scaling=1, max_iter=100, multi_class='ovr', n_jobs=1,\n",
      "          penalty='l2', random_state=None, solver='liblinear', tol=0.0001,\n",
      "          verbose=0, warm_start=False)\n",
      "F1 Score :  0.939383132895785\n"
     ]
    }
   ],
   "source": [
    "\"\"\"\n",
    "This code snippet deals with GridSearchCV\n",
    "\"\"\"\n",
    "tuned_parameters = [{ 'C' : [10**-4, 10**-3, 10**-2,\\\n",
    "                             10**-1, 10**0, 10**1,\\\n",
    "                             10**2,10**3, 10**4]}]\n",
    "f1_scorer = make_scorer(f1_score, pos_label=\"positive\")\n",
    "model = GridSearchCV(LogisticRegression(), tuned_parameters, scoring = f1_scorer, cv=5 )\n",
    "model.fit(train_avg_w2v, y_train)\n",
    "print(model.best_estimator_)\n",
    "print(\"F1 Score : \",model.score(train_avg_w2v, y_train))"
   ]
  },
  {
   "cell_type": "code",
   "execution_count": 42,
   "metadata": {
    "colab": {
     "base_uri": "https://localhost:8080/",
     "height": 109
    },
    "colab_type": "code",
    "executionInfo": {
     "elapsed": 1992,
     "status": "ok",
     "timestamp": 1534509862245,
     "user": {
      "displayName": "Debasish Padhi",
      "photoUrl": "//lh3.googleusercontent.com/-vcn0hxkFbTw/AAAAAAAAAAI/AAAAAAAAAHM/9ggzi4wqYg0/s50-c-k-no/photo.jpg",
      "userId": "112236557723789007632"
     },
     "user_tz": -330
    },
    "id": "ZbpecYFbnLOv",
    "outputId": "813c2693-75ff-4560-b24b-31b14d0eced0"
   },
   "outputs": [
    {
     "name": "stdout",
     "output_type": "stream",
     "text": [
      "LogisticRegression(C=804.0099703308456, class_weight=None, dual=False,\n",
      "          fit_intercept=True, intercept_scaling=1, max_iter=100,\n",
      "          multi_class='ovr', n_jobs=1, penalty='l2', random_state=None,\n",
      "          solver='liblinear', tol=0.0001, verbose=0, warm_start=False)\n",
      "F1 Score :  0.939357149361095\n"
     ]
    }
   ],
   "source": [
    "\"\"\"\n",
    "This code snippet deals with RandomizedSearchCV\n",
    "\"\"\"\n",
    "parameters = { 'C' : uniform(10**-3,10**3)}\n",
    "f1_scorer = make_scorer(f1_score, pos_label=\"positive\")\n",
    "model = RandomizedSearchCV(LogisticRegression(), parameters, scoring = f1_scorer, cv=5 )\n",
    "model.fit(train_avg_w2v, y_train)\n",
    "print(model.best_estimator_)\n",
    "print(\"F1 Score : \",model.score(train_avg_w2v, y_train))"
   ]
  },
  {
   "cell_type": "code",
   "execution_count": 43,
   "metadata": {},
   "outputs": [
    {
     "name": "stdout",
     "output_type": "stream",
     "text": [
      "Sparsity :  50\n",
      "Error : 13.42\n"
     ]
    },
    {
     "data": {
      "text/plain": [
       "Text(0.5,1,'CONFUSION MATRIX')"
      ]
     },
     "execution_count": 43,
     "metadata": {},
     "output_type": "execute_result"
    },
    {
     "data": {
      "image/png": "[encoded data removed]",
      "text/plain": [
       "<matplotlib.figure.Figure at 0x7fa4e3a91c18>"
      ]
     },
     "metadata": {},
     "output_type": "display_data"
    }
   ],
   "source": [
    "\"\"\"\n",
    "In this code snippet finds sparsity and erorr using lamda from GridSearchCV.\n",
    "\"\"\"\n",
    "clf = LogisticRegression(C=1, penalty='l2');\n",
    "clf.fit(train_avg_w2v, y_train);\n",
    "w = clf.coef_\n",
    "print(\"Sparsity : \",np.count_nonzero(w))\n",
    "# response prediction\n",
    "pred = clf.predict(test_avg_w2v)\n",
    "# evaluate error\n",
    "acc = accuracy_score(y_test, pred)*100\n",
    "print(\"Error : %.2f\"%(100-acc))\n",
    "conf_matrix = confusion_matrix(y_test, pred)\n",
    "confusion_matrix_df = pd.DataFrame(conf_matrix,\n",
    "                                   [\"Negative\", \"Positive\"],\\\n",
    "                                   [\"Negative\", \"Positive\"],\\\n",
    "                                   dtype=int)\n",
    "sns.heatmap(confusion_matrix_df, annot=True, fmt=\"d\")\n",
    "plt.title(\"CONFUSION MATRIX\")"
   ]
  },
  {
   "cell_type": "code",
   "execution_count": 44,
   "metadata": {},
   "outputs": [
    {
     "name": "stdout",
     "output_type": "stream",
     "text": [
      "Sparsity :  50\n",
      "Error : 13.32\n"
     ]
    },
    {
     "data": {
      "text/plain": [
       "Text(0.5,1,'CONFUSION MATRIX')"
      ]
     },
     "execution_count": 44,
     "metadata": {},
     "output_type": "execute_result"
    },
    {
     "data": {
      "image/png": "[encoded data removed]",
      "text/plain": [
       "<matplotlib.figure.Figure at 0x7fa49fb9ccf8>"
      ]
     },
     "metadata": {},
     "output_type": "display_data"
    }
   ],
   "source": [
    "\"\"\"\n",
    "In this code snippet finds sparsity and erorr using lamda from GridSearchCV.\n",
    "\"\"\"\n",
    "clf = LogisticRegression(C= 1, penalty='l1');\n",
    "clf.fit(train_avg_w2v, y_train);\n",
    "w = clf.coef_\n",
    "print(\"Sparsity : \",np.count_nonzero(w))\n",
    "# response prediction\n",
    "pred = clf.predict(test_avg_w2v)\n",
    "# evaluate error\n",
    "acc = accuracy_score(y_test, pred)*100\n",
    "print(\"Error : %.2f\"%(100-acc))\n",
    "conf_matrix = confusion_matrix(y_test, pred)\n",
    "confusion_matrix_df = pd.DataFrame(conf_matrix,\n",
    "                                   [\"Negative\", \"Positive\"],\\\n",
    "                                   [\"Negative\", \"Positive\"],\\\n",
    "                                   dtype=int)\n",
    "sns.heatmap(confusion_matrix_df, annot=True, fmt=\"d\")\n",
    "plt.title(\"CONFUSION MATRIX\")"
   ]
  },
  {
   "cell_type": "code",
   "execution_count": 59,
   "metadata": {},
   "outputs": [
    {
     "name": "stdout",
     "output_type": "stream",
     "text": [
      "Sparsity :  50\n",
      "Error : 13.18\n"
     ]
    },
    {
     "data": {
      "text/plain": [
       "Text(0.5,1,'CONFUSION MATRIX')"
      ]
     },
     "execution_count": 59,
     "metadata": {},
     "output_type": "execute_result"
    },
    {
     "data": {
      "image/png": "[encoded data removed]",
      "text/plain": [
       "<matplotlib.figure.Figure at 0x7fa4e656e978>"
      ]
     },
     "metadata": {},
     "output_type": "display_data"
    }
   ],
   "source": [
    "\"\"\"\n",
    "In this code snippet finds sparsity and erorr using lamda from RandomizedSearchCV.\n",
    "\"\"\"\n",
    "clf = LogisticRegression(C=0.001, penalty='l2');\n",
    "clf.fit(train_avg_w2v, y_train);\n",
    "w = clf.coef_\n",
    "print(\"Sparsity : \",np.count_nonzero(w))\n",
    "# response prediction\n",
    "pred = clf.predict(test_avg_w2v)\n",
    "# evaluate error\n",
    "acc = accuracy_score(y_test, pred)*100\n",
    "print(\"Error : %.2f\"%(100-acc))\n",
    "conf_matrix = confusion_matrix(y_test, pred)\n",
    "confusion_matrix_df = pd.DataFrame(conf_matrix,\n",
    "                                   [\"Negative\", \"Positive\"],\\\n",
    "                                   [\"Negative\", \"Positive\"],\\\n",
    "                                   dtype=int)\n",
    "sns.heatmap(confusion_matrix_df, annot=True, fmt=\"d\")\n",
    "plt.title(\"CONFUSION MATRIX\")"
   ]
  },
  {
   "cell_type": "code",
   "execution_count": 177,
   "metadata": {},
   "outputs": [],
   "source": [
    "\"\"\"Lists to store lambda and error values\"\"\"\n",
    "lambda_list = [0.02,0.002,0.0002]\n",
    "train_error = []\n",
    "test_error = []"
   ]
  },
  {
   "cell_type": "code",
   "execution_count": 178,
   "metadata": {},
   "outputs": [
    {
     "name": "stdout",
     "output_type": "stream",
     "text": [
      "Sparsity :  25\n",
      "Error : 14.65\n"
     ]
    },
    {
     "data": {
      "text/plain": [
       "Text(0.5,1,'CONFUSION MATRIX')"
      ]
     },
     "execution_count": 178,
     "metadata": {},
     "output_type": "execute_result"
    },
    {
     "data": {
      "image/png": "[encoded data removed]",
      "text/plain": [
       "<matplotlib.figure.Figure at 0x7fa49f83fac8>"
      ]
     },
     "metadata": {},
     "output_type": "display_data"
    }
   ],
   "source": [
    "\"\"\"\n",
    "In this code snippet finds sparsity and erorr using lamda from RandomizedSearchCV.\n",
    "\"\"\"\n",
    "clf = LogisticRegression(C=0.001, penalty='l1');\n",
    "clf.fit(train_avg_w2v, y_train);\n",
    "w = clf.coef_\n",
    "print(\"Sparsity : \",np.count_nonzero(w))\n",
    "# response prediction\n",
    "pred = clf.predict(test_avg_w2v)\n",
    "# evaluate error\n",
    "acc = accuracy_score(y_test, pred)*100\n",
    "print(\"Error : %.2f\"%(100-acc))\n",
    "train_error.append(100-acc)\n",
    "conf_matrix = confusion_matrix(y_test, pred)\n",
    "confusion_matrix_df = pd.DataFrame(conf_matrix,\n",
    "                                   [\"Negative\", \"Positive\"],\\\n",
    "                                   [\"Negative\", \"Positive\"],\\\n",
    "                                   dtype=int)\n",
    "sns.heatmap(confusion_matrix_df, annot=True, fmt=\"d\")\n",
    "plt.title(\"CONFUSION MATRIX\")"
   ]
  },
  {
   "cell_type": "code",
   "execution_count": 179,
   "metadata": {},
   "outputs": [
    {
     "name": "stdout",
     "output_type": "stream",
     "text": [
      "Error : 12.07\n"
     ]
    },
    {
     "data": {
      "text/plain": [
       "Text(0.5,1,'CONFUSION MATRIX')"
      ]
     },
     "execution_count": 179,
     "metadata": {},
     "output_type": "execute_result"
    },
    {
     "data": {
      "image/png": "[encoded data removed]",
      "text/plain": [
       "<matplotlib.figure.Figure at 0x7fa49b261f98>"
      ]
     },
     "metadata": {},
     "output_type": "display_data"
    }
   ],
   "source": [
    "\"\"\"\n",
    "In this code snippet finds sparsity and train erorr using lamda value from RandomizedSearchCV.\n",
    "\"\"\"\n",
    "# response prediction\n",
    "pred = clf.predict(train_avg_w2v)\n",
    "# evaluate error\n",
    "acc = accuracy_score(y_train, pred)*100\n",
    "print(\"Error : %.2f\"%(100-acc))\n",
    "test_error.append(100-acc)\n",
    "conf_matrix = confusion_matrix(y_train, pred)\n",
    "confusion_matrix_df = pd.DataFrame(conf_matrix,\n",
    "                                   [\"Negative\", \"Positive\"],\\\n",
    "                                   [\"Negative\", \"Positive\"],\\\n",
    "                                   dtype=int)\n",
    "sns.heatmap(confusion_matrix_df, annot=True, fmt=\"d\")\n",
    "plt.title(\"CONFUSION MATRIX\")"
   ]
  },
  {
   "cell_type": "code",
   "execution_count": 180,
   "metadata": {},
   "outputs": [
    {
     "name": "stdout",
     "output_type": "stream",
     "text": [
      "Sparsity :  24\n",
      "Error : 14.80\n"
     ]
    },
    {
     "data": {
      "text/plain": [
       "Text(0.5,1,'CONFUSION MATRIX')"
      ]
     },
     "execution_count": 180,
     "metadata": {},
     "output_type": "execute_result"
    },
    {
     "data": {
      "image/png": "[encoded data removed]",
      "text/plain": [
       "<matplotlib.figure.Figure at 0x7fa4c580f550>"
      ]
     },
     "metadata": {},
     "output_type": "display_data"
    }
   ],
   "source": [
    "\"\"\"\n",
    "In this code snippet finds sparsity and erorr using lamda from RandomizedSearchCV.\n",
    "\"\"\"\n",
    "clf = LogisticRegression(C=0.0009, penalty='l1');\n",
    "clf.fit(train_avg_w2v, y_train);\n",
    "w = clf.coef_\n",
    "print(\"Sparsity : \",np.count_nonzero(w))\n",
    "# response prediction\n",
    "pred = clf.predict(test_avg_w2v)\n",
    "# evaluate error\n",
    "acc = accuracy_score(y_test, pred)*100\n",
    "print(\"Error : %.2f\"%(100-acc))\n",
    "train_error.append(100-acc)\n",
    "conf_matrix = confusion_matrix(y_test, pred)\n",
    "confusion_matrix_df = pd.DataFrame(conf_matrix,\n",
    "                                   [\"Negative\", \"Positive\"],\\\n",
    "                                   [\"Negative\", \"Positive\"],\\\n",
    "                                   dtype=int)\n",
    "sns.heatmap(confusion_matrix_df, annot=True, fmt=\"d\")\n",
    "plt.title(\"CONFUSION MATRIX\")"
   ]
  },
  {
   "cell_type": "code",
   "execution_count": 181,
   "metadata": {},
   "outputs": [
    {
     "name": "stdout",
     "output_type": "stream",
     "text": [
      "Error : 12.26\n"
     ]
    },
    {
     "data": {
      "text/plain": [
       "Text(0.5,1,'CONFUSION MATRIX')"
      ]
     },
     "execution_count": 181,
     "metadata": {},
     "output_type": "execute_result"
    },
    {
     "data": {
      "image/png": "[encoded data removed]",
      "text/plain": [
       "<matplotlib.figure.Figure at 0x7fa49a6e3ef0>"
      ]
     },
     "metadata": {},
     "output_type": "display_data"
    }
   ],
   "source": [
    "\"\"\"\n",
    "In this code snippet finds sparsity and train erorr using lamda value from RandomizedSearchCV.\n",
    "\"\"\"\n",
    "# response prediction\n",
    "pred = clf.predict(train_avg_w2v)\n",
    "# evaluate error\n",
    "acc = accuracy_score(y_train, pred)*100\n",
    "print(\"Error : %.2f\"%(100-acc))\n",
    "test_error.append(100-acc)\n",
    "conf_matrix = confusion_matrix(y_train, pred)\n",
    "confusion_matrix_df = pd.DataFrame(conf_matrix,\n",
    "                                   [\"Negative\", \"Positive\"],\\\n",
    "                                   [\"Negative\", \"Positive\"],\\\n",
    "                                   dtype=int)\n",
    "sns.heatmap(confusion_matrix_df, annot=True, fmt=\"d\")\n",
    "plt.title(\"CONFUSION MATRIX\")"
   ]
  },
  {
   "cell_type": "code",
   "execution_count": 182,
   "metadata": {},
   "outputs": [
    {
     "name": "stdout",
     "output_type": "stream",
     "text": [
      "Sparsity :  5\n",
      "Error : 15.21\n"
     ]
    },
    {
     "data": {
      "text/plain": [
       "Text(0.5,1,'CONFUSION MATRIX')"
      ]
     },
     "execution_count": 182,
     "metadata": {},
     "output_type": "execute_result"
    },
    {
     "data": {
      "image/png": "[encoded data removed]",
      "text/plain": [
       "<matplotlib.figure.Figure at 0x7fa49e7ba390>"
      ]
     },
     "metadata": {},
     "output_type": "display_data"
    }
   ],
   "source": [
    "\"\"\"\n",
    "In this code snippet finds sparsity and erorr using lamda from RandomizedSearchCV.\n",
    "\"\"\"\n",
    "clf = LogisticRegression(C=0.0001, penalty='l1');\n",
    "clf.fit(train_avg_w2v, y_train);\n",
    "w = clf.coef_\n",
    "print(\"Sparsity : \",np.count_nonzero(w))\n",
    "# response prediction\n",
    "pred = clf.predict(test_avg_w2v)\n",
    "# evaluate error\n",
    "acc = accuracy_score(y_test, pred)*100\n",
    "print(\"Error : %.2f\"%(100-acc))\n",
    "train_error.append(100-acc)\n",
    "conf_matrix = confusion_matrix(y_test, pred)\n",
    "confusion_matrix_df = pd.DataFrame(conf_matrix,\n",
    "                                   [\"Negative\", \"Positive\"],\\\n",
    "                                   [\"Negative\", \"Positive\"],\\\n",
    "                                   dtype=int)\n",
    "sns.heatmap(confusion_matrix_df, annot=True, fmt=\"d\")\n",
    "plt.title(\"CONFUSION MATRIX\")"
   ]
  },
  {
   "cell_type": "code",
   "execution_count": 183,
   "metadata": {},
   "outputs": [
    {
     "name": "stdout",
     "output_type": "stream",
     "text": [
      "Error : 14.76\n"
     ]
    },
    {
     "data": {
      "text/plain": [
       "Text(0.5,1,'CONFUSION MATRIX')"
      ]
     },
     "execution_count": 183,
     "metadata": {},
     "output_type": "execute_result"
    },
    {
     "data": {
      "image/png": "[encoded data removed]",
      "text/plain": [
       "<matplotlib.figure.Figure at 0x7fa4a0400e48>"
      ]
     },
     "metadata": {},
     "output_type": "display_data"
    }
   ],
   "source": [
    "\"\"\"\n",
    "In this code snippet finds sparsity and train erorr using lamda value from RandomizedSearchCV.\n",
    "\"\"\"\n",
    "# response prediction\n",
    "pred = clf.predict(train_avg_w2v)\n",
    "# evaluate error\n",
    "acc = accuracy_score(y_train, pred)*100\n",
    "print(\"Error : %.2f\"%(100-acc))\n",
    "test_error.append(100-acc)\n",
    "conf_matrix = confusion_matrix(y_train, pred)\n",
    "confusion_matrix_df = pd.DataFrame(conf_matrix,\n",
    "                                   [\"Negative\", \"Positive\"],\\\n",
    "                                   [\"Negative\", \"Positive\"],\\\n",
    "                                   dtype=int)\n",
    "sns.heatmap(confusion_matrix_df, annot=True, fmt=\"d\")\n",
    "plt.title(\"CONFUSION MATRIX\")"
   ]
  },
  {
   "cell_type": "code",
   "execution_count": 184,
   "metadata": {},
   "outputs": [
    {
     "data": {
      "image/png": "[encoded data removed]",
      "text/plain": [
       "<matplotlib.figure.Figure at 0x7fa49f4102b0>"
      ]
     },
     "metadata": {},
     "output_type": "display_data"
    }
   ],
   "source": [
    "Train_Error, = plt.plot( lambda_list, train_error, marker='o',\\\n",
    "                        markerfacecolor='blue', markersize=12,\\\n",
    "                        color='skyblue', linewidth=4)\n",
    "Test_Error,  = plt.plot( lambda_list, test_error, marker='',\\\n",
    "                        color='olive', linewidth=2)\n",
    "plt.xlabel('Lambda Values')\n",
    "plt.ylabel('Error')\n",
    "plt.title('Train and Test error plot')\n",
    "plt.legend([Train_Error,Test_Error], [\"Train_Error\",\"Test_Error\"])\n",
    "plt.show()"
   ]
  },
  {
   "cell_type": "code",
   "execution_count": 64,
   "metadata": {
    "colab": {},
    "colab_type": "code",
    "id": "Y2EKKaGunLO9"
   },
   "outputs": [
    {
     "name": "stdout",
     "output_type": "stream",
     "text": [
      "Weight vector before perturbation : -0.18761 -0.35046 0.33493 0.11416 -0.08674 -0.11332 0.11148 0.12944 -0.14081 0.14100 0.25901 0.16038 0.00797 0.74318 -0.08701 0.30061 -0.25531 0.06359 0.08152 -0.08298 \n",
      "\n",
      "Weight vector after perturbation : -0.19211 -0.35466 0.33445 0.11317 -0.08735 -0.11632 0.10879 0.13067 -0.14266 0.13978 0.26025 0.15877 0.00470 0.74036 -0.08880 0.29879 -0.25897 0.06341 0.08048 -0.08498 "
     ]
    }
   ],
   "source": [
    "\"\"\"\n",
    "This code snippet shows effect of colinearity of on weight vectors\n",
    "\"\"\"\n",
    "x = copy.deepcopy(train_avg_w2v)\n",
    "\n",
    "clf = LogisticRegression(C=0.001, penalty='l1');\n",
    "clf.fit(train_avg_w2v, y_train);\n",
    "w = clf.coef_\n",
    "a = np.transpose(np.nonzero(w))\n",
    "print(\"Weight vector before perturbation :\", end=\" \")\n",
    "for i,j in a[:20]:\n",
    "    print(\"%.5f\"%w[i,j], end=\" \")\n",
    "\n",
    "print(\"\\n\")\n",
    "\n",
    "# perturbation technique start\n",
    "epsilon = np.random.normal(loc=0.0, scale=0.01)\n",
    "a = np.transpose(np.nonzero(x))\n",
    "for i,j in a:\n",
    "    x[i,j] += epsilon\n",
    "# perturbation technique end\n",
    "\n",
    "clf = LogisticRegression(C=0.001 , penalty='l1');\n",
    "clf.fit(x, y_train);\n",
    "w = clf.coef_\n",
    "a = np.transpose(np.nonzero(w))\n",
    "print(\"Weight vector after perturbation :\", end=\" \")\n",
    "for i,j in a[:20]:\n",
    "    print(\"%.5f\"%w[i,j], end=\" \")\n",
    "\n",
    "# deleting the variable to free RAM\n",
    "del x"
   ]
  },
  {
   "cell_type": "code",
   "execution_count": 63,
   "metadata": {},
   "outputs": [
    {
     "name": "stdout",
     "output_type": "stream",
     "text": [
      "FeatureIndex  FeatureWeight\n",
      "\n",
      "(26, 0.743125442521408)\n",
      "(37, 0.3602241152831083)\n",
      "(8, 0.3348152640858897)\n",
      "(29, 0.30070132251814846)\n",
      "(19, 0.2590928922351227)\n",
      "(43, 0.20244371107010584)\n",
      "(34, 0.19416609132792062)\n",
      "(20, 0.1604415531310982)\n",
      "(18, 0.1410386353493387)\n",
      "(45, 0.1342840935593244)\n"
     ]
    }
   ],
   "source": [
    "\"\"\"\n",
    "This code snippet prints top 10 important features along with there index no\n",
    "\"\"\"\n",
    "clf = LogisticRegression(C=0.001, penalty='l1');\n",
    "clf.fit(train_avg_w2v, y_train);\n",
    "w = clf.coef_\n",
    "a = [i for i in sorted(enumerate(w[0]),key=lambda pair: pair[1], reverse = True) if i[1] != 0.0]\n",
    "print(\"FeatureIndex  FeatureWeight\\n\")\n",
    "print(*a[:10],sep = '\\n')"
   ]
  },
  {
   "cell_type": "markdown",
   "metadata": {
    "colab_type": "text",
    "id": "pyYYeJHRnLPD"
   },
   "source": [
    "#### Observation:\n",
    "* Here we have applied average word2vec to convert text to vector.\n",
    "* We got hyperparameter(lambda) from GridSearchCV is 1 and from RandomizedSearchCV is 804 .\n",
    "* I got best result from a model where C = 0.001, sparsity = 50 and the minimum error 13.18.\n",
    "* In above models as we are reducing dimensions, so, weight vector and colinearity are not much helpful."
   ]
  },
  {
   "cell_type": "markdown",
   "metadata": {
    "colab_type": "text",
    "id": "AY6VZiXrnLPE"
   },
   "source": [
    "### b) TF IDF Word2Vec"
   ]
  },
  {
   "cell_type": "code",
   "execution_count": 11,
   "metadata": {
    "colab": {
     "base_uri": "https://localhost:8080/",
     "height": 35
    },
    "colab_type": "code",
    "executionInfo": {
     "elapsed": 13816,
     "status": "ok",
     "timestamp": 1534509183966,
     "user": {
      "displayName": "Debasish Padhi",
      "photoUrl": "//lh3.googleusercontent.com/-vcn0hxkFbTw/AAAAAAAAAAI/AAAAAAAAAHM/9ggzi4wqYg0/s50-c-k-no/photo.jpg",
      "userId": "112236557723789007632"
     },
     "user_tz": -330
    },
    "id": "j2_8pncInLPG",
    "outputId": "6d228434-d933-4255-c965-c50cc353def4"
   },
   "outputs": [],
   "source": [
    "\"\"\"\n",
    "This code snippet converts train data from text to vectors by TF-IDF weighted Word2Vec\n",
    "\"\"\"\n",
    "tf_idf_vect = TfidfVectorizer(ngram_range=(1,2), analyzer = 'word')\n",
    "final_tf_idf = tf_idf_vect.fit_transform(x_train)\n",
    "tfidf_feat = tf_idf_vect.get_feature_names() # tfidf words/col-names\n",
    "# final_tf_idf is the sparse matrix with row= sentence, col=word and cell_val = tfidf\n",
    "tfidf_train_vectors = []; # the tfidf-w2v for each sentence/review is stored in this list\n",
    "row=0;\n",
    "for sent in list_of_train_sent: # for each review/sentence\n",
    "    sent_vec = np.zeros(50) # as word vectors are of zero length\n",
    "    weight_sum =0; # num of words with a valid vector in the sentence/review\n",
    "    for word in sent: # for each word in a review/sentence\n",
    "        try:\n",
    "            vec = w2v_train_model.wv[word]\n",
    "            # obtain the tf_idfidf of a word in a sentence/review\n",
    "            tf_idf = final_tf_idf[row, tfidf_feat.index(word)]\n",
    "            sent_vec += (vec * tf_idf)\n",
    "            weight_sum += tf_idf\n",
    "        except:\n",
    "            pass\n",
    "    if weight_sum == 0:\n",
    "        weight_sum = 1\n",
    "    sent_vec /= weight_sum\n",
    "    tfidf_train_vectors.append(sent_vec)\n",
    "    row += 1\n",
    "train_tf_idf_w2v = np.asmatrix(tfidf_train_vectors)"
   ]
  },
  {
   "cell_type": "code",
   "execution_count": 12,
   "metadata": {
    "colab": {
     "base_uri": "https://localhost:8080/",
     "height": 35
    },
    "colab_type": "code",
    "executionInfo": {
     "elapsed": 5162,
     "status": "ok",
     "timestamp": 1534509189241,
     "user": {
      "displayName": "Debasish Padhi",
      "photoUrl": "//lh3.googleusercontent.com/-vcn0hxkFbTw/AAAAAAAAAAI/AAAAAAAAAHM/9ggzi4wqYg0/s50-c-k-no/photo.jpg",
      "userId": "112236557723789007632"
     },
     "user_tz": -330
    },
    "id": "uERzJiJanLPR",
    "outputId": "d83e269f-5660-4453-ed2b-5c04f8d2cb46"
   },
   "outputs": [],
   "source": [
    "\"\"\"\n",
    "This code snippet converts test data from text to vectors by TF-IDF weighted Word2Vec\n",
    "\"\"\"\n",
    "final_tf_idf = tf_idf_vect.transform(x_test)\n",
    "tfidf_feat = tf_idf_vect.get_feature_names() # tfidf words/col-names\n",
    "# final_tf_idf is the sparse matrix with row= sentence, col=word and cell_val = tfidf\n",
    "tfidf_test_vectors = []; # the tfidf-w2v for each sentence/review is stored in this list\n",
    "row=0;\n",
    "for sent in list_of_test_sent: # for each review/sentence\n",
    "    sent_vec = np.zeros(50) # as word vectors are of zero length\n",
    "    weight_sum =0; # num of words with a valid vector in the sentence/review\n",
    "    for word in sent: # for each word in a review/sentence\n",
    "        try:\n",
    "            vec = w2v_test_model.wv[word]\n",
    "            # obtain the tf_idfidf of a word in a sentence/review\n",
    "            tf_idf = final_tf_idf[row, tfidf_feat.index(word)]\n",
    "            sent_vec += (vec * tf_idf)\n",
    "            weight_sum += tf_idf\n",
    "        except:\n",
    "            pass\n",
    "    if weight_sum == 0:\n",
    "        weight_sum = 1\n",
    "    sent_vec /= weight_sum\n",
    "    tfidf_test_vectors.append(sent_vec)\n",
    "    row += 1\n",
    "test_tf_idf_w2v = np.asmatrix(tfidf_test_vectors)"
   ]
  },
  {
   "cell_type": "code",
   "execution_count": 13,
   "metadata": {
    "colab": {
     "base_uri": "https://localhost:8080/",
     "height": 54
    },
    "colab_type": "code",
    "executionInfo": {
     "elapsed": 1561,
     "status": "ok",
     "timestamp": 1534509714978,
     "user": {
      "displayName": "Debasish Padhi",
      "photoUrl": "//lh3.googleusercontent.com/-vcn0hxkFbTw/AAAAAAAAAAI/AAAAAAAAAHM/9ggzi4wqYg0/s50-c-k-no/photo.jpg",
      "userId": "112236557723789007632"
     },
     "user_tz": -330
    },
    "id": "uQ2wmD9hnLPX",
    "outputId": "04bc9fc1-9217-47ea-e735-a2469539a248"
   },
   "outputs": [
    {
     "name": "stdout",
     "output_type": "stream",
     "text": [
      "Train data shape :  (75000, 50)\n",
      "Test data shape :  (25000, 50)\n"
     ]
    }
   ],
   "source": [
    "\"\"\"\n",
    "Standardize both training and test data\n",
    "\"\"\"\n",
    "scale = StandardScaler(with_mean = False)\n",
    "train_tf_idf_w2v = scale.fit_transform(train_tf_idf_w2v)\n",
    "test_tf_idf_w2v  = scale.transform(test_tf_idf_w2v)\n",
    "print(\"Train data shape : \",train_tf_idf_w2v.shape)\n",
    "print(\"Test data shape : \",test_tf_idf_w2v.shape)"
   ]
  },
  {
   "cell_type": "code",
   "execution_count": 14,
   "metadata": {},
   "outputs": [],
   "source": [
    "import pickle\n",
    "pickle_out = open(\"train_tf_idf_w2v.pkl\", \"wb\")\n",
    "pickle.dump(train_tf_idf_w2v, pickle_out)\n",
    "pickle_out.close()\n",
    "pickle_out = open(\"test_tf_idf_w2v.pkl\", \"wb\")\n",
    "pickle.dump(test_tf_idf_w2v, pickle_out)\n",
    "pickle_out.close()"
   ]
  },
  {
   "cell_type": "code",
   "execution_count": 15,
   "metadata": {
    "colab": {
     "base_uri": "https://localhost:8080/",
     "height": 109
    },
    "colab_type": "code",
    "executionInfo": {
     "elapsed": 1072,
     "status": "ok",
     "timestamp": 1534509821485,
     "user": {
      "displayName": "Debasish Padhi",
      "photoUrl": "//lh3.googleusercontent.com/-vcn0hxkFbTw/AAAAAAAAAAI/AAAAAAAAAHM/9ggzi4wqYg0/s50-c-k-no/photo.jpg",
      "userId": "112236557723789007632"
     },
     "user_tz": -330
    },
    "id": "ZXv3b6uanLPj",
    "outputId": "32c45f12-86e0-4a29-8157-21f130477f96"
   },
   "outputs": [
    {
     "name": "stdout",
     "output_type": "stream",
     "text": [
      "LogisticRegression(C=100, class_weight=None, dual=False, fit_intercept=True,\n",
      "          intercept_scaling=1, max_iter=100, multi_class='ovr', n_jobs=1,\n",
      "          penalty='l2', random_state=None, solver='liblinear', tol=0.0001,\n",
      "          verbose=0, warm_start=False)\n",
      "F1 Score :  0.9326301693461628\n"
     ]
    }
   ],
   "source": [
    "\"\"\"\n",
    "This code snippet deals with GridSearchCV\n",
    "\"\"\"\n",
    "tuned_parameters = [{ 'C' : [10**-4, 10**-2, 10**0, 10**2, 10**4]}]\n",
    "f1_scorer = make_scorer(f1_score, pos_label=\"positive\")\n",
    "model = GridSearchCV(LogisticRegression(), tuned_parameters, scoring = f1_scorer, cv=5 )\n",
    "model.fit(train_tf_idf_w2v, y_train)\n",
    "print(model.best_estimator_)\n",
    "print(\"F1 Score : \",model.score(train_tf_idf_w2v, y_train))"
   ]
  },
  {
   "cell_type": "code",
   "execution_count": 16,
   "metadata": {
    "colab": {
     "base_uri": "https://localhost:8080/",
     "height": 109
    },
    "colab_type": "code",
    "executionInfo": {
     "elapsed": 2168,
     "status": "ok",
     "timestamp": 1534509887628,
     "user": {
      "displayName": "Debasish Padhi",
      "photoUrl": "//lh3.googleusercontent.com/-vcn0hxkFbTw/AAAAAAAAAAI/AAAAAAAAAHM/9ggzi4wqYg0/s50-c-k-no/photo.jpg",
      "userId": "112236557723789007632"
     },
     "user_tz": -330
    },
    "id": "AbX_3a1OnLPt",
    "outputId": "b07e6390-0ea2-496d-e3c9-0ccc04a543d7"
   },
   "outputs": [
    {
     "name": "stdout",
     "output_type": "stream",
     "text": [
      "LogisticRegression(C=96.38755692569153, class_weight=None, dual=False,\n",
      "          fit_intercept=True, intercept_scaling=1, max_iter=100,\n",
      "          multi_class='ovr', n_jobs=1, penalty='l2', random_state=None,\n",
      "          solver='liblinear', tol=0.0001, verbose=0, warm_start=False)\n",
      "F1 Score :  0.9326311829979312\n"
     ]
    }
   ],
   "source": [
    "\"\"\"\n",
    "This code snippet deals with RandomizedSearchCV\n",
    "\"\"\"\n",
    "parameters = { 'C' : uniform(10**-2,10**2)}\n",
    "f1_scorer = make_scorer(f1_score, pos_label=\"positive\")\n",
    "model = RandomizedSearchCV(LogisticRegression(), parameters, scoring = f1_scorer, cv=5 )\n",
    "model.fit(train_tf_idf_w2v, y_train)\n",
    "print(model.best_estimator_)\n",
    "print(\"F1 Score : \",model.score(train_tf_idf_w2v, y_train))"
   ]
  },
  {
   "cell_type": "code",
   "execution_count": 45,
   "metadata": {},
   "outputs": [
    {
     "name": "stdout",
     "output_type": "stream",
     "text": [
      "Sparsity :  50\n",
      "Error : 14.44\n"
     ]
    },
    {
     "data": {
      "text/plain": [
       "Text(0.5,1,'CONFUSION MATRIX')"
      ]
     },
     "execution_count": 45,
     "metadata": {},
     "output_type": "execute_result"
    },
    {
     "data": {
      "image/png": "[encoded data removed]",
      "text/plain": [
       "<matplotlib.figure.Figure at 0x7fa4d1de12e8>"
      ]
     },
     "metadata": {},
     "output_type": "display_data"
    }
   ],
   "source": [
    "\"\"\"\n",
    "In this code snippet finds sparsity and erorr using lamda from GridSearchCV.\n",
    "\"\"\"\n",
    "clf = LogisticRegression(C=0.01, penalty='l2');\n",
    "clf.fit(train_tf_idf_w2v, y_train);\n",
    "w = clf.coef_\n",
    "print(\"Sparsity : \",np.count_nonzero(w))\n",
    "# response prediction\n",
    "pred = clf.predict(test_tf_idf_w2v)\n",
    "# evaluate error\n",
    "acc = accuracy_score(y_test, pred)*100\n",
    "print(\"Error : %.2f\"%(100-acc))\n",
    "conf_matrix = confusion_matrix(y_test, pred)\n",
    "confusion_matrix_df = pd.DataFrame(conf_matrix,\n",
    "                                   [\"Negative\", \"Positive\"],\\\n",
    "                                   [\"Negative\", \"Positive\"],\\\n",
    "                                   dtype=int)\n",
    "sns.heatmap(confusion_matrix_df, annot=True, fmt=\"d\")\n",
    "plt.title(\"CONFUSION MATRIX\")"
   ]
  },
  {
   "cell_type": "code",
   "execution_count": 46,
   "metadata": {},
   "outputs": [
    {
     "name": "stdout",
     "output_type": "stream",
     "text": [
      "Sparsity :  46\n",
      "Error : 14.49\n"
     ]
    },
    {
     "data": {
      "text/plain": [
       "Text(0.5,1,'CONFUSION MATRIX')"
      ]
     },
     "execution_count": 46,
     "metadata": {},
     "output_type": "execute_result"
    },
    {
     "data": {
      "image/png": "[encoded data removed]",
      "text/plain": [
       "<matplotlib.figure.Figure at 0x7fa4a0e0bc50>"
      ]
     },
     "metadata": {},
     "output_type": "display_data"
    }
   ],
   "source": [
    "\"\"\"\n",
    "In this code snippet finds sparsity and erorr using lamda from GridSearchCV.\n",
    "\"\"\"\n",
    "clf = LogisticRegression(C=0.01, penalty='l1');\n",
    "clf.fit(train_tf_idf_w2v, y_train);\n",
    "w = clf.coef_\n",
    "print(\"Sparsity : \",np.count_nonzero(w))\n",
    "# response prediction\n",
    "pred = clf.predict(test_tf_idf_w2v)\n",
    "# evaluate error\n",
    "acc = accuracy_score(y_test, pred)*100\n",
    "print(\"Error : %.2f\"%(100-acc))\n",
    "conf_matrix = confusion_matrix(y_test, pred)\n",
    "confusion_matrix_df = pd.DataFrame(conf_matrix,\n",
    "                                   [\"Negative\", \"Positive\"],\\\n",
    "                                   [\"Negative\", \"Positive\"],\\\n",
    "                                   dtype=int)\n",
    "sns.heatmap(confusion_matrix_df, annot=True, fmt=\"d\")\n",
    "plt.title(\"CONFUSION MATRIX\")"
   ]
  },
  {
   "cell_type": "code",
   "execution_count": 66,
   "metadata": {},
   "outputs": [
    {
     "name": "stdout",
     "output_type": "stream",
     "text": [
      "Sparsity :  50\n",
      "Error : 14.44\n"
     ]
    },
    {
     "data": {
      "text/plain": [
       "Text(0.5,1,'CONFUSION MATRIX')"
      ]
     },
     "execution_count": 66,
     "metadata": {},
     "output_type": "execute_result"
    },
    {
     "data": {
      "image/png": "[encoded data removed]",
      "text/plain": [
       "<matplotlib.figure.Figure at 0x7fa4c06904a8>"
      ]
     },
     "metadata": {},
     "output_type": "display_data"
    }
   ],
   "source": [
    "\"\"\"\n",
    "In this code snippet finds sparsity and erorr using lamda from RandomizedSearchCV.\n",
    "\"\"\"\n",
    "clf = LogisticRegression(C=0.01, penalty='l2');\n",
    "clf.fit(train_tf_idf_w2v, y_train);\n",
    "w = clf.coef_\n",
    "print(\"Sparsity : \",np.count_nonzero(w))\n",
    "# response prediction\n",
    "pred = clf.predict(test_tf_idf_w2v)\n",
    "# evaluate error\n",
    "acc = accuracy_score(y_test, pred)*100\n",
    "print(\"Error : %.2f\"%(100-acc))\n",
    "conf_matrix = confusion_matrix(y_test, pred)\n",
    "confusion_matrix_df = pd.DataFrame(conf_matrix,\n",
    "                                   [\"Negative\", \"Positive\"],\\\n",
    "                                   [\"Negative\", \"Positive\"],\\\n",
    "                                   dtype=int)\n",
    "sns.heatmap(confusion_matrix_df, annot=True, fmt=\"d\")\n",
    "plt.title(\"CONFUSION MATRIX\")"
   ]
  },
  {
   "cell_type": "code",
   "execution_count": 128,
   "metadata": {},
   "outputs": [],
   "source": [
    "\"\"\"Lists to store lambda and error values\"\"\"\n",
    "lambda_list = [0.02,0.002,0.0002]\n",
    "train_error = []\n",
    "test_error = []"
   ]
  },
  {
   "cell_type": "code",
   "execution_count": 129,
   "metadata": {},
   "outputs": [
    {
     "name": "stdout",
     "output_type": "stream",
     "text": [
      "Sparsity :  46\n",
      "Error : 14.50\n"
     ]
    },
    {
     "data": {
      "text/plain": [
       "Text(0.5,1,'CONFUSION MATRIX')"
      ]
     },
     "execution_count": 129,
     "metadata": {},
     "output_type": "execute_result"
    },
    {
     "data": {
      "image/png": "[encoded data removed]",
      "text/plain": [
       "<matplotlib.figure.Figure at 0x7fa49f886a58>"
      ]
     },
     "metadata": {},
     "output_type": "display_data"
    }
   ],
   "source": [
    "\"\"\"\n",
    "In this code snippet finds sparsity and erorr using lamda from RandomizedSearchCV.\n",
    "\"\"\"\n",
    "clf = LogisticRegression(C=0.01, penalty='l1');\n",
    "clf.fit(train_tf_idf_w2v, y_train);\n",
    "w = clf.coef_\n",
    "print(\"Sparsity : \",np.count_nonzero(w))\n",
    "# response prediction\n",
    "pred = clf.predict(test_tf_idf_w2v)\n",
    "# evaluate error\n",
    "acc = accuracy_score(y_test, pred)*100\n",
    "print(\"Error : %.2f\"%(100-acc))\n",
    "test_error.append(100-acc)\n",
    "conf_matrix = confusion_matrix(y_test, pred)\n",
    "confusion_matrix_df = pd.DataFrame(conf_matrix,\n",
    "                                   [\"Negative\", \"Positive\"],\\\n",
    "                                   [\"Negative\", \"Positive\"],\\\n",
    "                                   dtype=int)\n",
    "sns.heatmap(confusion_matrix_df, annot=True, fmt=\"d\")\n",
    "plt.title(\"CONFUSION MATRIX\")"
   ]
  },
  {
   "cell_type": "code",
   "execution_count": 130,
   "metadata": {},
   "outputs": [
    {
     "name": "stdout",
     "output_type": "stream",
     "text": [
      "Error : 12.07\n"
     ]
    },
    {
     "data": {
      "text/plain": [
       "Text(0.5,1,'CONFUSION MATRIX')"
      ]
     },
     "execution_count": 130,
     "metadata": {},
     "output_type": "execute_result"
    },
    {
     "data": {
      "image/png": "[encoded data removed]",
      "text/plain": [
       "<matplotlib.figure.Figure at 0x7fa49963a2b0>"
      ]
     },
     "metadata": {},
     "output_type": "display_data"
    }
   ],
   "source": [
    "\"\"\"\n",
    "In this code snippet finds sparsity and train erorr using lamda value from RandomizedSearchCV.\n",
    "\"\"\"\n",
    "# response prediction\n",
    "pred = clf.predict(train_tf_idf_w2v)\n",
    "# evaluate error\n",
    "acc = accuracy_score(y_train, pred)*100\n",
    "print(\"Error : %.2f\"%(100-acc))\n",
    "train_error.append(100-acc)\n",
    "conf_matrix = confusion_matrix(y_train, pred)\n",
    "confusion_matrix_df = pd.DataFrame(conf_matrix,\n",
    "                                   [\"Negative\", \"Positive\"],\\\n",
    "                                   [\"Negative\", \"Positive\"],\\\n",
    "                                   dtype=int)\n",
    "sns.heatmap(confusion_matrix_df, annot=True, fmt=\"d\")\n",
    "plt.title(\"CONFUSION MATRIX\")"
   ]
  },
  {
   "cell_type": "code",
   "execution_count": 131,
   "metadata": {},
   "outputs": [
    {
     "name": "stdout",
     "output_type": "stream",
     "text": [
      "Sparsity :  23\n",
      "Error : 14.60\n"
     ]
    },
    {
     "data": {
      "text/plain": [
       "Text(0.5,1,'CONFUSION MATRIX')"
      ]
     },
     "execution_count": 131,
     "metadata": {},
     "output_type": "execute_result"
    },
    {
     "data": {
      "image/png": "[encoded data removed]",
      "text/plain": [
       "<matplotlib.figure.Figure at 0x7fa497d37668>"
      ]
     },
     "metadata": {},
     "output_type": "display_data"
    }
   ],
   "source": [
    "\"\"\"\n",
    "In this code snippet finds sparsity and erorr using lamda from RandomizedSearchCV.\n",
    "\"\"\"\n",
    "clf = LogisticRegression(C=0.001, penalty='l1');\n",
    "clf.fit(train_tf_idf_w2v, y_train);\n",
    "w = clf.coef_\n",
    "print(\"Sparsity : \",np.count_nonzero(w))\n",
    "# response prediction\n",
    "pred = clf.predict(test_tf_idf_w2v)\n",
    "# evaluate error\n",
    "acc = accuracy_score(y_test, pred)*100\n",
    "print(\"Error : %.2f\"%(100-acc))\n",
    "test_error.append(100-acc)\n",
    "conf_matrix = confusion_matrix(y_test, pred)\n",
    "confusion_matrix_df = pd.DataFrame(conf_matrix,\n",
    "                                   [\"Negative\", \"Positive\"],\\\n",
    "                                   [\"Negative\", \"Positive\"],\\\n",
    "                                   dtype=int)\n",
    "sns.heatmap(confusion_matrix_df, annot=True, fmt=\"d\")\n",
    "plt.title(\"CONFUSION MATRIX\")"
   ]
  },
  {
   "cell_type": "code",
   "execution_count": 132,
   "metadata": {},
   "outputs": [
    {
     "name": "stdout",
     "output_type": "stream",
     "text": [
      "Error : 13.29\n"
     ]
    },
    {
     "data": {
      "text/plain": [
       "Text(0.5,1,'CONFUSION MATRIX')"
      ]
     },
     "execution_count": 132,
     "metadata": {},
     "output_type": "execute_result"
    },
    {
     "data": {
      "image/png": "[encoded data removed]",
      "text/plain": [
       "<matplotlib.figure.Figure at 0x7fa4c4fd29e8>"
      ]
     },
     "metadata": {},
     "output_type": "display_data"
    }
   ],
   "source": [
    "\"\"\"\n",
    "In this code snippet finds sparsity and train erorr using lamda value from RandomizedSearchCV.\n",
    "\"\"\"\n",
    "# response prediction\n",
    "pred = clf.predict(train_tf_idf_w2v)\n",
    "# evaluate error\n",
    "acc = accuracy_score(y_train, pred)*100\n",
    "print(\"Error : %.2f\"%(100-acc))\n",
    "train_error.append(100-acc)\n",
    "conf_matrix = confusion_matrix(y_train, pred)\n",
    "confusion_matrix_df = pd.DataFrame(conf_matrix,\n",
    "                                   [\"Negative\", \"Positive\"],\\\n",
    "                                   [\"Negative\", \"Positive\"],\\\n",
    "                                   dtype=int)\n",
    "sns.heatmap(confusion_matrix_df, annot=True, fmt=\"d\")\n",
    "plt.title(\"CONFUSION MATRIX\")"
   ]
  },
  {
   "cell_type": "code",
   "execution_count": 133,
   "metadata": {},
   "outputs": [
    {
     "name": "stdout",
     "output_type": "stream",
     "text": [
      "Sparsity :  5\n",
      "Error : 15.40\n"
     ]
    },
    {
     "data": {
      "text/plain": [
       "Text(0.5,1,'CONFUSION MATRIX')"
      ]
     },
     "execution_count": 133,
     "metadata": {},
     "output_type": "execute_result"
    },
    {
     "data": {
      "image/png": "[encoded data removed]",
      "text/plain": [
       "<matplotlib.figure.Figure at 0x7fa4980df9e8>"
      ]
     },
     "metadata": {},
     "output_type": "display_data"
    }
   ],
   "source": [
    "\"\"\"\n",
    "In this code snippet finds sparsity and erorr using lamda from RandomizedSearchCV.\n",
    "\"\"\"\n",
    "clf = LogisticRegression(C=0.0001, penalty='l1');\n",
    "clf.fit(train_tf_idf_w2v, y_train);\n",
    "w = clf.coef_\n",
    "print(\"Sparsity : \",np.count_nonzero(w))\n",
    "# response prediction\n",
    "pred = clf.predict(test_tf_idf_w2v)\n",
    "# evaluate error\n",
    "acc = accuracy_score(y_test, pred)*100\n",
    "print(\"Error : %.2f\"%(100-acc))\n",
    "test_error.append(100-acc)\n",
    "conf_matrix = confusion_matrix(y_test, pred)\n",
    "confusion_matrix_df = pd.DataFrame(conf_matrix,\n",
    "                                   [\"Negative\", \"Positive\"],\\\n",
    "                                   [\"Negative\", \"Positive\"],\\\n",
    "                                   dtype=int)\n",
    "sns.heatmap(confusion_matrix_df, annot=True, fmt=\"d\")\n",
    "plt.title(\"CONFUSION MATRIX\")"
   ]
  },
  {
   "cell_type": "code",
   "execution_count": 134,
   "metadata": {},
   "outputs": [
    {
     "name": "stdout",
     "output_type": "stream",
     "text": [
      "Error : 14.81\n"
     ]
    },
    {
     "data": {
      "text/plain": [
       "Text(0.5,1,'CONFUSION MATRIX')"
      ]
     },
     "execution_count": 134,
     "metadata": {},
     "output_type": "execute_result"
    },
    {
     "data": {
      "image/png": "[encoded data removed]",
      "text/plain": [
       "<matplotlib.figure.Figure at 0x7fa49ec5a400>"
      ]
     },
     "metadata": {},
     "output_type": "display_data"
    }
   ],
   "source": [
    "\"\"\"\n",
    "In this code snippet finds sparsity and train erorr using lamda value from RandomizedSearchCV.\n",
    "\"\"\"\n",
    "# response prediction\n",
    "pred = clf.predict(train_tf_idf_w2v)\n",
    "# evaluate error\n",
    "acc = accuracy_score(y_train, pred)*100\n",
    "print(\"Error : %.2f\"%(100-acc))\n",
    "train_error.append(100-acc)\n",
    "conf_matrix = confusion_matrix(y_train, pred)\n",
    "confusion_matrix_df = pd.DataFrame(conf_matrix,\n",
    "                                   [\"Negative\", \"Positive\"],\\\n",
    "                                   [\"Negative\", \"Positive\"],\\\n",
    "                                   dtype=int)\n",
    "sns.heatmap(confusion_matrix_df, annot=True, fmt=\"d\")\n",
    "plt.title(\"CONFUSION MATRIX\")"
   ]
  },
  {
   "cell_type": "code",
   "execution_count": 135,
   "metadata": {},
   "outputs": [
    {
     "data": {
      "image/png": "[encoded data removed]",
      "text/plain": [
       "<matplotlib.figure.Figure at 0x7fa499d44940>"
      ]
     },
     "metadata": {},
     "output_type": "display_data"
    }
   ],
   "source": [
    "Train_Error, = plt.plot( lambda_list, train_error, marker='o',\\\n",
    "                        markerfacecolor='blue', markersize=12,\\\n",
    "                        color='skyblue', linewidth=4)\n",
    "Test_Error,  = plt.plot( lambda_list, test_error, marker='',\\\n",
    "                        color='olive', linewidth=2)\n",
    "plt.xlabel('Lambda Values')\n",
    "plt.ylabel('Error')\n",
    "plt.title('Train and Test error plot')\n",
    "plt.legend([Train_Error,Test_Error], [\"Train_Error\",\"Test_Error\"])\n",
    "plt.show()"
   ]
  },
  {
   "cell_type": "code",
   "execution_count": 70,
   "metadata": {
    "colab": {},
    "colab_type": "code",
    "id": "SvglMH1EnLP1"
   },
   "outputs": [
    {
     "name": "stdout",
     "output_type": "stream",
     "text": [
      "Weight vector before perturbation : 0.08694 -0.38302 0.22105 0.24121 -0.11721 0.17038 -0.42431 0.65010 -0.20882 0.33386 -0.25133 -0.30001 0.19975 -0.16763 0.48161 -0.05545 -0.40127 0.23059 0.42992 0.12824 \n",
      "\n",
      "Weight vector after perturbation : 0.08488 -0.38228 0.22008 0.23916 -0.11353 0.17034 -0.42079 0.64864 -0.21079 0.33565 -0.25262 -0.29638 0.20379 -0.16737 0.47199 -0.05404 -0.39701 0.22953 0.42577 0.13604 "
     ]
    }
   ],
   "source": [
    "\"\"\"\n",
    "This code snippet shows effect of colinearity of on weight vectors\n",
    "\"\"\"\n",
    "x = copy.deepcopy(train_tf_idf_w2v)\n",
    "\n",
    "clf = LogisticRegression(C=0.01, penalty='l1');\n",
    "clf.fit(train_tf_idf_w2v, y_train);\n",
    "w = clf.coef_\n",
    "a = np.transpose(np.nonzero(w))\n",
    "print(\"Weight vector before perturbation :\", end=\" \")\n",
    "for i,j in a[:20]:\n",
    "    print(\"%.5f\"%w[i,j], end=\" \")\n",
    "    \n",
    "print(\"\\n\")\n",
    "\n",
    "# perturbation technique start\n",
    "epsilon = np.random.normal(loc=0.0, scale=0.01)\n",
    "a = np.transpose(np.nonzero(x))\n",
    "for i,j in a:\n",
    "    x[i,j] += epsilon\n",
    "# perturbation technique end\n",
    "\n",
    "clf = LogisticRegression(C=0.01, penalty='l1');\n",
    "clf.fit(x, y_train);\n",
    "w = clf.coef_\n",
    "a = np.transpose(np.nonzero(w))\n",
    "print(\"Weight vector after perturbation :\", end=\" \")\n",
    "for i,j in a[:20]:\n",
    "    print(\"%.5f\"%w[i,j], end=\" \")\n",
    "\n",
    "# deleting the variable to free RAM\n",
    "del x"
   ]
  },
  {
   "cell_type": "code",
   "execution_count": 69,
   "metadata": {},
   "outputs": [
    {
     "name": "stdout",
     "output_type": "stream",
     "text": [
      "FeatureIndex  FeatureWeight\n",
      "\n",
      "(26, 0.8190866591633971)\n",
      "(8, 0.6500719981139358)\n",
      "(43, 0.49860403477019305)\n",
      "(37, 0.4951671255900718)\n",
      "(15, 0.48158254020543895)\n",
      "(19, 0.4298810359667908)\n",
      "(31, 0.3793480537526893)\n",
      "(29, 0.3401697634786569)\n",
      "(34, 0.34003910873861687)\n",
      "(10, 0.33380820007262607)\n"
     ]
    }
   ],
   "source": [
    "\"\"\"\n",
    "This code snippet prints top 10 important features along with there index no\n",
    "\"\"\"\n",
    "clf = LogisticRegression(C=0.01, penalty='l1');\n",
    "clf.fit(train_tf_idf_w2v, y_train);\n",
    "w = clf.coef_\n",
    "a = [i for i in sorted(enumerate(w[0]),key=lambda pair: pair[1], reverse = True) if i[1] != 0.0]\n",
    "print(\"FeatureIndex  FeatureWeight\\n\")\n",
    "print(*a[:10],sep = '\\n')"
   ]
  },
  {
   "cell_type": "markdown",
   "metadata": {
    "colab_type": "text",
    "id": "tAD9SAx5nLP5"
   },
   "source": [
    "#### Observation:\n",
    "* Here we have applied TF IDF word2vec to convert text to vector.\n",
    "* We got hyperparameter(lambda) from GridSearchCV is 100 and from RandomizedSearchCV is 96.38.\n",
    "* I got best result from a model where C = 0.01, sparsity = 46 and the minimum error 14.50.\n",
    "* In above models as we are reducing dimensions, so, weight vector and colinearity are not much helpful."
   ]
  },
  {
   "cell_type": "code",
   "execution_count": null,
   "metadata": {},
   "outputs": [],
   "source": [
    "\"\"\"\n",
    "This code snippet prepares a table that contains\n",
    "end results of diffrent models that we have used.\n",
    "\"\"\"\n",
    "table = PrettyTable()\n",
    "table.field_names = ['Model','Best C','Regularizer','Lowest Error','Sparsity']\n",
    "table.add_row(['BOW',0.02,'L1',8.31,6351])\n",
    "table.add_row(['TF IDF',0.016,'L1',8.21,32487])\n",
    "table.add_row(['AVG word2vec',0.001,'L2',13.48,50])\n",
    "table.add_row(['TF IDF word2vec',0.01,'L1',14.50,46])"
   ]
  },
  {
   "cell_type": "markdown",
   "metadata": {
    "colab_type": "text",
    "id": "zGeSaisenLP7"
   },
   "source": [
    "## Conclusion :\n",
    "1. From the above analysis with 100k sample of data I got that TF IDF is the best with less error 8.21% .\n",
    "2. Colinearity is not affecting much to the features.\n",
    "3. By applying TF_IDF vectorizer, we got a very less error and higher accuracy from Logistic Regression.\n",
    "4. Until now Logistic Regression is the best classification technique that I have learned.\n",
    "5. LR is labeling positive and negative points quite impressively with such a little and imbalanced dataset."
   ]
  },
  {
   "cell_type": "code",
   "execution_count": 3,
   "metadata": {},
   "outputs": [
    {
     "name": "stdout",
     "output_type": "stream",
     "text": [
      "+-----------------+--------+-------------+--------------+----------+\n",
      "|      Model      | Best C | Regularizer | Lowest Error | Sparsity |\n",
      "+-----------------+--------+-------------+--------------+----------+\n",
      "|       BOW       |  0.02  |      L1     |     8.31     |   6351   |\n",
      "|      TF IDF     | 0.016  |      L1     |     8.21     |  32487   |\n",
      "|   AVG word2vec  | 0.001  |      L2     |    13.48     |    50    |\n",
      "| TF IDF word2vec |  0.01  |      L1     |     14.5     |    46    |\n",
      "+-----------------+--------+-------------+--------------+----------+\n"
     ]
    }
   ],
   "source": [
    "print(table)"
   ]
  }
 ],
 "metadata": {
  "colab": {
   "collapsed_sections": [
    "zEuHpPX1nLMt",
    "f4gMllucnLN7",
    "pyYYeJHRnLPD",
    "tAD9SAx5nLP5",
    "mf6wLLOMnLP7"
   ],
   "name": "Logistic Regression.ipynb",
   "provenance": [],
   "version": "0.3.2"
  },
  "kernelspec": {
   "display_name": "Python 3",
   "language": "python",
   "name": "python3"
  },
  "language_info": {
   "codemirror_mode": {
    "name": "ipython",
    "version": 3
   },
   "file_extension": ".py",
   "mimetype": "text/x-python",
   "name": "python",
   "nbconvert_exporter": "python",
   "pygments_lexer": "ipython3",
   "version": "3.6.4"
  }
 },
 "nbformat": 4,
 "nbformat_minor": 1
}

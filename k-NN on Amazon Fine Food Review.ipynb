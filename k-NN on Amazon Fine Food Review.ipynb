{
 "cells": [
  {
   "cell_type": "markdown",
   "metadata": {
    "_uuid": "60f7cc6493e6a118c63d7172d7374fd52fcc1bed"
   },
   "source": [
    "# Objective : \n",
    "Find the best the model with hghest accuracy for k-NN."
   ]
  },
  {
   "cell_type": "markdown",
   "metadata": {},
   "source": [
    "## Workflow:\n",
    "1. Sort data based on time.\n",
    "2. Convert reviews of \"Amazon Fine Food Review\" dataset into vectors using :-\n",
    "    * Bag of words.\n",
    "    * TF-IDF\n",
    "    * Average Word2vec\n",
    "    * TF-IDF Word2ves\n",
    "3. Split data into train and test.\n",
    "4. Find best hyperparameter by k-fold cross validation.\n",
    "5. Apply k-NN model on the train data.\n",
    "6. Find accuracy of the model.\n",
    "7. Print confusion matrix and plot error plots for every model. "
   ]
  },
  {
   "cell_type": "code",
   "execution_count": 1,
   "metadata": {
    "_uuid": "096c71cde4044ebb254b1ea72e9d984b00690516"
   },
   "outputs": [
    {
     "name": "stderr",
     "output_type": "stream",
     "text": [
      "/home/dev/anaconda3/lib/python3.6/site-packages/sklearn/cross_validation.py:41: DeprecationWarning: This module was deprecated in version 0.18 in favor of the model_selection module into which all the refactored classes and functions are moved. Also note that the interface of the new CV iterators are different from that of this module. This module will be removed in 0.20.\n",
      "  \"This module will be removed in 0.20.\", DeprecationWarning)\n"
     ]
    }
   ],
   "source": [
    "%matplotlib inline\n",
    "\n",
    "import sqlite3\n",
    "import pandas as pd\n",
    "import numpy as np\n",
    "import nltk\n",
    "import matplotlib.pyplot as plt\n",
    "import seaborn as sns\n",
    "from sklearn.feature_extraction.text import TfidfTransformer\n",
    "from sklearn.feature_extraction.text import TfidfVectorizer\n",
    "import re, gensim\n",
    "import string\n",
    "from nltk.corpus import stopwords\n",
    "from nltk.stem.wordnet import WordNetLemmatizer\n",
    "from sklearn.feature_extraction.text import CountVectorizer\n",
    "from sklearn.manifold import TSNE\n",
    "from sklearn.preprocessing import StandardScaler\n",
    "from sklearn.decomposition import TruncatedSVD\n",
    "from sklearn.cross_validation import train_test_split\n",
    "from sklearn.neighbors import KNeighborsClassifier\n",
    "from sklearn.metrics import accuracy_score\n",
    "from sklearn.cross_validation import cross_val_score\n",
    "from collections import Counter\n",
    "from sklearn.metrics import accuracy_score\n",
    "from sklearn import cross_validation\n",
    "from sklearn.metrics import confusion_matrix"
   ]
  },
  {
   "cell_type": "markdown",
   "metadata": {
    "_uuid": "08398bd5ff12ab024f3c8216167b7bd042df81b9"
   },
   "source": [
    "## Importing data"
   ]
  },
  {
   "cell_type": "code",
   "execution_count": 2,
   "metadata": {
    "_uuid": "7d8b6597c15c50a0b2315378e025569958c9c338"
   },
   "outputs": [],
   "source": [
    "\"\"\"\n",
    "Reading data from .sqlite file,\n",
    "choosing only positive and negative reviews not neutral reviews.\n",
    "\"\"\"\n",
    "# using the SQLite Table to read data.\n",
    "con = sqlite3.connect('database.sqlite') \n",
    "\n",
    "#filtering only positive and negative reviews i.e. \n",
    "# not taking into consideration those reviews with Score=3\n",
    "filtered_data = pd.read_sql_query(\"SELECT * FROM Reviews WHERE Score != 3\", con) \n",
    "\n",
    "# Give reviews with Score>3 a positive rating, and reviews with a score<3 a negative rating.\n",
    "def partition(x):\n",
    "    if x < 3:\n",
    "        return 'negative'\n",
    "    return 'positive'\n",
    "\n",
    "#changing reviews with score less than 3 to be positive and vice-versa\n",
    "actualScore = filtered_data['Score']\n",
    "positiveNegative = actualScore.map(partition) \n",
    "filtered_data['Score'] = positiveNegative\n"
   ]
  },
  {
   "cell_type": "markdown",
   "metadata": {
    "_uuid": "20006cd295b6df614e069aa89eabb048ba14e11f"
   },
   "source": [
    "## Cleansing data"
   ]
  },
  {
   "cell_type": "code",
   "execution_count": 3,
   "metadata": {
    "_uuid": "42e9ac6e5a90d9f7facf1f85be2a33880b20f94a"
   },
   "outputs": [
    {
     "data": {
      "text/plain": [
       "(364171, 10)"
      ]
     },
     "execution_count": 3,
     "metadata": {},
     "output_type": "execute_result"
    }
   ],
   "source": [
    "\"\"\"\n",
    "Below code snippet removes duplicate data from dataset that are repeatedly mentioned.\n",
    "\"\"\"\n",
    "#Sorting data according to ProductId in ascending order\n",
    "sorted_data=filtered_data.sort_values('ProductId', axis=0, ascending=True,\\\n",
    "                                      inplace=False, kind='quicksort',\\\n",
    "                                      na_position='last')\n",
    "#Deduplication of entries\n",
    "final=sorted_data.drop_duplicates(subset={\"UserId\",\"ProfileName\",\"Time\",\"Text\"},\\\n",
    "                                  keep='first', inplace=False)\n",
    "final=final[final.HelpfulnessNumerator<=final.HelpfulnessDenominator]\n",
    "final.shape"
   ]
  },
  {
   "cell_type": "code",
   "execution_count": 4,
   "metadata": {
    "_uuid": "898b3abad347377fdfb0381617cbdc90a56b329b"
   },
   "outputs": [
    {
     "data": {
      "text/plain": [
       "(30000, 10)"
      ]
     },
     "execution_count": 4,
     "metadata": {},
     "output_type": "execute_result"
    }
   ],
   "source": [
    "\"\"\"\n",
    "Sorting data on the basis of TIME\n",
    "\"\"\"\n",
    "final = final[:30000]\n",
    "final = final.sort_values(by=['Time'], axis=0)\n",
    "final.shape"
   ]
  },
  {
   "cell_type": "markdown",
   "metadata": {
    "_uuid": "c1d28b0a02c9d94b56b778e8f4c0249fd428888a"
   },
   "source": [
    "## Text preprocessing"
   ]
  },
  {
   "cell_type": "code",
   "execution_count": 5,
   "metadata": {
    "_uuid": "1dab50674a290670c38924853c9e8456bb9b7868"
   },
   "outputs": [],
   "source": [
    "\"\"\"\n",
    "This code snippet does text preprocessing\n",
    "\"\"\"\n",
    "def cleanhtml(sentence): #function to clean the word of any html-tags\n",
    "    cleanr = re.compile('<.*?>')\n",
    "    cleantext = re.sub(cleanr, ' ', sentence)\n",
    "    return cleantext\n",
    "def cleanpunc(sentence): #function to clean the word of any punctuation or special characters\n",
    "    cleaned = re.sub(r'[?|!|\\'|\"|#]',r'',sentence)\n",
    "    cleaned = re.sub(r'[.|,|)|(|\\|/]',r' ',cleaned)\n",
    "    return  cleaned\n",
    "stop = set(stopwords.words('english')) #set of stopwords\n",
    "sno = nltk.stem.SnowballStemmer('english') #initialising the snowball stemmer\n",
    "final_text = []\n",
    "for index in range(len(final['Text'])):\n",
    "    filtered_sentence=[]\n",
    "    sent=cleanhtml(final['Text'].iloc[index]) # remove HTMl tags\n",
    "    for w in sent.split():\n",
    "        for cleaned_words in cleanpunc(w).split():# clean punctuation marks from words\n",
    "            if((cleaned_words.isalpha()) & (len(cleaned_words)>2)):# verifying word must be a alphabet and atleat two character long\n",
    "                cleaned_words = cleaned_words.lower()\n",
    "                if(cleaned_words not in stop):# blocks stopwords\n",
    "                    s=(sno.stem(cleaned_words))# stemming in process\n",
    "                    filtered_sentence.append(s)\n",
    "                else:\n",
    "                    continue\n",
    "            else:\n",
    "                continue \n",
    "    str1 = \" \".join(filtered_sentence) #final cleaned string of words\n",
    "    final_text.append(str1)"
   ]
  },
  {
   "cell_type": "code",
   "execution_count": 6,
   "metadata": {
    "_uuid": "4b59d23177a6bb83fb3eb5bfeb43b22c165a746a"
   },
   "outputs": [
    {
     "name": "stdout",
     "output_type": "stream",
     "text": [
      "(30000,)\n",
      "(30000,)\n"
     ]
    }
   ],
   "source": [
    "amazon_data_text = pd.Series(final_text)\n",
    "amazon_data_label = pd.Series(final['Score'])\n",
    "print(amazon_data_text.shape)\n",
    "print(amazon_data_label.shape)"
   ]
  },
  {
   "cell_type": "code",
   "execution_count": 7,
   "metadata": {},
   "outputs": [],
   "source": [
    "\"\"\"\n",
    "Spliting sample data into train_data and test_data (75:25)\n",
    "\"\"\"\n",
    "x_train, x_test, y_train, y_test = cross_validation.train_test_split(\\\n",
    "                                                                     amazon_data_text,\\\n",
    "                                                                     amazon_data_label,\\\n",
    "                                                                     test_size = 0.25,\\\n",
    "                                                                     random_state=0)"
   ]
  },
  {
   "cell_type": "code",
   "execution_count": 8,
   "metadata": {},
   "outputs": [
    {
     "name": "stdout",
     "output_type": "stream",
     "text": [
      "positive    6355\n",
      "negative    1145\n",
      "Name: Score, dtype: int64\n"
     ]
    }
   ],
   "source": [
    "print(y_test.value_counts())"
   ]
  },
  {
   "cell_type": "markdown",
   "metadata": {
    "_uuid": "b84b1ef9aeae8e94378e01fc576a049c599e5f43"
   },
   "source": [
    "### Bag of words."
   ]
  },
  {
   "cell_type": "code",
   "execution_count": 9,
   "metadata": {
    "_uuid": "8b045c6588c99af0333f0dd8f917815dc2f90dbb"
   },
   "outputs": [
    {
     "data": {
      "text/plain": [
       "(22500, 20439)"
      ]
     },
     "execution_count": 9,
     "metadata": {},
     "output_type": "execute_result"
    }
   ],
   "source": [
    "\"\"\"\n",
    "This code snippet converts train data from text to vectors by BOW.\n",
    "\"\"\"\n",
    "count_vect = CountVectorizer(analyzer='word') #in scikit-learn\n",
    "bow_text_train_vector = count_vect.fit_transform(x_train)\n",
    "bow_text_train_vector = bow_text_train_vector\n",
    "bow_text_train_vector.shape"
   ]
  },
  {
   "cell_type": "code",
   "execution_count": 10,
   "metadata": {
    "_uuid": "c80f024adaab994847cf39b380df81f3d5508577"
   },
   "outputs": [
    {
     "name": "stdout",
     "output_type": "stream",
     "text": [
      "(7500, 20439)\n"
     ]
    }
   ],
   "source": [
    "\"\"\"\n",
    "This code snippet converts test data from text to vectors by BOW.\n",
    "\"\"\"\n",
    "bow_text_test_vector = count_vect.transform(x_test)\n",
    "bow_text_test_vector = bow_text_test_vector\n",
    "print(bow_text_test_vector.shape)"
   ]
  },
  {
   "cell_type": "code",
   "execution_count": 11,
   "metadata": {
    "_uuid": "4f2e959194a9bda490ef66ef1679da6a82f2a348"
   },
   "outputs": [
    {
     "name": "stdout",
     "output_type": "stream",
     "text": [
      "\n",
      "The optimal number of neighbors is 8.\n"
     ]
    },
    {
     "data": {
      "image/png": "[encoded data removed]",
      "text/plain": [
       "<matplotlib.figure.Figure at 0x7fd6110ba6d8>"
      ]
     },
     "metadata": {},
     "output_type": "display_data"
    },
    {
     "name": "stdout",
     "output_type": "stream",
     "text": [
      "the misclassification error for each k value is :  [0.152 0.157 0.148 0.148 0.147 0.147 0.147 0.147 0.148 0.148 0.148 0.148]\n"
     ]
    }
   ],
   "source": [
    "# empty list that will hold cv scores\n",
    "cv_scores = []\n",
    "k_values = list(range(3,15))\n",
    "# perform 10-fold cross validation\n",
    "for k in k_values:\n",
    "    knn = KNeighborsClassifier(n_neighbors=k)\n",
    "    scores = cross_val_score(knn, bow_text_train_vector, y_train, cv=10, scoring='accuracy')\n",
    "    cv_scores.append(scores.mean())\n",
    "# changing to misclassification error\n",
    "MSE = [1 - x for x in cv_scores]\n",
    "\n",
    "# determining best k\n",
    "bow_optimal_k = k_values[MSE.index(min(MSE))]\n",
    "print('\\nThe optimal number of neighbors is %d.' % bow_optimal_k)\n",
    "\n",
    "# plot misclassification error vs k \n",
    "plt.plot(k_values, MSE)\n",
    "\n",
    "for xy in zip(k_values, np.round(MSE,3)):\n",
    "    plt.annotate('(%s, %s)' % xy, xy=xy, textcoords='data')\n",
    "\n",
    "plt.xlabel('Number of Neighbors K')\n",
    "plt.ylabel('Misclassification Error')\n",
    "plt.show()\n",
    "\n",
    "print(\"the misclassification error for each k value is : \", np.round(MSE,3))"
   ]
  },
  {
   "cell_type": "code",
   "execution_count": 12,
   "metadata": {
    "_uuid": "451b0dd4b306ee2d57922137bf16c9fb35efc9c5"
   },
   "outputs": [
    {
     "name": "stdout",
     "output_type": "stream",
     "text": [
      "\n",
      "The accuracy of the knn classifier for k = 8 is 85.066667%\n"
     ]
    },
    {
     "data": {
      "text/plain": [
       "Text(0.5,1,'CONFUSION MATRIX')"
      ]
     },
     "execution_count": 12,
     "metadata": {},
     "output_type": "execute_result"
    },
    {
     "data": {
      "image/png": "[encoded data removed]",
      "text/plain": [
       "<matplotlib.figure.Figure at 0x7fd5ecb2c7f0>"
      ]
     },
     "metadata": {},
     "output_type": "display_data"
    }
   ],
   "source": [
    "\"\"\"\n",
    "This code snippet apply k-NN(brute force)\n",
    "\"\"\"\n",
    "# Instantiate learning model\n",
    "knn_brute = KNeighborsClassifier(n_neighbors= bow_optimal_k, algorithm = 'brute')\n",
    "# fitting the model\n",
    "knn_brute.fit(bow_text_train_vector, y_train)\n",
    "# response prediction\n",
    "pred = knn_brute.predict(bow_text_test_vector)\n",
    "# evaluate accuracy\n",
    "acc = accuracy_score(y_test, pred)*100\n",
    "print('\\nThe accuracy of the knn classifier for k = %d is %f%%' % (bow_optimal_k, acc))\n",
    "conf_matrix = confusion_matrix(y_test, pred)\n",
    "confusion_matrix_df = pd.DataFrame(conf_matrix, [\"Negative\", \"Positive\"],\\\n",
    "                                   [\"Negative\", \"Positive\"],\\\n",
    "                                   dtype=int)\n",
    "sns.heatmap(confusion_matrix_df, annot=True)\n",
    "plt.title(\"CONFUSION MATRIX\")"
   ]
  },
  {
   "cell_type": "code",
   "execution_count": 13,
   "metadata": {
    "_uuid": "c12701c522d897b8d439b70d83329538f7a7c622"
   },
   "outputs": [
    {
     "name": "stderr",
     "output_type": "stream",
     "text": [
      "/home/dev/anaconda3/lib/python3.6/site-packages/sklearn/neighbors/base.py:212: UserWarning: cannot use tree with sparse input: using brute force\n",
      "  warnings.warn(\"cannot use tree with sparse input: \"\n"
     ]
    },
    {
     "name": "stdout",
     "output_type": "stream",
     "text": [
      "\n",
      "The accuracy of the knn classifier for k = 8 is 85.066667%\n"
     ]
    },
    {
     "data": {
      "text/plain": [
       "Text(0.5,1,'CONFUSION MATRIX')"
      ]
     },
     "execution_count": 13,
     "metadata": {},
     "output_type": "execute_result"
    },
    {
     "data": {
      "image/png": "[encoded data removed]",
      "text/plain": [
       "<matplotlib.figure.Figure at 0x7fd5f6d87b38>"
      ]
     },
     "metadata": {},
     "output_type": "display_data"
    }
   ],
   "source": [
    "\"\"\"\n",
    "This code snippet apply k-NN(kd tree)\n",
    "\"\"\"\n",
    "# Instantiate learning model\n",
    "knn_brute = KNeighborsClassifier(n_neighbors= bow_optimal_k, algorithm = 'kd_tree')\n",
    "# fitting the model\n",
    "knn_brute.fit(bow_text_train_vector, y_train)\n",
    "# response prediction\n",
    "pred = knn_brute.predict(bow_text_test_vector)\n",
    "# evaluate accuracy\n",
    "acc = accuracy_score(y_test, pred)*100\n",
    "print('\\nThe accuracy of the knn classifier for k = %d is %f%%' % (bow_optimal_k, acc))\n",
    "conf_matrix = confusion_matrix(y_test, pred)\n",
    "confusion_matrix_df = pd.DataFrame(conf_matrix, [\"Negative\", \"Positive\"],\\\n",
    "                                   [\"Negative\", \"Positive\"],\\\n",
    "                                   dtype=int)\n",
    "sns.heatmap(confusion_matrix_df, annot=True)\n",
    "plt.title(\"CONFUSION MATRIX\")"
   ]
  },
  {
   "cell_type": "markdown",
   "metadata": {
    "_uuid": "952db0173ea73a668dada602f394867fb0df3279"
   },
   "source": [
    "#### Observation :\n",
    "* Here we have applied Bag of words to convert text to vector.\n",
    "* We got best hyperparameter for the k-NN model is 8.\n",
    "* By applying above hyperparameter in k-NN we got accuracy of 85.066667%."
   ]
  },
  {
   "cell_type": "markdown",
   "metadata": {
    "_uuid": "e7fd4b935ca3739e3c88a6fb4c2bbbfa42f747bb"
   },
   "source": [
    "### TF IDF."
   ]
  },
  {
   "cell_type": "code",
   "execution_count": 14,
   "metadata": {
    "_uuid": "e5f76213d7480285ffacb84bfcb77600279809b0"
   },
   "outputs": [
    {
     "data": {
      "text/plain": [
       "(22500, 453052)"
      ]
     },
     "execution_count": 14,
     "metadata": {},
     "output_type": "execute_result"
    }
   ],
   "source": [
    "\"\"\"\n",
    "This code snippet converts train data from text to vectors by TF_IDF.\n",
    "\"\"\"\n",
    "tf_idf_vect = TfidfVectorizer(ngram_range=(1,2))\n",
    "final_tf_idf_train = tf_idf_vect.fit_transform(x_train)\n",
    "final_tf_idf_train.shape"
   ]
  },
  {
   "cell_type": "code",
   "execution_count": 15,
   "metadata": {
    "_uuid": "24e971b9db2ddcf33437c6abfc5272dd5b748eec"
   },
   "outputs": [
    {
     "data": {
      "text/plain": [
       "(7500, 453052)"
      ]
     },
     "execution_count": 15,
     "metadata": {},
     "output_type": "execute_result"
    }
   ],
   "source": [
    "\"\"\"\n",
    "This code snippet converts test data from text to vectors by TF_IDF.\n",
    "\"\"\"\n",
    "final_tf_idf_test = tf_idf_vect.transform(x_test)\n",
    "final_tf_idf_test.shape"
   ]
  },
  {
   "cell_type": "code",
   "execution_count": 16,
   "metadata": {
    "_uuid": "73b4ac82159c569f7e028fdcbfedf39b30a23989"
   },
   "outputs": [
    {
     "name": "stdout",
     "output_type": "stream",
     "text": [
      "\n",
      "The optimal number of neighbors is 10.\n"
     ]
    },
    {
     "data": {
      "image/png": "[encoded data removed]",
      "text/plain": [
       "<matplotlib.figure.Figure at 0x7fd5ecb2c908>"
      ]
     },
     "metadata": {},
     "output_type": "display_data"
    },
    {
     "name": "stdout",
     "output_type": "stream",
     "text": [
      "the misclassification error for each k value is :  [0.147 0.157 0.14  0.141 0.135 0.136 0.137 0.134 0.137 0.135 0.138 0.136]\n"
     ]
    }
   ],
   "source": [
    "# empty list that will hold cv scores\n",
    "cv_scores = []\n",
    "k_values = list(range(3,15))\n",
    "# perform 10-fold cross validation\n",
    "for k in k_values:\n",
    "    knn = KNeighborsClassifier(n_neighbors=k)\n",
    "    scores = cross_val_score(knn, final_tf_idf_train, y_train, cv=10, scoring='accuracy')\n",
    "    cv_scores.append(scores.mean())\n",
    "# changing to misclassification error\n",
    "MSE = [1 - x for x in cv_scores]\n",
    "\n",
    "# determining best k\n",
    "tf_idf_optimal_k = k_values[MSE.index(min(MSE))]\n",
    "print('\\nThe optimal number of neighbors is %d.' % tf_idf_optimal_k)\n",
    "\n",
    "# plot misclassification error vs k \n",
    "plt.plot(k_values, MSE)\n",
    "\n",
    "for xy in zip(k_values, np.round(MSE,3)):\n",
    "    plt.annotate('(%s, %s)' % xy, xy=xy, textcoords='data')\n",
    "\n",
    "plt.xlabel('Number of Neighbors K')\n",
    "plt.ylabel('Misclassification Error')\n",
    "plt.show()\n",
    "print(\"the misclassification error for each k value is : \", np.round(MSE,3))"
   ]
  },
  {
   "cell_type": "code",
   "execution_count": 17,
   "metadata": {
    "_uuid": "1b0a616ffff2323c4a3aeb5d743e6aac4aebde19"
   },
   "outputs": [
    {
     "name": "stdout",
     "output_type": "stream",
     "text": [
      "\n",
      "The accuracy of the knn classifier for k = 10 is 86.240000%\n"
     ]
    },
    {
     "data": {
      "text/plain": [
       "Text(0.5,1,'CONFUSION MATRIX')"
      ]
     },
     "execution_count": 17,
     "metadata": {},
     "output_type": "execute_result"
    },
    {
     "data": {
      "image/png": "[encoded data removed]",
      "text/plain": [
       "<matplotlib.figure.Figure at 0x7fd5fa8bd5c0>"
      ]
     },
     "metadata": {},
     "output_type": "display_data"
    }
   ],
   "source": [
    "\"\"\"\n",
    "This code snippet apply k-NN(brute force)\n",
    "\"\"\"\n",
    "# Instantiate learning model\n",
    "knn_brute = KNeighborsClassifier(n_neighbors= tf_idf_optimal_k, algorithm = 'brute')\n",
    "# fitting the model\n",
    "knn_brute.fit(final_tf_idf_train, y_train)\n",
    "# response prediction\n",
    "pred = knn_brute.predict(final_tf_idf_test)\n",
    "# evaluate accuracy\n",
    "acc = accuracy_score(y_test, pred)*100\n",
    "print('\\nThe accuracy of the knn classifier for k = %d is %f%%' % (tf_idf_optimal_k, acc))\n",
    "conf_matrix = confusion_matrix(y_test, pred)\n",
    "confusion_matrix_df = pd.DataFrame(conf_matrix,\\\n",
    "                                   [\"Negative\", \"Positive\"],\\\n",
    "                                   [\"Negative\", \"Positive\"],\\\n",
    "                                   dtype=int)\n",
    "sns.heatmap(confusion_matrix_df, annot=True)\n",
    "plt.title(\"CONFUSION MATRIX\")"
   ]
  },
  {
   "cell_type": "code",
   "execution_count": 18,
   "metadata": {
    "_uuid": "76cfc486d2795999c49e99c509e1e9d854d6cd3e"
   },
   "outputs": [
    {
     "name": "stderr",
     "output_type": "stream",
     "text": [
      "/home/dev/anaconda3/lib/python3.6/site-packages/sklearn/neighbors/base.py:212: UserWarning: cannot use tree with sparse input: using brute force\n",
      "  warnings.warn(\"cannot use tree with sparse input: \"\n"
     ]
    },
    {
     "name": "stdout",
     "output_type": "stream",
     "text": [
      "\n",
      "The accuracy of the knn classifier for k = 10 is 86.240000%\n"
     ]
    },
    {
     "data": {
      "text/plain": [
       "Text(0.5,1,'CONFUSION MATRIX')"
      ]
     },
     "execution_count": 18,
     "metadata": {},
     "output_type": "execute_result"
    },
    {
     "data": {
      "image/png": "[encoded data removed]",
      "text/plain": [
       "<matplotlib.figure.Figure at 0x7fd5f3f41438>"
      ]
     },
     "metadata": {},
     "output_type": "display_data"
    }
   ],
   "source": [
    "\"\"\"\n",
    "This code snippet apply k-NN(kd tree)\n",
    "\"\"\"\n",
    "# Instantiate learning model\n",
    "kd_tree = KNeighborsClassifier(n_neighbors= tf_idf_optimal_k, algorithm = 'kd_tree')\n",
    "# fitting the model\n",
    "kd_tree.fit(final_tf_idf_train, y_train)\n",
    "# response prediction\n",
    "pred = kd_tree.predict(final_tf_idf_test)\n",
    "# evaluate accuracy\n",
    "acc = accuracy_score(y_test, pred)*100\n",
    "print('\\nThe accuracy of the knn classifier for k = %d is %f%%' % (tf_idf_optimal_k, acc))\n",
    "conf_matrix = confusion_matrix(y_test, pred)\n",
    "confusion_matrix_df = pd.DataFrame(conf_matrix,\\\n",
    "                                   [\"Negative\", \"Positive\"],\\\n",
    "                                   [\"Negative\", \"Positive\"],\\\n",
    "                                   dtype=int)\n",
    "sns.heatmap(confusion_matrix_df, annot=True)\n",
    "plt.title(\"CONFUSION MATRIX\")"
   ]
  },
  {
   "cell_type": "markdown",
   "metadata": {
    "_uuid": "cb05b1a1cb41e81da79704d99f7b50c4ae7cbf18"
   },
   "source": [
    "#### Observation:\n",
    "* Here we have applied TF IDF to convert text to vector.\n",
    "* We got best hyperparameter for the k-NN model is 8.\n",
    "* By applying above hyperparameter in k-NN we got accuracy of 86.240000%."
   ]
  },
  {
   "cell_type": "markdown",
   "metadata": {
    "_uuid": "414b8886862e889c1a57f8373fc08126787e8005"
   },
   "source": [
    "## 3) Word2Vec"
   ]
  },
  {
   "cell_type": "code",
   "execution_count": 19,
   "metadata": {
    "_uuid": "11ac00f5332a459660a9be7030e05e8f986403e0"
   },
   "outputs": [],
   "source": [
    "\"\"\"\n",
    "Creating own vocabulary of words from reviews.\n",
    "\"\"\"\n",
    "i=0\n",
    "list_of_train_sent=[]\n",
    "for sent in x_train:\n",
    "    filtered_sentence=[]\n",
    "    sent=cleanhtml(sent)\n",
    "    for w in sent.split():\n",
    "        for cleaned_words in cleanpunc(w).split():\n",
    "            if(cleaned_words.isalpha()):    \n",
    "                filtered_sentence.append(cleaned_words.lower())\n",
    "            else:\n",
    "                continue \n",
    "    list_of_train_sent.append(filtered_sentence)\n",
    "w2v_train_model=gensim.models.Word2Vec(list_of_train_sent,min_count=5,size=50, workers=4)\n",
    "i=0\n",
    "list_of_test_sent=[]\n",
    "for sent in x_test:\n",
    "    filtered_sentence=[]\n",
    "    sent=cleanhtml(sent)\n",
    "    for w in sent.split():\n",
    "        for cleaned_words in cleanpunc(w).split():\n",
    "            if(cleaned_words.isalpha()):    \n",
    "                filtered_sentence.append(cleaned_words.lower())\n",
    "            else:\n",
    "                continue \n",
    "    list_of_test_sent.append(filtered_sentence)\n",
    "w2v_test_model=gensim.models.Word2Vec(list_of_test_sent,min_count=5,size=50, workers=4) "
   ]
  },
  {
   "cell_type": "markdown",
   "metadata": {
    "_uuid": "f783f0f6600b2c965024d69213427b6089e3652b"
   },
   "source": [
    "### a) Average Word2Vec"
   ]
  },
  {
   "cell_type": "code",
   "execution_count": 20,
   "metadata": {
    "_uuid": "15a982e21fbfeb6a6536de55377cc3ad7173e565"
   },
   "outputs": [
    {
     "data": {
      "text/plain": [
       "(22500, 50)"
      ]
     },
     "execution_count": 20,
     "metadata": {},
     "output_type": "execute_result"
    }
   ],
   "source": [
    "\"\"\"\n",
    "This code snippet converts train data from text to vectors by Average Word2Vec\n",
    "\"\"\"\n",
    "# compute average word2vec for each review.\n",
    "tain_vectors = []; # the avg-w2v for each sentence/review is stored in this list\n",
    "for sent in list_of_train_sent: # for each review/sentence\n",
    "    sent_vec = np.zeros(50) # as word vectors are of zero length\n",
    "    cnt_words =0; # num of words with a valid vector in the sentence/review\n",
    "    for word in sent: # for each word in a review/sentence\n",
    "        try:\n",
    "            vec = w2v_train_model.wv[word]\n",
    "            sent_vec += vec\n",
    "            cnt_words += 1\n",
    "        except:\n",
    "            pass\n",
    "    if cnt_words == 0:\n",
    "        cnt_words = 1\n",
    "    sent_vec /= cnt_words\n",
    "    tain_vectors.append(sent_vec)\n",
    "train_avg_w2v = np.asmatrix(tain_vectors)\n",
    "train_avg_w2v.shape"
   ]
  },
  {
   "cell_type": "code",
   "execution_count": 21,
   "metadata": {
    "_uuid": "0583543fb5f01f908f289c87e0a690f11efdacb8"
   },
   "outputs": [
    {
     "data": {
      "text/plain": [
       "(7500, 50)"
      ]
     },
     "execution_count": 21,
     "metadata": {},
     "output_type": "execute_result"
    }
   ],
   "source": [
    "\"\"\"\n",
    "This code snippet converts test data from text to vectors by Average Word2Vec\n",
    "\"\"\"\n",
    "# compute average word2vec for each review.\n",
    "test_vectors = []; # the avg-w2v for each sentence/review is stored in this list\n",
    "for sent in list_of_test_sent: # for each review/sentence\n",
    "    sent_vec = np.zeros(50) # as word vectors are of zero length\n",
    "    cnt_words =0; # num of words with a valid vector in the sentence/review\n",
    "    for word in sent: # for each word in a review/sentence\n",
    "        try:\n",
    "            vec = w2v_test_model.wv[word]\n",
    "            sent_vec += vec\n",
    "            cnt_words += 1\n",
    "        except:\n",
    "            pass\n",
    "    if cnt_words == 0:\n",
    "        cnt_words = 1\n",
    "    sent_vec /= cnt_words\n",
    "    test_vectors.append(sent_vec)\n",
    "test_avg_w2v = np.asmatrix(test_vectors)\n",
    "test_avg_w2v.shape"
   ]
  },
  {
   "cell_type": "code",
   "execution_count": 22,
   "metadata": {
    "_uuid": "d250d993fe32ebc46741053b91b62a6720c6a72a"
   },
   "outputs": [
    {
     "name": "stdout",
     "output_type": "stream",
     "text": [
      "\n",
      "The optimal number of neighbors is 13.\n"
     ]
    },
    {
     "data": {
      "image/png": "[encoded data removed]",
      "text/plain": [
       "<matplotlib.figure.Figure at 0x7fd5f3f414a8>"
      ]
     },
     "metadata": {},
     "output_type": "display_data"
    },
    {
     "name": "stdout",
     "output_type": "stream",
     "text": [
      "the misclassification error for each k value is :  [0.154 0.166 0.143 0.146 0.138 0.14  0.137 0.138 0.137 0.137 0.136 0.137]\n"
     ]
    }
   ],
   "source": [
    "# empty list that will hold cv scores\n",
    "cv_scores = []\n",
    "k_values = list(range(3,15))\n",
    "# perform 10-fold cross validation\n",
    "for k in k_values:\n",
    "    knn = KNeighborsClassifier(n_neighbors=k)\n",
    "    scores = cross_val_score(knn, train_avg_w2v, y_train, cv= 10, scoring='accuracy')\n",
    "    cv_scores.append(scores.mean())\n",
    "# changing to misclassification error\n",
    "MSE = [1 - x for x in cv_scores]\n",
    "\n",
    "# determining best k\n",
    "optimal_k = k_values[MSE.index(min(MSE))]\n",
    "print('\\nThe optimal number of neighbors is %d.' % optimal_k)\n",
    "\n",
    "# plot misclassification error vs k \n",
    "plt.plot(k_values, MSE)\n",
    "\n",
    "for xy in zip(k_values, np.round(MSE,3)):\n",
    "    plt.annotate('(%s, %s)' % xy, xy=xy, textcoords='data')\n",
    "\n",
    "plt.xlabel('Number of Neighbors K')\n",
    "plt.ylabel('Misclassification Error')\n",
    "plt.show()\n",
    "print(\"the misclassification error for each k value is : \", np.round(MSE,3))"
   ]
  },
  {
   "cell_type": "code",
   "execution_count": 23,
   "metadata": {
    "_uuid": "e7851498ff87b7298f6fa8e457014f75bed2578d"
   },
   "outputs": [
    {
     "name": "stdout",
     "output_type": "stream",
     "text": [
      "\n",
      "The accuracy of the knn classifier for k = 13 is 82.626667%\n"
     ]
    },
    {
     "data": {
      "text/plain": [
       "Text(0.5,1,'CONFUSION MATRIX')"
      ]
     },
     "execution_count": 23,
     "metadata": {},
     "output_type": "execute_result"
    },
    {
     "data": {
      "image/png": "[encoded data removed]",
      "text/plain": [
       "<matplotlib.figure.Figure at 0x7fd5e12aada0>"
      ]
     },
     "metadata": {},
     "output_type": "display_data"
    }
   ],
   "source": [
    "\"\"\"\n",
    "This code snippet apply k-NN(brute force)\n",
    "\"\"\"\n",
    "# Instantiate learning model\n",
    "knn_brute = KNeighborsClassifier(n_neighbors= optimal_k, algorithm = 'brute')\n",
    "# fitting the model\n",
    "knn_brute.fit(train_avg_w2v, y_train)\n",
    "# response prediction\n",
    "pred = knn_brute.predict(test_avg_w2v)\n",
    "# evaluate accuracy\n",
    "acc = accuracy_score(y_test, pred)*100\n",
    "print('\\nThe accuracy of the knn classifier for k = %d is %f%%' % (optimal_k, acc))\n",
    "conf_matrix = confusion_matrix(y_test, pred)\n",
    "confusion_matrix_df = pd.DataFrame(conf_matrix,\\\n",
    "                                   [\"Negative\", \"Positive\"],\\\n",
    "                                   [\"Negative\", \"Positive\"],\\\n",
    "                                   dtype=int)\n",
    "sns.heatmap(confusion_matrix_df, annot=True)\n",
    "plt.title(\"CONFUSION MATRIX\")"
   ]
  },
  {
   "cell_type": "code",
   "execution_count": 24,
   "metadata": {
    "_uuid": "c87195a9d4d506d6b34633b7d1c2d5b89b89522c"
   },
   "outputs": [
    {
     "name": "stdout",
     "output_type": "stream",
     "text": [
      "\n",
      "The accuracy of the knn classifier for k = 13 is 82.626667%\n"
     ]
    },
    {
     "data": {
      "text/plain": [
       "Text(0.5,1,'CONFUSION MATRIX')"
      ]
     },
     "execution_count": 24,
     "metadata": {},
     "output_type": "execute_result"
    },
    {
     "data": {
      "image/png": "[encoded data removed]",
      "text/plain": [
       "<matplotlib.figure.Figure at 0x7fd5fdb141d0>"
      ]
     },
     "metadata": {},
     "output_type": "display_data"
    }
   ],
   "source": [
    "\"\"\"\n",
    "This code snippet apply k-NN(kd tree)\n",
    "\"\"\"\n",
    "# Instantiate learning model\n",
    "kd_tree = KNeighborsClassifier(n_neighbors= optimal_k, algorithm = 'kd_tree')\n",
    "# fitting the model\n",
    "kd_tree.fit(train_avg_w2v, y_train)\n",
    "# response prediction\n",
    "pred = kd_tree.predict(test_avg_w2v)\n",
    "# evaluate accuracy\n",
    "acc = accuracy_score(y_test, pred)*100\n",
    "print('\\nThe accuracy of the knn classifier for k = %d is %f%%' % (optimal_k, acc))\n",
    "conf_matrix = confusion_matrix(y_test, pred)\n",
    "confusion_matrix_df = pd.DataFrame(conf_matrix,\\\n",
    "                                   [\"Negative\", \"Positive\"],\\\n",
    "                                   [\"Negative\", \"Positive\"],\\\n",
    "                                   dtype=int)\n",
    "sns.heatmap(confusion_matrix_df, annot=True)\n",
    "plt.title(\"CONFUSION MATRIX\")"
   ]
  },
  {
   "cell_type": "markdown",
   "metadata": {
    "_uuid": "5ac49beabd5f92f8e7d5046799d4ff3090c5764e"
   },
   "source": [
    "#### Observation:\n",
    "* Here we have applied average word2vec to convert text to vector.\n",
    "* We got best hyperparameter for the k-NN model is 13.\n",
    "* By applying above hyperparameter in k-NN we got accuracy of 82.6266667%."
   ]
  },
  {
   "cell_type": "markdown",
   "metadata": {
    "_uuid": "0876016d75f935784d1d2c91d62b38a7008fb413"
   },
   "source": [
    "### b) TF IDF Word2Vec"
   ]
  },
  {
   "cell_type": "code",
   "execution_count": 25,
   "metadata": {
    "_uuid": "62c8564482046dffbf0326cf49fcea4a5cd9b709"
   },
   "outputs": [
    {
     "data": {
      "text/plain": [
       "(22500, 50)"
      ]
     },
     "execution_count": 25,
     "metadata": {},
     "output_type": "execute_result"
    }
   ],
   "source": [
    "\"\"\"\n",
    "This code snippet converts train data from text to vectors by TF-IDF weighted Word2Vec\n",
    "\"\"\"\n",
    "tf_idf_vect = TfidfVectorizer(ngram_range=(1,2), analyzer = 'word')\n",
    "final_tf_idf = tf_idf_vect.fit_transform(x_train)\n",
    "tfidf_feat = tf_idf_vect.get_feature_names() # tfidf words/col-names\n",
    "# final_tf_idf is the sparse matrix with row= sentence, col=word and cell_val = tfidf\n",
    "tfidf_train_vectors = []; # the tfidf-w2v for each sentence/review is stored in this list\n",
    "row=0;\n",
    "for sent in list_of_train_sent: # for each review/sentence\n",
    "    sent_vec = np.zeros(50) # as word vectors are of zero length\n",
    "    weight_sum =0; # num of words with a valid vector in the sentence/review\n",
    "    for word in sent: # for each word in a review/sentence\n",
    "        try:\n",
    "            vec = w2v_train_model.wv[word]\n",
    "            # obtain the tf_idfidf of a word in a sentence/review\n",
    "            tf_idf = final_tf_idf[row, tfidf_feat.index(word)]\n",
    "            sent_vec += (vec * tf_idf)\n",
    "            weight_sum += tf_idf\n",
    "        except:\n",
    "            pass\n",
    "    if weight_sum == 0:\n",
    "        weight_sum = 1\n",
    "    sent_vec /= weight_sum\n",
    "    tfidf_train_vectors.append(sent_vec)\n",
    "    row += 1\n",
    "train_tf_idf_w2v = np.asmatrix(tfidf_train_vectors)\n",
    "train_tf_idf_w2v.shape"
   ]
  },
  {
   "cell_type": "code",
   "execution_count": 26,
   "metadata": {
    "_uuid": "64d5060256023e42ad8a703b4ad2a5252b59216e"
   },
   "outputs": [
    {
     "data": {
      "text/plain": [
       "(7500, 50)"
      ]
     },
     "execution_count": 26,
     "metadata": {},
     "output_type": "execute_result"
    }
   ],
   "source": [
    "\"\"\"\n",
    "This code snippet converts test data from text to vectors by TF-IDF weighted Word2Vec\n",
    "\"\"\"\n",
    "final_tf_idf = tf_idf_vect.transform(x_test)\n",
    "tfidf_feat = tf_idf_vect.get_feature_names() # tfidf words/col-names\n",
    "# final_tf_idf is the sparse matrix with row= sentence, col=word and cell_val = tfidf\n",
    "tfidf_test_vectors = []; # the tfidf-w2v for each sentence/review is stored in this list\n",
    "row=0;\n",
    "for sent in list_of_test_sent: # for each review/sentence\n",
    "    sent_vec = np.zeros(50) # as word vectors are of zero length\n",
    "    weight_sum =0; # num of words with a valid vector in the sentence/review\n",
    "    for word in sent: # for each word in a review/sentence\n",
    "        try:\n",
    "            vec = w2v_test_model.wv[word]\n",
    "            # obtain the tf_idfidf of a word in a sentence/review\n",
    "            tf_idf = final_tf_idf[row, tfidf_feat.index(word)]\n",
    "            sent_vec += (vec * tf_idf)\n",
    "            weight_sum += tf_idf\n",
    "        except:\n",
    "            pass\n",
    "    if weight_sum == 0:\n",
    "        weight_sum = 1\n",
    "    sent_vec /= weight_sum\n",
    "    tfidf_test_vectors.append(sent_vec)\n",
    "    row += 1\n",
    "test_tf_idf_w2v = np.asmatrix(tfidf_test_vectors)\n",
    "test_tf_idf_w2v.shape"
   ]
  },
  {
   "cell_type": "code",
   "execution_count": 27,
   "metadata": {
    "_uuid": "ee56d829780f312675d67d5e078f6e9ae1c1a19d"
   },
   "outputs": [
    {
     "name": "stdout",
     "output_type": "stream",
     "text": [
      "\n",
      "The optimal number of neighbors is 11.\n"
     ]
    },
    {
     "data": {
      "image/png": "[encoded data removed]",
      "text/plain": [
       "<matplotlib.figure.Figure at 0x7fd5e13084a8>"
      ]
     },
     "metadata": {},
     "output_type": "display_data"
    },
    {
     "name": "stdout",
     "output_type": "stream",
     "text": [
      "the misclassification error for each k value is :  [0.159 0.176 0.149 0.155 0.144 0.146 0.141 0.143 0.14  0.141 0.14  0.14 ]\n"
     ]
    }
   ],
   "source": [
    "# empty list that will hold cv scores\n",
    "cv_scores = []\n",
    "k_values = list(range(3,15))\n",
    "# perform 10-fold cross validation\n",
    "for k in k_values:\n",
    "    knn = KNeighborsClassifier(n_neighbors=k)\n",
    "    scores = cross_val_score(knn, train_tf_idf_w2v, y_train, cv= 10, scoring='accuracy')\n",
    "    cv_scores.append(scores.mean())\n",
    "# changing to misclassification error\n",
    "MSE = [1 - x for x in cv_scores]\n",
    "\n",
    "# determining best k\n",
    "optimal_k = k_values[MSE.index(min(MSE))]\n",
    "print('\\nThe optimal number of neighbors is %d.' % optimal_k)\n",
    "\n",
    "# plot misclassification error vs k \n",
    "plt.plot(k_values, MSE)\n",
    "\n",
    "for xy in zip(k_values, np.round(MSE,3)):\n",
    "    plt.annotate('(%s, %s)' % xy, xy=xy, textcoords='data')\n",
    "\n",
    "plt.xlabel('Number of Neighbors K')\n",
    "plt.ylabel('Misclassification Error')\n",
    "plt.show()\n",
    "print(\"the misclassification error for each k value is : \", np.round(MSE,3))"
   ]
  },
  {
   "cell_type": "code",
   "execution_count": 28,
   "metadata": {
    "_uuid": "fc47c4ac02d4fca028f76422f0a72c963f310018"
   },
   "outputs": [
    {
     "name": "stdout",
     "output_type": "stream",
     "text": [
      "\n",
      "The accuracy of the knn classifier for k = 11 is 83.080000%\n"
     ]
    },
    {
     "data": {
      "text/plain": [
       "Text(0.5,1,'CONFUSION MATRIX')"
      ]
     },
     "execution_count": 28,
     "metadata": {},
     "output_type": "execute_result"
    },
    {
     "data": {
      "image/png": "[encoded data removed]",
      "text/plain": [
       "<matplotlib.figure.Figure at 0x7fd5e1243dd8>"
      ]
     },
     "metadata": {},
     "output_type": "display_data"
    }
   ],
   "source": [
    "\"\"\"\n",
    "This code snippet apply k-NN(brute force)\n",
    "\"\"\"\n",
    "# Instantiate learning model\n",
    "knn_brute = KNeighborsClassifier(n_neighbors= optimal_k, algorithm = 'brute')\n",
    "# fitting the model\n",
    "knn_brute.fit(train_tf_idf_w2v, y_train)\n",
    "# response prediction\n",
    "pred = knn_brute.predict(test_tf_idf_w2v)\n",
    "# evaluate accuracy\n",
    "acc = accuracy_score(y_test, pred)*100\n",
    "print('\\nThe accuracy of the knn classifier for k = %d is %f%%' % (optimal_k, acc))\n",
    "conf_matrix = confusion_matrix(y_test, pred)\n",
    "confusion_matrix_df = pd.DataFrame(conf_matrix,\\\n",
    "                                   [\"Negative\", \"Positive\"],\\\n",
    "                                   [\"Negative\", \"Positive\"],\\\n",
    "                                   dtype=int)\n",
    "sns.heatmap(confusion_matrix_df, annot=True)\n",
    "plt.title(\"CONFUSION MATRIX\")"
   ]
  },
  {
   "cell_type": "code",
   "execution_count": 29,
   "metadata": {
    "_uuid": "9e1fb14260d53ec5392d9ae79f45ca4233eae1a3"
   },
   "outputs": [
    {
     "name": "stdout",
     "output_type": "stream",
     "text": [
      "\n",
      "The accuracy of the knn classifier for k = 11 is 83.080000%\n"
     ]
    },
    {
     "data": {
      "text/plain": [
       "Text(0.5,1,'CONFUSION MATRIX')"
      ]
     },
     "execution_count": 29,
     "metadata": {},
     "output_type": "execute_result"
    },
    {
     "data": {
      "image/png": "[encoded data removed]",
      "text/plain": [
       "<matplotlib.figure.Figure at 0x7fd60100d080>"
      ]
     },
     "metadata": {},
     "output_type": "display_data"
    }
   ],
   "source": [
    "\"\"\"\n",
    "This code snippet apply k-NN(kd tree)\n",
    "\"\"\"\n",
    "# Instantiate learning model\n",
    "kd_tree = KNeighborsClassifier(n_neighbors= optimal_k, algorithm = 'kd_tree')\n",
    "# fitting the model\n",
    "kd_tree.fit(train_tf_idf_w2v, y_train)\n",
    "# response prediction\n",
    "pred = kd_tree.predict(test_tf_idf_w2v)\n",
    "# evaluate accuracy\n",
    "acc = accuracy_score(y_test, pred)*100\n",
    "print('\\nThe accuracy of the knn classifier for k = %d is %f%%' % (optimal_k, acc))\n",
    "conf_matrix = confusion_matrix(y_test, pred)\n",
    "confusion_matrix_df = pd.DataFrame(conf_matrix,\\\n",
    "                                   [\"Negative\", \"Positive\"],\\\n",
    "                                   [\"Negative\", \"Positive\"],\\\n",
    "                                   dtype=int)\n",
    "sns.heatmap(confusion_matrix_df, annot=True)\n",
    "plt.title(\"CONFUSION MATRIX\")"
   ]
  },
  {
   "cell_type": "markdown",
   "metadata": {
    "_uuid": "0d0297caecf8738d30b4512f143529d9e84a4abe",
    "collapsed": true
   },
   "source": [
    "#### Observation:\n",
    "* Here we have applied TF IDF word2vec to convert text to vector.\n",
    "* We got best hyperparameter for the k-NN model is 11.\n",
    "* By applying above hyperparameter in k-NN we got accuracy of 83.080000%."
   ]
  },
  {
   "cell_type": "markdown",
   "metadata": {
    "_uuid": "7a95f011ae95605432799006dd8c252fb171ccaf"
   },
   "source": [
    "## Conclusion :\n",
    "1. From the above analysis with 30000 sample of data I got that TF IDF is the best with accuracy 86.240000% .\n",
    "2. I think with large sample of data, algorithms would have perform better because from large data large vocabulary will be build."
   ]
  },
  {
   "cell_type": "markdown",
   "metadata": {
    "_uuid": "c3890a62049827cc7beac5d996b1f3336690d293"
   },
   "source": [
    "### Model-----Best_Hyperparameter------Accuracy\n",
    "######  BOW----------------------------------8---------------------85.066667%\n",
    "###### TF IDF-------------------------------10--------------------86.240000%\n",
    "###### Avg word2vec--------------------13--------------------82.626667%\n",
    "###### TF IDF word2vec----------------11--------------------83.080000%"
   ]
  }
 ],
 "metadata": {
  "kernelspec": {
   "display_name": "Python 3",
   "language": "python",
   "name": "python3"
  },
  "language_info": {
   "codemirror_mode": {
    "name": "ipython",
    "version": 3
   },
   "file_extension": ".py",
   "mimetype": "text/x-python",
   "name": "python",
   "nbconvert_exporter": "python",
   "pygments_lexer": "ipython3",
   "version": "3.6.4"
  }
 },
 "nbformat": 4,
 "nbformat_minor": 1
}

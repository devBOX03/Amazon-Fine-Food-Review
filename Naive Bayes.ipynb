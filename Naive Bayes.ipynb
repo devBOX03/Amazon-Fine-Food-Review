{
 "cells": [
  {
   "cell_type": "markdown",
   "metadata": {
    "colab_type": "text",
    "id": "i4CtE0s4DOkg"
   },
   "source": [
    "# Objective : \n",
    "Find the best the model with hghest accuracy for Naive Bayes and also find precision, recall, f1 score and confusion matrix of each model."
   ]
  },
  {
   "cell_type": "markdown",
   "metadata": {
    "colab_type": "text",
    "id": "KyakW1rKDOkj"
   },
   "source": [
    "## Workflow:\n",
    "\n",
    "1. Sort data based on time.\n",
    "2. Split data into train and test.\n",
    "3. Convert reviews of \"Amazon Fine Food Review\" dataset into vectors using :-\n",
    "    * Bag of words.\n",
    "    * TF-IDF\n",
    "4. Perform feature selection on every model.\n",
    "5. Find best hyperparameter by Naive Bayes cross validation.\n",
    "6. Apply Naive Bayes model on the train data.\n",
    "7. Find accuracy, precision, recall and f1 score of the model.\n",
    "8. Print confusion matrix and plot error plots for every model. "
   ]
  },
  {
   "cell_type": "code",
   "execution_count": 0,
   "metadata": {
    "colab": {},
    "colab_type": "code",
    "id": "ujEme-WFDOkm"
   },
   "outputs": [],
   "source": [
    "%matplotlib inline\n",
    "\n",
    "import sqlite3\n",
    "import pandas as pd\n",
    "import numpy as np\n",
    "import nltk\n",
    "import matplotlib.pyplot as plt\n",
    "import seaborn as sns\n",
    "from sklearn.feature_extraction.text import TfidfTransformer\n",
    "from sklearn.feature_extraction.text import TfidfVectorizer\n",
    "import re, gensim\n",
    "import string\n",
    "from nltk.corpus import stopwords\n",
    "from nltk.stem.wordnet import WordNetLemmatizer\n",
    "from sklearn.feature_extraction.text import CountVectorizer\n",
    "from sklearn.manifold import TSNE\n",
    "from sklearn.preprocessing import StandardScaler\n",
    "from sklearn.decomposition import TruncatedSVD\n",
    "from sklearn.cross_validation import train_test_split\n",
    "from sklearn.metrics import accuracy_score\n",
    "from sklearn.cross_validation import cross_val_score\n",
    "from collections import Counter\n",
    "from sklearn.metrics import accuracy_score\n",
    "from sklearn import cross_validation\n",
    "from sklearn.metrics import classification_report, confusion_matrix\n",
    "from sklearn.naive_bayes import BernoulliNB, MultinomialNB\n",
    "from sklearn.feature_selection import chi2"
   ]
  },
  {
   "cell_type": "markdown",
   "metadata": {
    "colab_type": "text",
    "id": "8UzfGFQ0DOku"
   },
   "source": [
    "## Importing data"
   ]
  },
  {
   "cell_type": "code",
   "execution_count": 0,
   "metadata": {
    "colab": {},
    "colab_type": "code",
    "id": "ZstOlLyaDOkw"
   },
   "outputs": [],
   "source": [
    "\"\"\"\n",
    "Reading data from .sqlite file,\n",
    "choosing only positive and negative reviews not neutral reviews.\n",
    "\"\"\"\n",
    "# using the SQLite Table to read data.\n",
    "con = sqlite3.connect('drive/datasets/database.sqlite') \n",
    "\n",
    "#filtering only positive and negative reviews i.e. \n",
    "# not taking into consideration those reviews with Score=3\n",
    "filtered_data = pd.read_sql_query(\"SELECT * FROM Reviews WHERE Score != 3\", con) \n",
    "\n",
    "# Give reviews with Score>3 a positive rating, and reviews with a score<3 a negative rating.\n",
    "def partition(x):\n",
    "    if x < 3:\n",
    "        return 'negative'\n",
    "    return 'positive'\n",
    "\n",
    "#changing reviews with score less than 3 to be positive and vice-versa\n",
    "actualScore = filtered_data['Score']\n",
    "positiveNegative = actualScore.map(partition) \n",
    "filtered_data['Score'] = positiveNegative"
   ]
  },
  {
   "cell_type": "markdown",
   "metadata": {
    "colab_type": "text",
    "id": "cb6vxW_QDOk0"
   },
   "source": [
    "## Cleansing data"
   ]
  },
  {
   "cell_type": "code",
   "execution_count": 0,
   "metadata": {
    "colab": {},
    "colab_type": "code",
    "id": "RO7yL8csDOk2"
   },
   "outputs": [],
   "source": [
    "\"\"\"\n",
    "Below code snippet removes duplicate data from dataset that are repeatedly mentioned.\n",
    "\"\"\"\n",
    "#Sorting data according to ProductId in ascending order\n",
    "sorted_data=filtered_data.sort_values('ProductId', axis=0, ascending=True,\\\n",
    "                                      inplace=False, kind='quicksort',\\\n",
    "                                      na_position='last')\n",
    "#Deduplication of entries\n",
    "final=sorted_data.drop_duplicates(subset={\"UserId\",\"ProfileName\",\"Time\",\"Text\"},\\\n",
    "                                  keep='first', inplace=False)\n",
    "final=final[final.HelpfulnessNumerator<=final.HelpfulnessDenominator]\n",
    "# final.shape"
   ]
  },
  {
   "cell_type": "code",
   "execution_count": 47,
   "metadata": {
    "colab": {
     "base_uri": "https://localhost:8080/",
     "height": 35
    },
    "colab_type": "code",
    "executionInfo": {
     "elapsed": 2697,
     "status": "ok",
     "timestamp": 1534510146815,
     "user": {
      "displayName": "Debasish Padhi",
      "photoUrl": "//lh3.googleusercontent.com/-vcn0hxkFbTw/AAAAAAAAAAI/AAAAAAAAAHM/9ggzi4wqYg0/s50-c-k-no/photo.jpg",
      "userId": "112236557723789007632"
     },
     "user_tz": -330
    },
    "id": "d0eGRl6QDOk9",
    "outputId": "959b05f4-9bc5-4f00-df85-c0a527744d42"
   },
   "outputs": [
    {
     "data": {
      "text/plain": [
       "(364171, 10)"
      ]
     },
     "execution_count": 47,
     "metadata": {
      "tags": []
     },
     "output_type": "execute_result"
    }
   ],
   "source": [
    "\"\"\"\n",
    "Sorting data on the basis of TIME\n",
    "\"\"\"\n",
    "final = final.sort_values(by=['Time'], axis=0)\n",
    "final.shape"
   ]
  },
  {
   "cell_type": "markdown",
   "metadata": {
    "colab_type": "text",
    "id": "XXtfqwEJDOlG"
   },
   "source": [
    "## Text preprocessing"
   ]
  },
  {
   "cell_type": "code",
   "execution_count": 20,
   "metadata": {
    "colab": {
     "base_uri": "https://localhost:8080/",
     "height": 54
    },
    "colab_type": "code",
    "executionInfo": {
     "elapsed": 347607,
     "status": "ok",
     "timestamp": 1534482311275,
     "user": {
      "displayName": "Debasish Padhi",
      "photoUrl": "//lh3.googleusercontent.com/-vcn0hxkFbTw/AAAAAAAAAAI/AAAAAAAAAHM/9ggzi4wqYg0/s50-c-k-no/photo.jpg",
      "userId": "112236557723789007632"
     },
     "user_tz": -330
    },
    "id": "pLrmDRJkDOlI",
    "outputId": "97e30f07-1564-421d-a984-614b4a178678"
   },
   "outputs": [
    {
     "name": "stdout",
     "output_type": "stream",
     "text": [
      "[nltk_data] Downloading package stopwords to /content/nltk_data...\n",
      "[nltk_data]   Package stopwords is already up-to-date!\n"
     ]
    }
   ],
   "source": [
    "\"\"\"\n",
    "This code snippet does text preprocessing\n",
    "\"\"\"\n",
    "nltk.download('stopwords')\n",
    "def cleanhtml(sentence): #function to clean the word of any html-tags\n",
    "    cleanr = re.compile('<.*?>')\n",
    "    cleantext = re.sub(cleanr, ' ', sentence)\n",
    "    return cleantext\n",
    "def cleanpunc(sentence): #function to clean the word of any punctuation or special characters\n",
    "    cleaned = re.sub(r'[?|!|\\'|\"|#]',r'',sentence)\n",
    "    cleaned = re.sub(r'[.|,|)|(|\\|/]',r' ',cleaned)\n",
    "    return  cleaned\n",
    "stop = set(stopwords.words('english')) #set of stopwords\n",
    "sno = nltk.stem.SnowballStemmer('english') #initialising the snowball stemmer\n",
    "final_text = []\n",
    "for index in range(len(final['Text'])):\n",
    "    filtered_sentence=[]\n",
    "    sent=cleanhtml(final['Text'].iloc[index]) # remove HTMl tags\n",
    "    for w in sent.split():\n",
    "        for cleaned_words in cleanpunc(w).split():# clean punctuation marks from words\n",
    "            if((cleaned_words.isalpha()) & (len(cleaned_words)>2)):# verifying word must be a alphabet and atleat two character long\n",
    "                cleaned_words = cleaned_words.lower()\n",
    "                if(cleaned_words not in stop):# blocks stopwords\n",
    "                    s=(sno.stem(cleaned_words))# stemming in process\n",
    "                    filtered_sentence.append(s)\n",
    "                else:\n",
    "                    continue\n",
    "            else:\n",
    "                continue \n",
    "    str1 = \" \".join(filtered_sentence) #final cleaned string of words\n",
    "    final_text.append(str1)"
   ]
  },
  {
   "cell_type": "code",
   "execution_count": 21,
   "metadata": {
    "colab": {
     "base_uri": "https://localhost:8080/",
     "height": 54
    },
    "colab_type": "code",
    "executionInfo": {
     "elapsed": 1737,
     "status": "ok",
     "timestamp": 1534482313108,
     "user": {
      "displayName": "Debasish Padhi",
      "photoUrl": "//lh3.googleusercontent.com/-vcn0hxkFbTw/AAAAAAAAAAI/AAAAAAAAAHM/9ggzi4wqYg0/s50-c-k-no/photo.jpg",
      "userId": "112236557723789007632"
     },
     "user_tz": -330
    },
    "id": "G113jwXYDOlN",
    "outputId": "b07319b5-a7d4-4a41-bc1e-dbe3208aea74"
   },
   "outputs": [
    {
     "name": "stdout",
     "output_type": "stream",
     "text": [
      "(364171,)\n",
      "(364171,)\n"
     ]
    }
   ],
   "source": [
    "amazon_data_text = pd.Series(final_text)\n",
    "amazon_data_label = pd.Series(final['Score'])\n",
    "print(amazon_data_text.shape)\n",
    "print(amazon_data_label.shape)"
   ]
  },
  {
   "cell_type": "code",
   "execution_count": 0,
   "metadata": {
    "colab": {},
    "colab_type": "code",
    "id": "0d4B8KbdDOlV"
   },
   "outputs": [],
   "source": [
    "\"\"\"\n",
    "Spliting sample data into train_data and test_data (75:25)\n",
    "\"\"\"\n",
    "x_train, x_test, y_train, y_test = cross_validation.train_test_split(\\\n",
    "                                                                     amazon_data_text,\\\n",
    "                                                                     amazon_data_label,\\\n",
    "                                                                     test_size = 0.25,\\\n",
    "                                                                     random_state=0)"
   ]
  },
  {
   "cell_type": "code",
   "execution_count": 45,
   "metadata": {
    "colab": {
     "base_uri": "https://localhost:8080/",
     "height": 90
    },
    "colab_type": "code",
    "executionInfo": {
     "elapsed": 1037,
     "status": "ok",
     "timestamp": 1534485692634,
     "user": {
      "displayName": "Debasish Padhi",
      "photoUrl": "//lh3.googleusercontent.com/-vcn0hxkFbTw/AAAAAAAAAAI/AAAAAAAAAHM/9ggzi4wqYg0/s50-c-k-no/photo.jpg",
      "userId": "112236557723789007632"
     },
     "user_tz": -330
    },
    "id": "1BzwMVfqDOla",
    "outputId": "c9d60925-1cba-4b81-d7b4-71b705646287"
   },
   "outputs": [
    {
     "name": "stdout",
     "output_type": "stream",
     "text": [
      "Train data : \n",
      " positive    230354\n",
      "negative     42774\n",
      "Name: Score, dtype: int64\n"
     ]
    }
   ],
   "source": [
    "print(\"Train data : \\n\",y_train.value_counts())"
   ]
  },
  {
   "cell_type": "code",
   "execution_count": 46,
   "metadata": {
    "colab": {
     "base_uri": "https://localhost:8080/",
     "height": 90
    },
    "colab_type": "code",
    "executionInfo": {
     "elapsed": 1058,
     "status": "ok",
     "timestamp": 1534485709701,
     "user": {
      "displayName": "Debasish Padhi",
      "photoUrl": "//lh3.googleusercontent.com/-vcn0hxkFbTw/AAAAAAAAAAI/AAAAAAAAAHM/9ggzi4wqYg0/s50-c-k-no/photo.jpg",
      "userId": "112236557723789007632"
     },
     "user_tz": -330
    },
    "id": "tzZFZdSdeAju",
    "outputId": "0e73fcbe-8dd1-4dfb-d3cb-76baf05ab435"
   },
   "outputs": [
    {
     "name": "stdout",
     "output_type": "stream",
     "text": [
      "Test data : \n",
      " positive    76707\n",
      "negative    14336\n",
      "Name: Score, dtype: int64\n"
     ]
    }
   ],
   "source": [
    "print(\"Test data : \\n\",y_test.value_counts())"
   ]
  },
  {
   "cell_type": "markdown",
   "metadata": {
    "colab_type": "text",
    "id": "6r1EYgrBDOlg"
   },
   "source": [
    "### Bag of words."
   ]
  },
  {
   "cell_type": "code",
   "execution_count": 24,
   "metadata": {
    "colab": {
     "base_uri": "https://localhost:8080/",
     "height": 35
    },
    "colab_type": "code",
    "executionInfo": {
     "elapsed": 11187,
     "status": "ok",
     "timestamp": 1534482327540,
     "user": {
      "displayName": "Debasish Padhi",
      "photoUrl": "//lh3.googleusercontent.com/-vcn0hxkFbTw/AAAAAAAAAAI/AAAAAAAAAHM/9ggzi4wqYg0/s50-c-k-no/photo.jpg",
      "userId": "112236557723789007632"
     },
     "user_tz": -330
    },
    "id": "r4_vx6RGDOli",
    "outputId": "eca6a965-b07e-446e-e220-893b01321a79"
   },
   "outputs": [
    {
     "data": {
      "text/plain": [
       "(273128, 61712)"
      ]
     },
     "execution_count": 24,
     "metadata": {
      "tags": []
     },
     "output_type": "execute_result"
    }
   ],
   "source": [
    "\"\"\"\n",
    "This code snippet converts train data from text to vectors by BOW.\n",
    "\"\"\"\n",
    "count_vect = CountVectorizer(analyzer='word') #in scikit-learn\n",
    "bow_text_train_vector = count_vect.fit_transform(x_train)\n",
    "bow_text_train_vector = bow_text_train_vector\n",
    "bow_text_train_vector.shape"
   ]
  },
  {
   "cell_type": "code",
   "execution_count": 25,
   "metadata": {
    "colab": {
     "base_uri": "https://localhost:8080/",
     "height": 54
    },
    "colab_type": "code",
    "executionInfo": {
     "elapsed": 2474,
     "status": "ok",
     "timestamp": 1534482330116,
     "user": {
      "displayName": "Debasish Padhi",
      "photoUrl": "//lh3.googleusercontent.com/-vcn0hxkFbTw/AAAAAAAAAAI/AAAAAAAAAHM/9ggzi4wqYg0/s50-c-k-no/photo.jpg",
      "userId": "112236557723789007632"
     },
     "user_tz": -330
    },
    "id": "IGcfzNlHDOlq",
    "outputId": "b894333e-3e4e-4c78-ef92-36e9a39c41d5"
   },
   "outputs": [
    {
     "name": "stdout",
     "output_type": "stream",
     "text": [
      "chi2's statistics :  [0.37137623 2.92261259 0.18568811 ... 0.18568811 0.18568811 0.18568811]\n",
      "feature probabilities :  [0.54225506 0.08734634 0.66652986 ... 0.66652986 0.66652986 0.66652986]\n"
     ]
    }
   ],
   "source": [
    "\"\"\"\n",
    "This code snippet shows feature selection\n",
    "\"\"\"\n",
    "a = chi2(bow_text_train_vector, y_train)\n",
    "print(\"chi2's statistics : \",a[0])\n",
    "print(\"feature probabilities : \",a[1])"
   ]
  },
  {
   "cell_type": "code",
   "execution_count": 26,
   "metadata": {
    "colab": {
     "base_uri": "https://localhost:8080/",
     "height": 35
    },
    "colab_type": "code",
    "executionInfo": {
     "elapsed": 5516,
     "status": "ok",
     "timestamp": 1534482335829,
     "user": {
      "displayName": "Debasish Padhi",
      "photoUrl": "//lh3.googleusercontent.com/-vcn0hxkFbTw/AAAAAAAAAAI/AAAAAAAAAHM/9ggzi4wqYg0/s50-c-k-no/photo.jpg",
      "userId": "112236557723789007632"
     },
     "user_tz": -330
    },
    "id": "_I7rYvfNDOl0",
    "outputId": "243f3263-1f08-4a87-ddbf-f5699ac9d99b"
   },
   "outputs": [
    {
     "name": "stdout",
     "output_type": "stream",
     "text": [
      "(91043, 61712)\n"
     ]
    }
   ],
   "source": [
    "\"\"\"\n",
    "This code snippet converts test data from text to vectors by BOW.\n",
    "\"\"\"\n",
    "bow_text_test_vector = count_vect.transform(x_test)\n",
    "bow_text_test_vector = bow_text_test_vector\n",
    "print(bow_text_test_vector.shape)"
   ]
  },
  {
   "cell_type": "code",
   "execution_count": 27,
   "metadata": {
    "colab": {
     "base_uri": "https://localhost:8080/",
     "height": 370
    },
    "colab_type": "code",
    "executionInfo": {
     "elapsed": 303897,
     "status": "ok",
     "timestamp": 1534482639792,
     "user": {
      "displayName": "Debasish Padhi",
      "photoUrl": "//lh3.googleusercontent.com/-vcn0hxkFbTw/AAAAAAAAAAI/AAAAAAAAAHM/9ggzi4wqYg0/s50-c-k-no/photo.jpg",
      "userId": "112236557723789007632"
     },
     "user_tz": -330
    },
    "id": "o1l3G-9lDOl8",
    "outputId": "c33b1a55-db6b-4318-eafd-9c71e30da821"
   },
   "outputs": [
    {
     "name": "stdout",
     "output_type": "stream",
     "text": [
      "The optimal value of alpha is 324.\n"
     ]
    },
    {
     "data": {
      "image/png": "[encoded data removed]",
      "text/plain": [
       "<matplotlib.figure.Figure at 0x7fc6dd17a4a8>"
      ]
     },
     "metadata": {
      "tags": []
     },
     "output_type": "display_data"
    },
    {
     "name": "stdout",
     "output_type": "stream",
     "text": [
      "the misclassification error for each alpha value is :  [0.157 0.157 0.157 0.157 0.157 0.157 0.157 0.157 0.157 0.157 0.157 0.157\n",
      " 0.157 0.157 0.157 0.157 0.157 0.157 0.157 0.157 0.157 0.157 0.157 0.157\n",
      " 0.157]\n"
     ]
    }
   ],
   "source": [
    "\"\"\"\n",
    "This code snippet helps to find lamda for BernoulliNB and plot error\n",
    "\"\"\"\n",
    "# empty list that will hold cv scores\n",
    "cv_scores = []\n",
    "alpha_values = list(range(300,400,4))\n",
    "# perform 10-fold cross validation\n",
    "for al in alpha_values:\n",
    "    nb = BernoulliNB(alpha = al)\n",
    "    scores = cross_val_score(nb, bow_text_train_vector, \n",
    "                             y_train, cv=10, scoring='accuracy')\n",
    "    cv_scores.append(scores.mean())\n",
    "# changing to misclassification error\n",
    "MSE = [1 - x for x in cv_scores]\n",
    "\n",
    "# determining best alpha\n",
    "bow_optimal_alpha = alpha_values[MSE.index(min(MSE))]\n",
    "print('The optimal value of alpha is %d.' % bow_optimal_alpha)\n",
    "\n",
    "# plot misclassification error vs alpha \n",
    "plt.plot(alpha_values, MSE)\n",
    "\n",
    "for xy in zip(alpha_values, np.round(MSE,3)):\n",
    "    plt.annotate('(%s, %s)' % xy, xy=xy, textcoords='data')\n",
    "\n",
    "plt.xlabel('Alpha Values')\n",
    "plt.ylabel('Misclassification Error')\n",
    "plt.show()\n",
    "\n",
    "print(\"the misclassification error for each alpha value is : \", np.round(MSE,3))"
   ]
  },
  {
   "cell_type": "code",
   "execution_count": 28,
   "metadata": {
    "colab": {
     "base_uri": "https://localhost:8080/",
     "height": 335
    },
    "colab_type": "code",
    "executionInfo": {
     "elapsed": 3055,
     "status": "ok",
     "timestamp": 1534482642993,
     "user": {
      "displayName": "Debasish Padhi",
      "photoUrl": "//lh3.googleusercontent.com/-vcn0hxkFbTw/AAAAAAAAAAI/AAAAAAAAAHM/9ggzi4wqYg0/s50-c-k-no/photo.jpg",
      "userId": "112236557723789007632"
     },
     "user_tz": -330
    },
    "id": "OYmseZtcDOmE",
    "outputId": "0cff8242-429c-4916-ced9-50c2385b11ce"
   },
   "outputs": [
    {
     "name": "stdout",
     "output_type": "stream",
     "text": [
      "\n",
      "The accuracy of the Naive Bayes classifier for alpha = 324 is 84.251398%\n"
     ]
    },
    {
     "data": {
      "text/plain": [
       "Text(0.5,1,'CONFUSION MATRIX')"
      ]
     },
     "execution_count": 28,
     "metadata": {
      "tags": []
     },
     "output_type": "execute_result"
    },
    {
     "data": {
      "image/png": "[encoded data removed]",
      "text/plain": [
       "<matplotlib.figure.Figure at 0x7fc6e38f18d0>"
      ]
     },
     "metadata": {
      "tags": []
     },
     "output_type": "display_data"
    }
   ],
   "source": [
    "\"\"\"\n",
    "This code snippet apply BernoulliNB for above lambda value\n",
    "\"\"\"\n",
    "# Instantiate learning model\n",
    "nb = BernoulliNB(alpha = bow_optimal_alpha)\n",
    "# fitting the model\n",
    "nb.fit(bow_text_train_vector, y_train)\n",
    "# response prediction\n",
    "pred = nb.predict(bow_text_test_vector)\n",
    "# evaluate accuracy\n",
    "acc = accuracy_score(y_test, pred)*100\n",
    "print('\\nThe accuracy of the Naive Bayes classifier for alpha = %d is %f%%' % (bow_optimal_alpha, acc))\n",
    "conf_matrix = confusion_matrix(y_test, pred)\n",
    "confusion_matrix_df = pd.DataFrame(conf_matrix,\n",
    "                                   [\"Negative\", \"Positive\"],\\\n",
    "                                   [\"Negative\", \"Positive\"],\\\n",
    "                                   dtype=int)\n",
    "sns.heatmap(confusion_matrix_df, annot=True, fmt=\"d\")\n",
    "plt.title(\"CONFUSION MATRIX\")"
   ]
  },
  {
   "cell_type": "code",
   "execution_count": 29,
   "metadata": {
    "colab": {
     "base_uri": "https://localhost:8080/",
     "height": 146
    },
    "colab_type": "code",
    "executionInfo": {
     "elapsed": 2367,
     "status": "ok",
     "timestamp": 1534482645459,
     "user": {
      "displayName": "Debasish Padhi",
      "photoUrl": "//lh3.googleusercontent.com/-vcn0hxkFbTw/AAAAAAAAAAI/AAAAAAAAAHM/9ggzi4wqYg0/s50-c-k-no/photo.jpg",
      "userId": "112236557723789007632"
     },
     "user_tz": -330
    },
    "id": "6apLKOKMDOmN",
    "outputId": "1ea2def9-5595-488c-b109-1fbe7c580970"
   },
   "outputs": [
    {
     "name": "stdout",
     "output_type": "stream",
     "text": [
      "             precision    recall  f1-score   support\n",
      "\n",
      "   negative       0.00      0.00      0.00     14336\n",
      "   positive       0.84      1.00      0.91     76707\n",
      "\n",
      "avg / total       0.71      0.84      0.77     91043\n",
      "\n"
     ]
    }
   ],
   "source": [
    "\"\"\"\n",
    "This code snippet shows precision, recall, f1 and support scores for BernoulliNB\n",
    "\"\"\"\n",
    "print(classification_report(y_test, pred, target_names = np.unique(y_test)))"
   ]
  },
  {
   "cell_type": "code",
   "execution_count": 30,
   "metadata": {
    "colab": {
     "base_uri": "https://localhost:8080/",
     "height": 359
    },
    "colab_type": "code",
    "executionInfo": {
     "elapsed": 278639,
     "status": "ok",
     "timestamp": 1534482924202,
     "user": {
      "displayName": "Debasish Padhi",
      "photoUrl": "//lh3.googleusercontent.com/-vcn0hxkFbTw/AAAAAAAAAAI/AAAAAAAAAHM/9ggzi4wqYg0/s50-c-k-no/photo.jpg",
      "userId": "112236557723789007632"
     },
     "user_tz": -330
    },
    "id": "v5q4BvqJDOmU",
    "outputId": "03269b9a-5849-46bc-facf-b8cfae868766"
   },
   "outputs": [
    {
     "name": "stdout",
     "output_type": "stream",
     "text": [
      "The optimal value of alpha is 480.\n"
     ]
    },
    {
     "data": {
      "image/png": "[encoded data removed]",
      "text/plain": [
       "<matplotlib.figure.Figure at 0x7fc6d4fbc0f0>"
      ]
     },
     "metadata": {
      "tags": []
     },
     "output_type": "display_data"
    },
    {
     "name": "stdout",
     "output_type": "stream",
     "text": [
      "the misclassification error for each alpha value is :  [0.157 0.157 0.157 0.157 0.157 0.157 0.157 0.157 0.157 0.157 0.157 0.157\n",
      " 0.157 0.157 0.157 0.157 0.157 0.157 0.157 0.157 0.157 0.157 0.157 0.157\n",
      " 0.157]\n"
     ]
    }
   ],
   "source": [
    "\"\"\"\n",
    "This code snippet helps to find lamda for MultinomialNB and plot error\n",
    "\"\"\"\n",
    "# empty list that will hold cv scores\n",
    "cv_scores = []\n",
    "alpha_values = list(range(400,500,4))\n",
    "# perform 10-fold cross validation\n",
    "for al in alpha_values:\n",
    "    nb = MultinomialNB(alpha = al)\n",
    "    scores = cross_val_score(nb, bow_text_train_vector, \n",
    "                             y_train, cv=10, scoring='accuracy')\n",
    "    cv_scores.append(scores.mean())\n",
    "# changing to misclassification error\n",
    "MSE = [1 - x for x in cv_scores]\n",
    "\n",
    "# determining best alpha\n",
    "bow_optimal_alpha = alpha_values[MSE.index(min(MSE))]\n",
    "print('The optimal value of alpha is %d.' % bow_optimal_alpha)\n",
    "\n",
    "# plot misclassification error vs alpha \n",
    "plt.plot(alpha_values, MSE)\n",
    "\n",
    "for xy in zip(alpha_values, np.round(MSE,3)):\n",
    "    plt.annotate('(%s, %s)' % xy, xy=xy, textcoords='data')\n",
    "\n",
    "plt.xlabel('Alpha Values')\n",
    "plt.ylabel('Misclassification Error')\n",
    "plt.show()\n",
    "\n",
    "print(\"the misclassification error for each alpha value is : \", np.round(MSE,3))"
   ]
  },
  {
   "cell_type": "code",
   "execution_count": 31,
   "metadata": {
    "colab": {
     "base_uri": "https://localhost:8080/",
     "height": 335
    },
    "colab_type": "code",
    "executionInfo": {
     "elapsed": 3725,
     "status": "ok",
     "timestamp": 1534482928040,
     "user": {
      "displayName": "Debasish Padhi",
      "photoUrl": "//lh3.googleusercontent.com/-vcn0hxkFbTw/AAAAAAAAAAI/AAAAAAAAAHM/9ggzi4wqYg0/s50-c-k-no/photo.jpg",
      "userId": "112236557723789007632"
     },
     "user_tz": -330
    },
    "id": "KprSPdBVDOmb",
    "outputId": "9e17cbd7-006b-4fbd-8d83-d72c17f697a7"
   },
   "outputs": [
    {
     "name": "stdout",
     "output_type": "stream",
     "text": [
      "\n",
      "The accuracy of the Naive Bayes classifier for alpha = 480 is 84.253594%\n"
     ]
    },
    {
     "data": {
      "text/plain": [
       "Text(0.5,1,'CONFUSION MATRIX')"
      ]
     },
     "execution_count": 31,
     "metadata": {
      "tags": []
     },
     "output_type": "execute_result"
    },
    {
     "data": {
      "image/png": "[encoded data removed]",
      "text/plain": [
       "<matplotlib.figure.Figure at 0x7fc6d430d6d8>"
      ]
     },
     "metadata": {
      "tags": []
     },
     "output_type": "display_data"
    }
   ],
   "source": [
    "\"\"\"\n",
    "This code snippet apply MultinomialNB for above lambda value\n",
    "\"\"\"\n",
    "# Instantiate learning model\n",
    "nb = MultinomialNB(alpha = bow_optimal_alpha)\n",
    "# fitting the model\n",
    "nb.fit(bow_text_train_vector, y_train)\n",
    "# response prediction\n",
    "pred = nb.predict(bow_text_test_vector)\n",
    "# evaluate accuracy\n",
    "acc = accuracy_score(y_test, pred)*100\n",
    "print('\\nThe accuracy of the Naive Bayes classifier for alpha = %d is %f%%' % (bow_optimal_alpha, acc))\n",
    "conf_matrix = confusion_matrix(y_test, pred)\n",
    "confusion_matrix_df = pd.DataFrame(conf_matrix,\n",
    "                                   [\"Negative\", \"Positive\"],\\\n",
    "                                   [\"Negative\", \"Positive\"],\\\n",
    "                                   dtype=int)\n",
    "sns.heatmap(confusion_matrix_df, annot=True, fmt=\"d\")\n",
    "plt.title(\"CONFUSION MATRIX\")"
   ]
  },
  {
   "cell_type": "code",
   "execution_count": 32,
   "metadata": {
    "colab": {
     "base_uri": "https://localhost:8080/",
     "height": 146
    },
    "colab_type": "code",
    "executionInfo": {
     "elapsed": 2380,
     "status": "ok",
     "timestamp": 1534482930503,
     "user": {
      "displayName": "Debasish Padhi",
      "photoUrl": "//lh3.googleusercontent.com/-vcn0hxkFbTw/AAAAAAAAAAI/AAAAAAAAAHM/9ggzi4wqYg0/s50-c-k-no/photo.jpg",
      "userId": "112236557723789007632"
     },
     "user_tz": -330
    },
    "id": "dJc78B-XDOmk",
    "outputId": "1215d88b-0b75-464a-e043-f41e5ea9b017"
   },
   "outputs": [
    {
     "name": "stdout",
     "output_type": "stream",
     "text": [
      "             precision    recall  f1-score   support\n",
      "\n",
      "   negative       0.50      0.00      0.00     14336\n",
      "   positive       0.84      1.00      0.91     76707\n",
      "\n",
      "avg / total       0.79      0.84      0.77     91043\n",
      "\n"
     ]
    }
   ],
   "source": [
    "\"\"\"\n",
    "This code snippet shows precision, recall, f1 and support scores for MultinomialNB\n",
    "\"\"\"\n",
    "print(classification_report(y_test, pred, target_names = np.unique(y_test)))"
   ]
  },
  {
   "cell_type": "markdown",
   "metadata": {
    "colab_type": "text",
    "id": "u6uT8Ox8DOmp"
   },
   "source": [
    "#### Observation :\n",
    "* Here we have applied Bag of words to convert text to vector.\n",
    "* We got best hyperparameter for the BernoulliNB model is 324 with accuracy 84.251398% .\n",
    "* We got best hyperparameter for the MultinomialNB model is 480 with accuracy 84.253594% ."
   ]
  },
  {
   "cell_type": "markdown",
   "metadata": {
    "colab_type": "text",
    "id": "occRJJdHDOmq"
   },
   "source": [
    "### TF IDF."
   ]
  },
  {
   "cell_type": "code",
   "execution_count": 33,
   "metadata": {
    "colab": {
     "base_uri": "https://localhost:8080/",
     "height": 35
    },
    "colab_type": "code",
    "executionInfo": {
     "elapsed": 57852,
     "status": "ok",
     "timestamp": 1534482988556,
     "user": {
      "displayName": "Debasish Padhi",
      "photoUrl": "//lh3.googleusercontent.com/-vcn0hxkFbTw/AAAAAAAAAAI/AAAAAAAAAHM/9ggzi4wqYg0/s50-c-k-no/photo.jpg",
      "userId": "112236557723789007632"
     },
     "user_tz": -330
    },
    "id": "TbWB_BD1DOms",
    "outputId": "0d1e3048-e0f8-4c16-fcc4-544598b2a850"
   },
   "outputs": [
    {
     "data": {
      "text/plain": [
       "(273128, 2436312)"
      ]
     },
     "execution_count": 33,
     "metadata": {
      "tags": []
     },
     "output_type": "execute_result"
    }
   ],
   "source": [
    "\"\"\"\n",
    "This code snippet converts train data from text to vectors by TF_IDF.\n",
    "\"\"\"\n",
    "tf_idf_vect = TfidfVectorizer(ngram_range=(1,2))\n",
    "final_tf_idf_train = tf_idf_vect.fit_transform(x_train)\n",
    "final_tf_idf_train.shape"
   ]
  },
  {
   "cell_type": "code",
   "execution_count": 34,
   "metadata": {
    "colab": {
     "base_uri": "https://localhost:8080/",
     "height": 35
    },
    "colab_type": "code",
    "executionInfo": {
     "elapsed": 12925,
     "status": "ok",
     "timestamp": 1534483001592,
     "user": {
      "displayName": "Debasish Padhi",
      "photoUrl": "//lh3.googleusercontent.com/-vcn0hxkFbTw/AAAAAAAAAAI/AAAAAAAAAHM/9ggzi4wqYg0/s50-c-k-no/photo.jpg",
      "userId": "112236557723789007632"
     },
     "user_tz": -330
    },
    "id": "KOrfGvnSDOmw",
    "outputId": "e33112d5-a30a-4aac-b2ef-c2a5919adeac"
   },
   "outputs": [
    {
     "data": {
      "text/plain": [
       "(91043, 2436312)"
      ]
     },
     "execution_count": 34,
     "metadata": {
      "tags": []
     },
     "output_type": "execute_result"
    }
   ],
   "source": [
    "\"\"\"\n",
    "This code snippet converts test data from text to vectors by TF_IDF.\n",
    "\"\"\"\n",
    "final_tf_idf_test = tf_idf_vect.transform(x_test)\n",
    "final_tf_idf_test.shape"
   ]
  },
  {
   "cell_type": "code",
   "execution_count": 35,
   "metadata": {
    "colab": {
     "base_uri": "https://localhost:8080/",
     "height": 54
    },
    "colab_type": "code",
    "executionInfo": {
     "elapsed": 6631,
     "status": "ok",
     "timestamp": 1534483008323,
     "user": {
      "displayName": "Debasish Padhi",
      "photoUrl": "//lh3.googleusercontent.com/-vcn0hxkFbTw/AAAAAAAAAAI/AAAAAAAAAHM/9ggzi4wqYg0/s50-c-k-no/photo.jpg",
      "userId": "112236557723789007632"
     },
     "user_tz": -330
    },
    "id": "h5Zvh9WZDOm2",
    "outputId": "51724c82-19a8-4fb8-c007-169395edafce"
   },
   "outputs": [
    {
     "name": "stdout",
     "output_type": "stream",
     "text": [
      "chi2's statistics :  [0.03995276 0.03601368 0.00524348 ... 0.02876846 0.04075579 0.04075579]\n",
      "feature probabilities :  [0.84157297 0.84948724 0.94227415 ... 0.86531476 0.84001003 0.84001003]\n"
     ]
    }
   ],
   "source": [
    "\"\"\"\n",
    "This code snippet shows feature selection\n",
    "\"\"\"\n",
    "a = chi2(final_tf_idf_train, y_train)\n",
    "print(\"chi2's statistics : \",a[0])\n",
    "print(\"feature probabilities : \",a[1])"
   ]
  },
  {
   "cell_type": "code",
   "execution_count": 36,
   "metadata": {
    "colab": {
     "base_uri": "https://localhost:8080/",
     "height": 334
    },
    "colab_type": "code",
    "executionInfo": {
     "elapsed": 300570,
     "status": "ok",
     "timestamp": 1534483308963,
     "user": {
      "displayName": "Debasish Padhi",
      "photoUrl": "//lh3.googleusercontent.com/-vcn0hxkFbTw/AAAAAAAAAAI/AAAAAAAAAHM/9ggzi4wqYg0/s50-c-k-no/photo.jpg",
      "userId": "112236557723789007632"
     },
     "user_tz": -330
    },
    "id": "bx4QkFP5DOm5",
    "outputId": "710cb13d-e69a-4a0b-dd67-f7d99e3cda05"
   },
   "outputs": [
    {
     "name": "stdout",
     "output_type": "stream",
     "text": [
      "The optimal value of alpha is 38.\n"
     ]
    },
    {
     "data": {
      "image/png": "[encoded data removed]",
      "text/plain": [
       "<matplotlib.figure.Figure at 0x7fc6d3b229b0>"
      ]
     },
     "metadata": {
      "tags": []
     },
     "output_type": "display_data"
    },
    {
     "name": "stdout",
     "output_type": "stream",
     "text": [
      "the misclassification error for each alpha value is :  [0.157 0.157 0.157 0.157 0.157 0.157 0.157 0.157 0.157 0.157]\n"
     ]
    }
   ],
   "source": [
    "\"\"\"\n",
    "This code snippet helps to find lamda for BernoulliNB and plot error\n",
    "\"\"\"\n",
    "# empty list that will hold cv scores\n",
    "cv_scores = []\n",
    "alpha_values = list(range(30,50,2))\n",
    "# perform 10-fold cross validation\n",
    "for al in alpha_values:\n",
    "    nb = BernoulliNB(alpha = al)\n",
    "    scores = cross_val_score(nb, final_tf_idf_train,\n",
    "                             y_train, cv=10,\n",
    "                             scoring='accuracy')\n",
    "    cv_scores.append(scores.mean())\n",
    "# changing to misclassification error\n",
    "MSE = [1 - x for x in cv_scores]\n",
    "\n",
    "# determining best alpha\n",
    "optimal_alpha = alpha_values[MSE.index(min(MSE))]\n",
    "print('The optimal value of alpha is %d.' % optimal_alpha)\n",
    "\n",
    "# plot misclassification error vs alpha\n",
    "plt.plot(alpha_values, MSE)\n",
    "\n",
    "for xy in zip(alpha_values, np.round(MSE,3)):\n",
    "    plt.annotate('(%s, %s)' % xy, xy=xy, textcoords='data')\n",
    "\n",
    "plt.xlabel('Alpha Values')\n",
    "plt.ylabel('Misclassification Error')\n",
    "plt.show()\n",
    "\n",
    "print(\"the misclassification error for each alpha value is : \", np.round(MSE,3))"
   ]
  },
  {
   "cell_type": "code",
   "execution_count": 37,
   "metadata": {
    "colab": {
     "base_uri": "https://localhost:8080/",
     "height": 335
    },
    "colab_type": "code",
    "executionInfo": {
     "elapsed": 4205,
     "status": "ok",
     "timestamp": 1534483313270,
     "user": {
      "displayName": "Debasish Padhi",
      "photoUrl": "//lh3.googleusercontent.com/-vcn0hxkFbTw/AAAAAAAAAAI/AAAAAAAAAHM/9ggzi4wqYg0/s50-c-k-no/photo.jpg",
      "userId": "112236557723789007632"
     },
     "user_tz": -330
    },
    "id": "NLaEgTwCDOm-",
    "outputId": "59047374-70aa-4128-a777-b9da12a8b010"
   },
   "outputs": [
    {
     "name": "stdout",
     "output_type": "stream",
     "text": [
      "\n",
      "The accuracy of the Naive Bayes classifier for alpha = 38 is 84.253594%\n"
     ]
    },
    {
     "data": {
      "text/plain": [
       "Text(0.5,1,'CONFUSION MATRIX')"
      ]
     },
     "execution_count": 37,
     "metadata": {
      "tags": []
     },
     "output_type": "execute_result"
    },
    {
     "data": {
      "image/png": "[encoded data removed]",
      "text/plain": [
       "<matplotlib.figure.Figure at 0x7fc6bb13ad68>"
      ]
     },
     "metadata": {
      "tags": []
     },
     "output_type": "display_data"
    }
   ],
   "source": [
    "\"\"\"\n",
    "This code snippet apply BernoulliNB for above lambda value\n",
    "\"\"\"\n",
    "# Instantiate learning model\n",
    "nb = BernoulliNB(alpha = optimal_alpha)\n",
    "# fitting the model\n",
    "nb.fit(final_tf_idf_train, y_train)\n",
    "# response prediction\n",
    "pred = nb.predict(final_tf_idf_test)\n",
    "# evaluate accuracy\n",
    "acc = accuracy_score(y_test, pred)*100\n",
    "print('\\nThe accuracy of the Naive Bayes classifier for alpha = %d is %f%%' % (optimal_alpha, acc))\n",
    "conf_matrix = confusion_matrix(y_test, pred)\n",
    "confusion_matrix_df = pd.DataFrame(conf_matrix,\n",
    "                                   [\"Negative\", \"Positive\"],\\\n",
    "                                   [\"Negative\", \"Positive\"],\\\n",
    "                                   dtype=int)\n",
    "sns.heatmap(confusion_matrix_df, annot=True, fmt=\"d\")\n",
    "plt.title(\"CONFUSION MATRIX\")"
   ]
  },
  {
   "cell_type": "code",
   "execution_count": 38,
   "metadata": {
    "colab": {
     "base_uri": "https://localhost:8080/",
     "height": 202
    },
    "colab_type": "code",
    "executionInfo": {
     "elapsed": 1900,
     "status": "ok",
     "timestamp": 1534483315284,
     "user": {
      "displayName": "Debasish Padhi",
      "photoUrl": "//lh3.googleusercontent.com/-vcn0hxkFbTw/AAAAAAAAAAI/AAAAAAAAAHM/9ggzi4wqYg0/s50-c-k-no/photo.jpg",
      "userId": "112236557723789007632"
     },
     "user_tz": -330
    },
    "id": "aAXHyJXcDOnD",
    "outputId": "89f81c59-4a72-428d-ec97-e6902a035360"
   },
   "outputs": [
    {
     "name": "stdout",
     "output_type": "stream",
     "text": [
      "             precision    recall  f1-score   support\n",
      "\n",
      "   negative       0.00      0.00      0.00     14336\n",
      "   positive       0.84      1.00      0.91     76707\n",
      "\n",
      "avg / total       0.71      0.84      0.77     91043\n",
      "\n"
     ]
    },
    {
     "name": "stderr",
     "output_type": "stream",
     "text": [
      "/usr/local/lib/python3.6/dist-packages/sklearn/metrics/classification.py:1135: UndefinedMetricWarning: Precision and F-score are ill-defined and being set to 0.0 in labels with no predicted samples.\n",
      "  'precision', 'predicted', average, warn_for)\n"
     ]
    }
   ],
   "source": [
    "\"\"\"\n",
    "This code snippet shows precision, recall, f1 and support scores for BernoulliNB\n",
    "\"\"\"\n",
    "print(classification_report(y_test, pred, target_names = np.unique(y_test)))"
   ]
  },
  {
   "cell_type": "code",
   "execution_count": 39,
   "metadata": {
    "colab": {
     "base_uri": "https://localhost:8080/",
     "height": 334
    },
    "colab_type": "code",
    "executionInfo": {
     "elapsed": 473957,
     "status": "ok",
     "timestamp": 1534483789404,
     "user": {
      "displayName": "Debasish Padhi",
      "photoUrl": "//lh3.googleusercontent.com/-vcn0hxkFbTw/AAAAAAAAAAI/AAAAAAAAAHM/9ggzi4wqYg0/s50-c-k-no/photo.jpg",
      "userId": "112236557723789007632"
     },
     "user_tz": -330
    },
    "id": "owA_Lfq7DOnK",
    "outputId": "8803fc0e-e162-42a0-e9fc-6f2c99c1a97c"
   },
   "outputs": [
    {
     "name": "stdout",
     "output_type": "stream",
     "text": [
      "The optimal value of alpha is 5.\n"
     ]
    },
    {
     "data": {
      "image/png": "[encoded data removed]",
      "text/plain": [
       "<matplotlib.figure.Figure at 0x7fc6b8e6e780>"
      ]
     },
     "metadata": {
      "tags": []
     },
     "output_type": "display_data"
    },
    {
     "name": "stdout",
     "output_type": "stream",
     "text": [
      "the misclassification error for each alpha value is :  [0.157 0.157 0.157 0.157 0.157 0.157 0.157 0.157 0.157 0.157 0.157 0.157\n",
      " 0.157 0.157 0.157 0.157 0.157 0.157 0.157]\n"
     ]
    }
   ],
   "source": [
    "\"\"\"\n",
    "This code snippet helps to find lamda for MultinomialNB and plot error\n",
    "\"\"\"\n",
    "# empty list that will hold cv scores\n",
    "cv_scores = []\n",
    "alpha_values = list(range(5,100,5))\n",
    "# perform 10-fold cross validation\n",
    "for al in alpha_values:\n",
    "    nb = MultinomialNB(alpha = al)\n",
    "    scores = cross_val_score(nb, final_tf_idf_train,\n",
    "                             y_train, cv=10,\n",
    "                             scoring='accuracy')\n",
    "    cv_scores.append(scores.mean())\n",
    "# changing to misclassification error\n",
    "MSE = [1 - x for x in cv_scores]\n",
    "\n",
    "# determining best alpha\n",
    "optimal_alpha = alpha_values[MSE.index(min(MSE))]\n",
    "print('The optimal value of alpha is %d.' % optimal_alpha)\n",
    "\n",
    "# plot misclassification error vs alpha\n",
    "plt.plot(alpha_values, MSE)\n",
    "\n",
    "for xy in zip(alpha_values, np.round(MSE,3)):\n",
    "    plt.annotate('(%s, %s)' % xy, xy=xy, textcoords='data')\n",
    "\n",
    "plt.xlabel('Alpha Values')\n",
    "plt.ylabel('Misclassification Error')\n",
    "plt.show()\n",
    "\n",
    "print(\"the misclassification error for each alpha value is : \", np.round(MSE,3))"
   ]
  },
  {
   "cell_type": "code",
   "execution_count": 40,
   "metadata": {
    "colab": {
     "base_uri": "https://localhost:8080/",
     "height": 335
    },
    "colab_type": "code",
    "executionInfo": {
     "elapsed": 4182,
     "status": "ok",
     "timestamp": 1534483793692,
     "user": {
      "displayName": "Debasish Padhi",
      "photoUrl": "//lh3.googleusercontent.com/-vcn0hxkFbTw/AAAAAAAAAAI/AAAAAAAAAHM/9ggzi4wqYg0/s50-c-k-no/photo.jpg",
      "userId": "112236557723789007632"
     },
     "user_tz": -330
    },
    "id": "0iQLhQeMDOnQ",
    "outputId": "f09b55d9-de5a-42d1-f246-ed127f1620a9"
   },
   "outputs": [
    {
     "name": "stdout",
     "output_type": "stream",
     "text": [
      "\n",
      "The accuracy of the Naive Bayes classifier for alpha = 5 is 84.253594%\n"
     ]
    },
    {
     "data": {
      "text/plain": [
       "Text(0.5,1,'CONFUSION MATRIX')"
      ]
     },
     "execution_count": 40,
     "metadata": {
      "tags": []
     },
     "output_type": "execute_result"
    },
    {
     "data": {
      "image/png": "[encoded data removed]",
      "text/plain": [
       "<matplotlib.figure.Figure at 0x7fc6b72a2cf8>"
      ]
     },
     "metadata": {
      "tags": []
     },
     "output_type": "display_data"
    }
   ],
   "source": [
    "\"\"\"\n",
    "This code snippet apply MultinomialNB for above lambda value\n",
    "\"\"\"\n",
    "# Instantiate learning model\n",
    "nb = MultinomialNB(alpha = optimal_alpha)\n",
    "# fitting the model\n",
    "nb.fit(final_tf_idf_train, y_train)\n",
    "# response prediction\n",
    "pred = nb.predict(final_tf_idf_test)\n",
    "# evaluate accuracy\n",
    "acc = accuracy_score(y_test, pred)*100\n",
    "print('\\nThe accuracy of the Naive Bayes classifier for alpha = %d is %f%%' % (optimal_alpha, acc))\n",
    "conf_matrix = confusion_matrix(y_test, pred)\n",
    "confusion_matrix_df = pd.DataFrame(conf_matrix,\n",
    "                                   [\"Negative\", \"Positive\"],\\\n",
    "                                   [\"Negative\", \"Positive\"],\\\n",
    "                                   dtype=int)\n",
    "sns.heatmap(confusion_matrix_df, annot=True, fmt=\"d\")\n",
    "plt.title(\"CONFUSION MATRIX\")"
   ]
  },
  {
   "cell_type": "code",
   "execution_count": 41,
   "metadata": {
    "colab": {
     "base_uri": "https://localhost:8080/",
     "height": 202
    },
    "colab_type": "code",
    "executionInfo": {
     "elapsed": 1985,
     "status": "ok",
     "timestamp": 1534483795800,
     "user": {
      "displayName": "Debasish Padhi",
      "photoUrl": "//lh3.googleusercontent.com/-vcn0hxkFbTw/AAAAAAAAAAI/AAAAAAAAAHM/9ggzi4wqYg0/s50-c-k-no/photo.jpg",
      "userId": "112236557723789007632"
     },
     "user_tz": -330
    },
    "id": "VeQoCNrLDOnW",
    "outputId": "dc0be3dc-8177-44a1-ce22-d1eb7f075c71"
   },
   "outputs": [
    {
     "name": "stdout",
     "output_type": "stream",
     "text": [
      "             precision    recall  f1-score   support\n",
      "\n",
      "   negative       0.00      0.00      0.00     14336\n",
      "   positive       0.84      1.00      0.91     76707\n",
      "\n",
      "avg / total       0.71      0.84      0.77     91043\n",
      "\n"
     ]
    },
    {
     "name": "stderr",
     "output_type": "stream",
     "text": [
      "/usr/local/lib/python3.6/dist-packages/sklearn/metrics/classification.py:1135: UndefinedMetricWarning: Precision and F-score are ill-defined and being set to 0.0 in labels with no predicted samples.\n",
      "  'precision', 'predicted', average, warn_for)\n"
     ]
    }
   ],
   "source": [
    "\"\"\"\n",
    "This code snippet shows precision, recall, f1 and support scores for MultinomialNB\n",
    "\"\"\"\n",
    "print(classification_report(y_test, pred, target_names = np.unique(y_test)))"
   ]
  },
  {
   "cell_type": "markdown",
   "metadata": {
    "colab_type": "text",
    "id": "-Im5Sncz-0Y0"
   },
   "source": [
    "#### Observation :\n",
    "* Here we have applied TF_IDF to convert text to vector.\n",
    "* We got best hyperparameter for the BernoulliNB model is 38 with accuracy 84.253594%% .\n",
    "* We got best hyperparameter for the MultinomialNB model is 5 with accuracy 84.253594% .\n",
    "* MultinomialNB model for TF_IDF is underfitting ."
   ]
  },
  {
   "cell_type": "markdown",
   "metadata": {
    "colab_type": "text",
    "id": "hRVQft3t_WYj"
   },
   "source": [
    "### Conclusion : \n",
    "##### From the above excercise I got to know that\n",
    "* BernoulliNB deals with binary classifications and MultinomialNB deals with multiclass classifications.\n",
    "* Through feature selection we can choose the important feature for our model to train on.\n",
    "* Naive Bayes is a performance benchmark for all advanced text classification techniques.\n",
    "\n"
   ]
  }
 ],
 "metadata": {
  "colab": {
   "collapsed_sections": [],
   "name": "Naive Bayes.ipynb",
   "provenance": [],
   "version": "0.3.2"
  },
  "kernelspec": {
   "display_name": "Python 3",
   "language": "python",
   "name": "python3"
  },
  "language_info": {
   "codemirror_mode": {
    "name": "ipython",
    "version": 3
   },
   "file_extension": ".py",
   "mimetype": "text/x-python",
   "name": "python",
   "nbconvert_exporter": "python",
   "pygments_lexer": "ipython3",
   "version": "3.6.4"
  }
 },
 "nbformat": 4,
 "nbformat_minor": 1
}
